{
 "cells": [
  {
   "cell_type": "markdown",
   "metadata": {},
   "source": [
    "**¡Hola Roberto!** 😊\n",
    "\n",
    "Mi nombre es **Alejandro Castellanos** y hoy tengo el placer de ser el revisor de tu proyecto.\n",
    "\n",
    "Voy a revisar todo tu código con detalle, buscando tanto los puntos fuertes como aquellos en los que podrías mejorar. Te dejaré comentarios a lo largo del notebook, destacando lo que has hecho bien y sugiriendo ajustes donde sea necesario. Si encuentro algún error, no te preocupes, te lo haré saber de forma clara y te daré información útil para que puedas corregirlo en la próxima iteración. Si en algún punto tienes comentarios, siéntete libre de dejarlos también.\n",
    "\n",
    "\n",
    "Encontrarás mis comentarios específicos dentro de cajas verdes, amarillas o rojas, es muy importante que no muevas, modifiques o borres mis comentarios, con el fin de tener un seguimiento adecuado de tu proceso:\n",
    "\n",
    "\n",
    "<div class=\"alert alert-block alert-success\">\n",
    "<b>Comentario del revisor</b> <a class=“tocSkip”></a>\n",
    "Si todo está perfecto.\n",
    "</div>\n",
    "\n",
    "<div class=\"alert alert-block alert-warning\">\n",
    "<b>Comentario del revisor</b> <a class=“tocSkip”></a>\n",
    "Si tu código está bien pero se puede mejorar o hay algún detalle que le hace falta.\n",
    "</div>\n",
    "\n",
    "<div class=\"alert alert-block alert-danger\">\n",
    "<b>Comentario del revisor</b> <a class=“tocSkip”></a>\n",
    "Si de pronto hace falta algo o existe algún problema con tu código o conclusiones.\n",
    "</div>\n",
    "\n",
    "Puedes responderme de esta forma:\n",
    "<div class=\"alert alert-block alert-info\">\n",
    "<b>Respuesta del estudiante</b> <a class=“tocSkip”></a>\n",
    "</div>\n",
    "\n",
    "A continuación te dejaré un comentario general con mi valoración del proyecto. **¡Mi objetivo es que sigas aprendiendo y mejorando con cada paso!**"
   ]
  },
  {
   "cell_type": "markdown",
   "metadata": {},
   "source": [
    "----"
   ]
  },
  {
   "cell_type": "markdown",
   "metadata": {},
   "source": [
    "<div class=\"alert alert-block alert-danger\">\n",
    "<b>Comentario General del revisor (1ra Iteración)</b> <a class=“tocSkip”></a>\n",
    "\n",
    "Roberto tu análisis exploratorio muestra un buen entendimiento de los datos, aunque sería beneficioso reorganizar la sección de agrupamiento y cálculo de cobros mensuales para mantener una estructura más clara. Ten en cuenta que debes revisar la agrupación de los datos de llamadas e internet para que el cobro se haga de manera correcta. Es importante que revises las uniones entre datasets para evitar inconsistencias en los nombres de las columnas, lo cual facilitará el análisis posterior. Para enriquecer el estudio del comportamiento de usuarios, te animo a incorporar elementos visuales y estadísticos que ayudarán a comunicar mejor tus hallazgos. En cuanto a las pruebas de hipótesis, te sugiero trabajar con el conjunto de datos que obtuviste en la sección de agrupación, siguiendo los comentarios específicos que dejé en tu trabajo. Por último, es fundamental que incluyas tu análisis interpretativo en cada sección para dar contexto y significado a los resultados obtenidos en el caso de estudio. ¡No te preocupes! Cada ajuste que haces es una oportunidad para aprender y mejorar. Vas por buen camino, y estoy seguro de que en la siguiente versión harás un gran trabajo y lograrás completar el proyecto con éxito. ¡Sigue adelante! \n",
    "    \n",
    "Estaré atento a tu próxima iteración 👀\n",
    "    \n",
    "*Estado del Proyecto:* **No Aprobado**\n",
    "\n",
    "</div>"
   ]
  },
  {
   "cell_type": "markdown",
   "metadata": {},
   "source": [
    "<div class=\"alert alert-block alert-success\">\n",
    "<b>Comentario General del revisor (2da Iteración)</b> <a class=“tocSkip”></a>\n",
    "\n",
    "¡Roberto excelente trabajo con los ajustes! Tu proyecto ahora cumple con todos los objetivos propuestos. Estoy seguro de que lo que aprendiste aquí te será muy útil en futuros proyectos. ¡Éxito en tu próximo sprint! 🚀\n",
    "\n",
    "*Estado del Proyecto:* **Aprobado**\n",
    "\n",
    "</div>"
   ]
  },
  {
   "cell_type": "markdown",
   "metadata": {},
   "source": [
    "---"
   ]
  },
  {
   "cell_type": "markdown",
   "metadata": {
    "id": "3rYiDeEH0q0f"
   },
   "source": [
    "# ¿Cuál es la mejor tarifa?\n",
    "\n",
    "Trabajas como analista para el operador de telecomunicaciones Megaline. La empresa ofrece a sus clientes dos tarifas de prepago, Surf y Ultimate. El departamento comercial quiere saber cuál de las tarifas genera más ingresos para poder ajustar el presupuesto de publicidad.\n",
    "\n",
    "Vas a realizar un análisis preliminar de las tarifas basado en una selección de clientes relativamente pequeña. Tendrás los datos de 500 clientes de Megaline: quiénes son los clientes, de dónde son, qué tarifa usan, así como la cantidad de llamadas que hicieron y los mensajes de texto que enviaron en 2018. Tu trabajo es analizar el comportamiento de los clientes y determinar qué tarifa de prepago genera más ingresos."
   ]
  },
  {
   "cell_type": "markdown",
   "metadata": {
    "id": "VNddPNRQ0q0w"
   },
   "source": [
    "[Te proporcionamos algunos comentarios para orientarte mientras completas este proyecto. Pero debes asegurarte de eliminar todos los comentarios entre corchetes antes de entregar tu proyecto.]\n",
    "\n",
    "[Antes de sumergirte en el análisis de datos, explica por tu propia cuenta el propósito del proyecto y las acciones que planeas realizar.]\n",
    "\n",
    "[Ten en cuenta que estudiar, modificar y analizar datos es un proceso iterativo. Es normal volver a los pasos anteriores y corregirlos/ampliarlos para permitir nuevos pasos.]"
   ]
  },
  {
   "cell_type": "markdown",
   "metadata": {
    "id": "MQi4IPy70q0y"
   },
   "source": [
    "## Inicialización"
   ]
  },
  {
   "cell_type": "code",
   "execution_count": 1,
   "metadata": {
    "id": "MtYIuBxu0q0z"
   },
   "outputs": [],
   "source": [
    "import pandas as pd \n",
    "from matplotlib import pyplot as plt\n",
    "from scipy import stats\n",
    "from scipy import stats as st\n",
    "import numpy as np\n",
    "import plotly.express as px\n",
    "import plotly.express as px\n",
    "from math import factorial\n",
    "from datetime import datetime"
   ]
  },
  {
   "cell_type": "markdown",
   "metadata": {
    "id": "4ysWWC5i0q00"
   },
   "source": [
    "## Cargar datos"
   ]
  },
  {
   "cell_type": "code",
   "execution_count": 2,
   "metadata": {
    "id": "CCqPW7rS0q01"
   },
   "outputs": [],
   "source": [
    "calls_df = pd.read_csv('/datasets/megaline_calls.csv')\n",
    "internet_df = pd.read_csv('/datasets/megaline_internet.csv')\n",
    "messages_df = pd.read_csv('/datasets/megaline_messages.csv')\n",
    "plans_df = pd.read_csv('/datasets/megaline_plans.csv')\n",
    "users_df = pd.read_csv('/datasets/megaline_users.csv')"
   ]
  },
  {
   "cell_type": "markdown",
   "metadata": {
    "id": "69qqoJ3r0q01"
   },
   "source": [
    "## Preparar los datos"
   ]
  },
  {
   "cell_type": "markdown",
   "metadata": {
    "id": "vUuZw80S0q01"
   },
   "source": [
    "[Los datos para este proyecto se dividen en varias tablas. Explora cada una para tener una comprensión inicial de los datos. Si es necesario, haz las correcciones requeridas en cada tabla.]"
   ]
  },
  {
   "cell_type": "code",
   "execution_count": 3,
   "metadata": {},
   "outputs": [
    {
     "data": {
      "text/html": [
       "<div>\n",
       "<style scoped>\n",
       "    .dataframe tbody tr th:only-of-type {\n",
       "        vertical-align: middle;\n",
       "    }\n",
       "\n",
       "    .dataframe tbody tr th {\n",
       "        vertical-align: top;\n",
       "    }\n",
       "\n",
       "    .dataframe thead th {\n",
       "        text-align: right;\n",
       "    }\n",
       "</style>\n",
       "<table border=\"1\" class=\"dataframe\">\n",
       "  <thead>\n",
       "    <tr style=\"text-align: right;\">\n",
       "      <th></th>\n",
       "      <th>id</th>\n",
       "      <th>user_id</th>\n",
       "      <th>call_date</th>\n",
       "      <th>duration</th>\n",
       "    </tr>\n",
       "  </thead>\n",
       "  <tbody>\n",
       "    <tr>\n",
       "      <th>0</th>\n",
       "      <td>1000_93</td>\n",
       "      <td>1000</td>\n",
       "      <td>2018-12-27</td>\n",
       "      <td>8.52</td>\n",
       "    </tr>\n",
       "    <tr>\n",
       "      <th>1</th>\n",
       "      <td>1000_145</td>\n",
       "      <td>1000</td>\n",
       "      <td>2018-12-27</td>\n",
       "      <td>13.66</td>\n",
       "    </tr>\n",
       "    <tr>\n",
       "      <th>2</th>\n",
       "      <td>1000_247</td>\n",
       "      <td>1000</td>\n",
       "      <td>2018-12-27</td>\n",
       "      <td>14.48</td>\n",
       "    </tr>\n",
       "    <tr>\n",
       "      <th>3</th>\n",
       "      <td>1000_309</td>\n",
       "      <td>1000</td>\n",
       "      <td>2018-12-28</td>\n",
       "      <td>5.76</td>\n",
       "    </tr>\n",
       "    <tr>\n",
       "      <th>4</th>\n",
       "      <td>1000_380</td>\n",
       "      <td>1000</td>\n",
       "      <td>2018-12-30</td>\n",
       "      <td>4.22</td>\n",
       "    </tr>\n",
       "  </tbody>\n",
       "</table>\n",
       "</div>"
      ],
      "text/plain": [
       "         id  user_id   call_date  duration\n",
       "0   1000_93     1000  2018-12-27      8.52\n",
       "1  1000_145     1000  2018-12-27     13.66\n",
       "2  1000_247     1000  2018-12-27     14.48\n",
       "3  1000_309     1000  2018-12-28      5.76\n",
       "4  1000_380     1000  2018-12-30      4.22"
      ]
     },
     "execution_count": 3,
     "metadata": {},
     "output_type": "execute_result"
    }
   ],
   "source": [
    "calls_df.head()"
   ]
  },
  {
   "cell_type": "code",
   "execution_count": 4,
   "metadata": {},
   "outputs": [
    {
     "data": {
      "text/html": [
       "<div>\n",
       "<style scoped>\n",
       "    .dataframe tbody tr th:only-of-type {\n",
       "        vertical-align: middle;\n",
       "    }\n",
       "\n",
       "    .dataframe tbody tr th {\n",
       "        vertical-align: top;\n",
       "    }\n",
       "\n",
       "    .dataframe thead th {\n",
       "        text-align: right;\n",
       "    }\n",
       "</style>\n",
       "<table border=\"1\" class=\"dataframe\">\n",
       "  <thead>\n",
       "    <tr style=\"text-align: right;\">\n",
       "      <th></th>\n",
       "      <th>id</th>\n",
       "      <th>user_id</th>\n",
       "      <th>session_date</th>\n",
       "      <th>mb_used</th>\n",
       "    </tr>\n",
       "  </thead>\n",
       "  <tbody>\n",
       "    <tr>\n",
       "      <th>0</th>\n",
       "      <td>1000_13</td>\n",
       "      <td>1000</td>\n",
       "      <td>2018-12-29</td>\n",
       "      <td>89.86</td>\n",
       "    </tr>\n",
       "    <tr>\n",
       "      <th>1</th>\n",
       "      <td>1000_204</td>\n",
       "      <td>1000</td>\n",
       "      <td>2018-12-31</td>\n",
       "      <td>0.00</td>\n",
       "    </tr>\n",
       "    <tr>\n",
       "      <th>2</th>\n",
       "      <td>1000_379</td>\n",
       "      <td>1000</td>\n",
       "      <td>2018-12-28</td>\n",
       "      <td>660.40</td>\n",
       "    </tr>\n",
       "    <tr>\n",
       "      <th>3</th>\n",
       "      <td>1000_413</td>\n",
       "      <td>1000</td>\n",
       "      <td>2018-12-26</td>\n",
       "      <td>270.99</td>\n",
       "    </tr>\n",
       "    <tr>\n",
       "      <th>4</th>\n",
       "      <td>1000_442</td>\n",
       "      <td>1000</td>\n",
       "      <td>2018-12-27</td>\n",
       "      <td>880.22</td>\n",
       "    </tr>\n",
       "  </tbody>\n",
       "</table>\n",
       "</div>"
      ],
      "text/plain": [
       "         id  user_id session_date  mb_used\n",
       "0   1000_13     1000   2018-12-29    89.86\n",
       "1  1000_204     1000   2018-12-31     0.00\n",
       "2  1000_379     1000   2018-12-28   660.40\n",
       "3  1000_413     1000   2018-12-26   270.99\n",
       "4  1000_442     1000   2018-12-27   880.22"
      ]
     },
     "execution_count": 4,
     "metadata": {},
     "output_type": "execute_result"
    }
   ],
   "source": [
    "internet_df.head()"
   ]
  },
  {
   "cell_type": "code",
   "execution_count": 5,
   "metadata": {},
   "outputs": [
    {
     "data": {
      "text/html": [
       "<div>\n",
       "<style scoped>\n",
       "    .dataframe tbody tr th:only-of-type {\n",
       "        vertical-align: middle;\n",
       "    }\n",
       "\n",
       "    .dataframe tbody tr th {\n",
       "        vertical-align: top;\n",
       "    }\n",
       "\n",
       "    .dataframe thead th {\n",
       "        text-align: right;\n",
       "    }\n",
       "</style>\n",
       "<table border=\"1\" class=\"dataframe\">\n",
       "  <thead>\n",
       "    <tr style=\"text-align: right;\">\n",
       "      <th></th>\n",
       "      <th>id</th>\n",
       "      <th>user_id</th>\n",
       "      <th>message_date</th>\n",
       "    </tr>\n",
       "  </thead>\n",
       "  <tbody>\n",
       "    <tr>\n",
       "      <th>0</th>\n",
       "      <td>1000_125</td>\n",
       "      <td>1000</td>\n",
       "      <td>2018-12-27</td>\n",
       "    </tr>\n",
       "    <tr>\n",
       "      <th>1</th>\n",
       "      <td>1000_160</td>\n",
       "      <td>1000</td>\n",
       "      <td>2018-12-31</td>\n",
       "    </tr>\n",
       "    <tr>\n",
       "      <th>2</th>\n",
       "      <td>1000_223</td>\n",
       "      <td>1000</td>\n",
       "      <td>2018-12-31</td>\n",
       "    </tr>\n",
       "    <tr>\n",
       "      <th>3</th>\n",
       "      <td>1000_251</td>\n",
       "      <td>1000</td>\n",
       "      <td>2018-12-27</td>\n",
       "    </tr>\n",
       "    <tr>\n",
       "      <th>4</th>\n",
       "      <td>1000_255</td>\n",
       "      <td>1000</td>\n",
       "      <td>2018-12-26</td>\n",
       "    </tr>\n",
       "  </tbody>\n",
       "</table>\n",
       "</div>"
      ],
      "text/plain": [
       "         id  user_id message_date\n",
       "0  1000_125     1000   2018-12-27\n",
       "1  1000_160     1000   2018-12-31\n",
       "2  1000_223     1000   2018-12-31\n",
       "3  1000_251     1000   2018-12-27\n",
       "4  1000_255     1000   2018-12-26"
      ]
     },
     "execution_count": 5,
     "metadata": {},
     "output_type": "execute_result"
    }
   ],
   "source": [
    "messages_df.head()"
   ]
  },
  {
   "cell_type": "code",
   "execution_count": 6,
   "metadata": {},
   "outputs": [
    {
     "data": {
      "text/html": [
       "<div>\n",
       "<style scoped>\n",
       "    .dataframe tbody tr th:only-of-type {\n",
       "        vertical-align: middle;\n",
       "    }\n",
       "\n",
       "    .dataframe tbody tr th {\n",
       "        vertical-align: top;\n",
       "    }\n",
       "\n",
       "    .dataframe thead th {\n",
       "        text-align: right;\n",
       "    }\n",
       "</style>\n",
       "<table border=\"1\" class=\"dataframe\">\n",
       "  <thead>\n",
       "    <tr style=\"text-align: right;\">\n",
       "      <th></th>\n",
       "      <th>user_id</th>\n",
       "      <th>first_name</th>\n",
       "      <th>last_name</th>\n",
       "      <th>age</th>\n",
       "      <th>city</th>\n",
       "      <th>reg_date</th>\n",
       "      <th>plan</th>\n",
       "      <th>churn_date</th>\n",
       "    </tr>\n",
       "  </thead>\n",
       "  <tbody>\n",
       "    <tr>\n",
       "      <th>0</th>\n",
       "      <td>1000</td>\n",
       "      <td>Anamaria</td>\n",
       "      <td>Bauer</td>\n",
       "      <td>45</td>\n",
       "      <td>Atlanta-Sandy Springs-Roswell, GA MSA</td>\n",
       "      <td>2018-12-24</td>\n",
       "      <td>ultimate</td>\n",
       "      <td>NaN</td>\n",
       "    </tr>\n",
       "    <tr>\n",
       "      <th>1</th>\n",
       "      <td>1001</td>\n",
       "      <td>Mickey</td>\n",
       "      <td>Wilkerson</td>\n",
       "      <td>28</td>\n",
       "      <td>Seattle-Tacoma-Bellevue, WA MSA</td>\n",
       "      <td>2018-08-13</td>\n",
       "      <td>surf</td>\n",
       "      <td>NaN</td>\n",
       "    </tr>\n",
       "    <tr>\n",
       "      <th>2</th>\n",
       "      <td>1002</td>\n",
       "      <td>Carlee</td>\n",
       "      <td>Hoffman</td>\n",
       "      <td>36</td>\n",
       "      <td>Las Vegas-Henderson-Paradise, NV MSA</td>\n",
       "      <td>2018-10-21</td>\n",
       "      <td>surf</td>\n",
       "      <td>NaN</td>\n",
       "    </tr>\n",
       "    <tr>\n",
       "      <th>3</th>\n",
       "      <td>1003</td>\n",
       "      <td>Reynaldo</td>\n",
       "      <td>Jenkins</td>\n",
       "      <td>52</td>\n",
       "      <td>Tulsa, OK MSA</td>\n",
       "      <td>2018-01-28</td>\n",
       "      <td>surf</td>\n",
       "      <td>NaN</td>\n",
       "    </tr>\n",
       "    <tr>\n",
       "      <th>4</th>\n",
       "      <td>1004</td>\n",
       "      <td>Leonila</td>\n",
       "      <td>Thompson</td>\n",
       "      <td>40</td>\n",
       "      <td>Seattle-Tacoma-Bellevue, WA MSA</td>\n",
       "      <td>2018-05-23</td>\n",
       "      <td>surf</td>\n",
       "      <td>NaN</td>\n",
       "    </tr>\n",
       "  </tbody>\n",
       "</table>\n",
       "</div>"
      ],
      "text/plain": [
       "   user_id first_name  last_name  age                                   city  \\\n",
       "0     1000   Anamaria      Bauer   45  Atlanta-Sandy Springs-Roswell, GA MSA   \n",
       "1     1001     Mickey  Wilkerson   28        Seattle-Tacoma-Bellevue, WA MSA   \n",
       "2     1002     Carlee    Hoffman   36   Las Vegas-Henderson-Paradise, NV MSA   \n",
       "3     1003   Reynaldo    Jenkins   52                          Tulsa, OK MSA   \n",
       "4     1004    Leonila   Thompson   40        Seattle-Tacoma-Bellevue, WA MSA   \n",
       "\n",
       "     reg_date      plan churn_date  \n",
       "0  2018-12-24  ultimate        NaN  \n",
       "1  2018-08-13      surf        NaN  \n",
       "2  2018-10-21      surf        NaN  \n",
       "3  2018-01-28      surf        NaN  \n",
       "4  2018-05-23      surf        NaN  "
      ]
     },
     "execution_count": 6,
     "metadata": {},
     "output_type": "execute_result"
    }
   ],
   "source": [
    "users_df.head()"
   ]
  },
  {
   "cell_type": "markdown",
   "metadata": {
    "id": "ohBhimvH0q01"
   },
   "source": [
    "## Tarifas"
   ]
  },
  {
   "cell_type": "code",
   "execution_count": 7,
   "metadata": {
    "id": "64xzjwL70q02"
   },
   "outputs": [
    {
     "data": {
      "text/html": [
       "<div>\n",
       "<style scoped>\n",
       "    .dataframe tbody tr th:only-of-type {\n",
       "        vertical-align: middle;\n",
       "    }\n",
       "\n",
       "    .dataframe tbody tr th {\n",
       "        vertical-align: top;\n",
       "    }\n",
       "\n",
       "    .dataframe thead th {\n",
       "        text-align: right;\n",
       "    }\n",
       "</style>\n",
       "<table border=\"1\" class=\"dataframe\">\n",
       "  <thead>\n",
       "    <tr style=\"text-align: right;\">\n",
       "      <th></th>\n",
       "      <th>messages_included</th>\n",
       "      <th>mb_per_month_included</th>\n",
       "      <th>minutes_included</th>\n",
       "      <th>usd_monthly_pay</th>\n",
       "      <th>usd_per_gb</th>\n",
       "      <th>usd_per_message</th>\n",
       "      <th>usd_per_minute</th>\n",
       "      <th>plan_name</th>\n",
       "    </tr>\n",
       "  </thead>\n",
       "  <tbody>\n",
       "    <tr>\n",
       "      <th>0</th>\n",
       "      <td>50</td>\n",
       "      <td>15360</td>\n",
       "      <td>500</td>\n",
       "      <td>20</td>\n",
       "      <td>10</td>\n",
       "      <td>0.03</td>\n",
       "      <td>0.03</td>\n",
       "      <td>surf</td>\n",
       "    </tr>\n",
       "    <tr>\n",
       "      <th>1</th>\n",
       "      <td>1000</td>\n",
       "      <td>30720</td>\n",
       "      <td>3000</td>\n",
       "      <td>70</td>\n",
       "      <td>7</td>\n",
       "      <td>0.01</td>\n",
       "      <td>0.01</td>\n",
       "      <td>ultimate</td>\n",
       "    </tr>\n",
       "  </tbody>\n",
       "</table>\n",
       "</div>"
      ],
      "text/plain": [
       "   messages_included  mb_per_month_included  minutes_included  \\\n",
       "0                 50                  15360               500   \n",
       "1               1000                  30720              3000   \n",
       "\n",
       "   usd_monthly_pay  usd_per_gb  usd_per_message  usd_per_minute plan_name  \n",
       "0               20          10             0.03            0.03      surf  \n",
       "1               70           7             0.01            0.01  ultimate  "
      ]
     },
     "execution_count": 7,
     "metadata": {},
     "output_type": "execute_result"
    }
   ],
   "source": [
    "plans_df.head()"
   ]
  },
  {
   "cell_type": "markdown",
   "metadata": {
    "id": "mEc_3_hs0q02"
   },
   "source": [
    "[Describe lo que ves y observas en la información general y en la muestra de datos impresa para el precio de datos anterior. ¿Hay algún problema (tipos de datos no adecuados, datos ausentes, etc.) que pudieran necesitar investigación y cambios adicionales? ¿Cómo se puede arreglar?]\n",
    "\n"
   ]
  },
  {
   "cell_type": "markdown",
   "metadata": {},
   "source": [
    "Lo que veo son datos desordenados y lo que hice fue tabularlos para usar columnas\n"
   ]
  },
  {
   "cell_type": "markdown",
   "metadata": {
    "id": "R3C05i1l0q03"
   },
   "source": [
    "### Corregir datos"
   ]
  },
  {
   "cell_type": "markdown",
   "metadata": {
    "id": "bIi8StZI0q03"
   },
   "source": [
    "[Corrige los problemas obvios con los datos basándote en las observaciones iniciales.]"
   ]
  },
  {
   "cell_type": "code",
   "execution_count": 8,
   "metadata": {
    "id": "Y7SVmjGn0q03"
   },
   "outputs": [
    {
     "data": {
      "text/html": [
       "<div>\n",
       "<style scoped>\n",
       "    .dataframe tbody tr th:only-of-type {\n",
       "        vertical-align: middle;\n",
       "    }\n",
       "\n",
       "    .dataframe tbody tr th {\n",
       "        vertical-align: top;\n",
       "    }\n",
       "\n",
       "    .dataframe thead th {\n",
       "        text-align: right;\n",
       "    }\n",
       "</style>\n",
       "<table border=\"1\" class=\"dataframe\">\n",
       "  <thead>\n",
       "    <tr style=\"text-align: right;\">\n",
       "      <th></th>\n",
       "      <th>messages_included</th>\n",
       "      <th>mb_per_month_included</th>\n",
       "      <th>minutes_included</th>\n",
       "      <th>usd_monthly_pay</th>\n",
       "      <th>usd_per_gb</th>\n",
       "      <th>usd_per_message</th>\n",
       "      <th>usd_per_minute</th>\n",
       "      <th>plan_name</th>\n",
       "    </tr>\n",
       "  </thead>\n",
       "  <tbody>\n",
       "    <tr>\n",
       "      <th>0</th>\n",
       "      <td>50</td>\n",
       "      <td>15360</td>\n",
       "      <td>500</td>\n",
       "      <td>20</td>\n",
       "      <td>10</td>\n",
       "      <td>0.03</td>\n",
       "      <td>0.03</td>\n",
       "      <td>surf</td>\n",
       "    </tr>\n",
       "    <tr>\n",
       "      <th>1</th>\n",
       "      <td>1000</td>\n",
       "      <td>30720</td>\n",
       "      <td>3000</td>\n",
       "      <td>70</td>\n",
       "      <td>7</td>\n",
       "      <td>0.01</td>\n",
       "      <td>0.01</td>\n",
       "      <td>ultimate</td>\n",
       "    </tr>\n",
       "  </tbody>\n",
       "</table>\n",
       "</div>"
      ],
      "text/plain": [
       "   messages_included  mb_per_month_included  minutes_included  \\\n",
       "0                 50                  15360               500   \n",
       "1               1000                  30720              3000   \n",
       "\n",
       "   usd_monthly_pay  usd_per_gb  usd_per_message  usd_per_minute plan_name  \n",
       "0               20          10             0.03            0.03      surf  \n",
       "1               70           7             0.01            0.01  ultimate  "
      ]
     },
     "execution_count": 8,
     "metadata": {},
     "output_type": "execute_result"
    }
   ],
   "source": [
    "plans_df.head()"
   ]
  },
  {
   "cell_type": "markdown",
   "metadata": {
    "id": "LJir7bml0q03"
   },
   "source": [
    "### Enriquecer los datos"
   ]
  },
  {
   "cell_type": "markdown",
   "metadata": {
    "id": "eqADpCfg0q04"
   },
   "source": [
    "[Agrega factores adicionales a los datos si crees que pudieran ser útiles.]"
   ]
  },
  {
   "cell_type": "code",
   "execution_count": 9,
   "metadata": {
    "id": "gfcIEuXV0q04"
   },
   "outputs": [
    {
     "data": {
      "text/html": [
       "<div>\n",
       "<style scoped>\n",
       "    .dataframe tbody tr th:only-of-type {\n",
       "        vertical-align: middle;\n",
       "    }\n",
       "\n",
       "    .dataframe tbody tr th {\n",
       "        vertical-align: top;\n",
       "    }\n",
       "\n",
       "    .dataframe thead th {\n",
       "        text-align: right;\n",
       "    }\n",
       "</style>\n",
       "<table border=\"1\" class=\"dataframe\">\n",
       "  <thead>\n",
       "    <tr style=\"text-align: right;\">\n",
       "      <th></th>\n",
       "      <th>messages_included</th>\n",
       "      <th>mb_per_month_included</th>\n",
       "      <th>minutes_included</th>\n",
       "      <th>usd_monthly_pay</th>\n",
       "      <th>usd_per_gb</th>\n",
       "      <th>usd_per_message</th>\n",
       "      <th>usd_per_minute</th>\n",
       "      <th>plan_name</th>\n",
       "    </tr>\n",
       "  </thead>\n",
       "  <tbody>\n",
       "    <tr>\n",
       "      <th>0</th>\n",
       "      <td>50</td>\n",
       "      <td>15360</td>\n",
       "      <td>500</td>\n",
       "      <td>20</td>\n",
       "      <td>10</td>\n",
       "      <td>0.03</td>\n",
       "      <td>0.03</td>\n",
       "      <td>surf</td>\n",
       "    </tr>\n",
       "    <tr>\n",
       "      <th>1</th>\n",
       "      <td>1000</td>\n",
       "      <td>30720</td>\n",
       "      <td>3000</td>\n",
       "      <td>70</td>\n",
       "      <td>7</td>\n",
       "      <td>0.01</td>\n",
       "      <td>0.01</td>\n",
       "      <td>ultimate</td>\n",
       "    </tr>\n",
       "  </tbody>\n",
       "</table>\n",
       "</div>"
      ],
      "text/plain": [
       "   messages_included  mb_per_month_included  minutes_included  \\\n",
       "0                 50                  15360               500   \n",
       "1               1000                  30720              3000   \n",
       "\n",
       "   usd_monthly_pay  usd_per_gb  usd_per_message  usd_per_minute plan_name  \n",
       "0               20          10             0.03            0.03      surf  \n",
       "1               70           7             0.01            0.01  ultimate  "
      ]
     },
     "execution_count": 9,
     "metadata": {},
     "output_type": "execute_result"
    }
   ],
   "source": [
    "plans_df.head()"
   ]
  },
  {
   "cell_type": "markdown",
   "metadata": {},
   "source": [
    "No se enriquecerán los datos porque son suficientes para el analisis "
   ]
  },
  {
   "cell_type": "markdown",
   "metadata": {
    "id": "1n2X6WXf0q04"
   },
   "source": [
    "## Usuarios/as"
   ]
  },
  {
   "cell_type": "code",
   "execution_count": 10,
   "metadata": {
    "id": "2NgjWFqx0q05"
   },
   "outputs": [
    {
     "name": "stdout",
     "output_type": "stream",
     "text": [
      "<class 'pandas.core.frame.DataFrame'>\n",
      "RangeIndex: 500 entries, 0 to 499\n",
      "Data columns (total 8 columns):\n",
      " #   Column      Non-Null Count  Dtype \n",
      "---  ------      --------------  ----- \n",
      " 0   user_id     500 non-null    int64 \n",
      " 1   first_name  500 non-null    object\n",
      " 2   last_name   500 non-null    object\n",
      " 3   age         500 non-null    int64 \n",
      " 4   city        500 non-null    object\n",
      " 5   reg_date    500 non-null    object\n",
      " 6   plan        500 non-null    object\n",
      " 7   churn_date  34 non-null     object\n",
      "dtypes: int64(2), object(6)\n",
      "memory usage: 31.4+ KB\n"
     ]
    }
   ],
   "source": [
    "# Imprimir información general sobre el DataFrame de usuarios\n",
    "users_df.info()"
   ]
  },
  {
   "cell_type": "markdown",
   "metadata": {
    "id": "dCZoUq4f0q06"
   },
   "source": [
    "[Describe lo que ves y observas en la información general y en la muestra de datos impresa para el precio de datos anterior. ¿Hay algún problema (tipos de datos no adecuados, datos ausentes, etc.) que pudieran necesitar investigación y cambios adicionales? ¿Cómo se puede arreglar?]"
   ]
  },
  {
   "cell_type": "markdown",
   "metadata": {},
   "source": [
    "No identifico algun proble por correjir"
   ]
  },
  {
   "cell_type": "markdown",
   "metadata": {
    "id": "BX5FQh_I0q06"
   },
   "source": [
    "### Corregir los datos"
   ]
  },
  {
   "cell_type": "markdown",
   "metadata": {
    "id": "8OdKMwJv0q06"
   },
   "source": [
    "[Corrige los problemas obvios con los datos basándote en las observaciones iniciales.]"
   ]
  },
  {
   "cell_type": "code",
   "execution_count": 11,
   "metadata": {
    "id": "yUqX-K0C0q07"
   },
   "outputs": [
    {
     "data": {
      "text/html": [
       "<div>\n",
       "<style scoped>\n",
       "    .dataframe tbody tr th:only-of-type {\n",
       "        vertical-align: middle;\n",
       "    }\n",
       "\n",
       "    .dataframe tbody tr th {\n",
       "        vertical-align: top;\n",
       "    }\n",
       "\n",
       "    .dataframe thead th {\n",
       "        text-align: right;\n",
       "    }\n",
       "</style>\n",
       "<table border=\"1\" class=\"dataframe\">\n",
       "  <thead>\n",
       "    <tr style=\"text-align: right;\">\n",
       "      <th></th>\n",
       "      <th>user_id</th>\n",
       "      <th>first_name</th>\n",
       "      <th>last_name</th>\n",
       "      <th>age</th>\n",
       "      <th>city</th>\n",
       "      <th>reg_date</th>\n",
       "      <th>plan</th>\n",
       "      <th>churn_date</th>\n",
       "    </tr>\n",
       "  </thead>\n",
       "  <tbody>\n",
       "    <tr>\n",
       "      <th>0</th>\n",
       "      <td>1000</td>\n",
       "      <td>Anamaria</td>\n",
       "      <td>Bauer</td>\n",
       "      <td>45</td>\n",
       "      <td>Atlanta-Sandy Springs-Roswell, GA MSA</td>\n",
       "      <td>2018-12-24</td>\n",
       "      <td>ultimate</td>\n",
       "      <td>NaN</td>\n",
       "    </tr>\n",
       "    <tr>\n",
       "      <th>1</th>\n",
       "      <td>1001</td>\n",
       "      <td>Mickey</td>\n",
       "      <td>Wilkerson</td>\n",
       "      <td>28</td>\n",
       "      <td>Seattle-Tacoma-Bellevue, WA MSA</td>\n",
       "      <td>2018-08-13</td>\n",
       "      <td>surf</td>\n",
       "      <td>NaN</td>\n",
       "    </tr>\n",
       "    <tr>\n",
       "      <th>2</th>\n",
       "      <td>1002</td>\n",
       "      <td>Carlee</td>\n",
       "      <td>Hoffman</td>\n",
       "      <td>36</td>\n",
       "      <td>Las Vegas-Henderson-Paradise, NV MSA</td>\n",
       "      <td>2018-10-21</td>\n",
       "      <td>surf</td>\n",
       "      <td>NaN</td>\n",
       "    </tr>\n",
       "    <tr>\n",
       "      <th>3</th>\n",
       "      <td>1003</td>\n",
       "      <td>Reynaldo</td>\n",
       "      <td>Jenkins</td>\n",
       "      <td>52</td>\n",
       "      <td>Tulsa, OK MSA</td>\n",
       "      <td>2018-01-28</td>\n",
       "      <td>surf</td>\n",
       "      <td>NaN</td>\n",
       "    </tr>\n",
       "    <tr>\n",
       "      <th>4</th>\n",
       "      <td>1004</td>\n",
       "      <td>Leonila</td>\n",
       "      <td>Thompson</td>\n",
       "      <td>40</td>\n",
       "      <td>Seattle-Tacoma-Bellevue, WA MSA</td>\n",
       "      <td>2018-05-23</td>\n",
       "      <td>surf</td>\n",
       "      <td>NaN</td>\n",
       "    </tr>\n",
       "  </tbody>\n",
       "</table>\n",
       "</div>"
      ],
      "text/plain": [
       "   user_id first_name  last_name  age                                   city  \\\n",
       "0     1000   Anamaria      Bauer   45  Atlanta-Sandy Springs-Roswell, GA MSA   \n",
       "1     1001     Mickey  Wilkerson   28        Seattle-Tacoma-Bellevue, WA MSA   \n",
       "2     1002     Carlee    Hoffman   36   Las Vegas-Henderson-Paradise, NV MSA   \n",
       "3     1003   Reynaldo    Jenkins   52                          Tulsa, OK MSA   \n",
       "4     1004    Leonila   Thompson   40        Seattle-Tacoma-Bellevue, WA MSA   \n",
       "\n",
       "     reg_date      plan churn_date  \n",
       "0  2018-12-24  ultimate        NaN  \n",
       "1  2018-08-13      surf        NaN  \n",
       "2  2018-10-21      surf        NaN  \n",
       "3  2018-01-28      surf        NaN  \n",
       "4  2018-05-23      surf        NaN  "
      ]
     },
     "execution_count": 11,
     "metadata": {},
     "output_type": "execute_result"
    }
   ],
   "source": [
    "users_df.head()"
   ]
  },
  {
   "cell_type": "markdown",
   "metadata": {},
   "source": [
    "No veo ningún dato a corregir."
   ]
  },
  {
   "cell_type": "markdown",
   "metadata": {
    "id": "ycwuARJp0q07"
   },
   "source": [
    "### Enriquecer los datos"
   ]
  },
  {
   "cell_type": "markdown",
   "metadata": {
    "id": "96NIh4CJ0q08"
   },
   "source": [
    "[Agrega factores adicionales a los datos si crees que pudieran ser útiles.]"
   ]
  },
  {
   "cell_type": "code",
   "execution_count": 12,
   "metadata": {
    "id": "iq0AaBS90q08"
   },
   "outputs": [
    {
     "data": {
      "text/html": [
       "<div>\n",
       "<style scoped>\n",
       "    .dataframe tbody tr th:only-of-type {\n",
       "        vertical-align: middle;\n",
       "    }\n",
       "\n",
       "    .dataframe tbody tr th {\n",
       "        vertical-align: top;\n",
       "    }\n",
       "\n",
       "    .dataframe thead th {\n",
       "        text-align: right;\n",
       "    }\n",
       "</style>\n",
       "<table border=\"1\" class=\"dataframe\">\n",
       "  <thead>\n",
       "    <tr style=\"text-align: right;\">\n",
       "      <th></th>\n",
       "      <th>user_id</th>\n",
       "      <th>first_name</th>\n",
       "      <th>last_name</th>\n",
       "      <th>age</th>\n",
       "      <th>city</th>\n",
       "      <th>reg_date</th>\n",
       "      <th>plan</th>\n",
       "      <th>churn_date</th>\n",
       "    </tr>\n",
       "  </thead>\n",
       "  <tbody>\n",
       "    <tr>\n",
       "      <th>0</th>\n",
       "      <td>1000</td>\n",
       "      <td>Anamaria</td>\n",
       "      <td>Bauer</td>\n",
       "      <td>45</td>\n",
       "      <td>Atlanta-Sandy Springs-Roswell, GA MSA</td>\n",
       "      <td>2018-12-24</td>\n",
       "      <td>ultimate</td>\n",
       "      <td>NaN</td>\n",
       "    </tr>\n",
       "    <tr>\n",
       "      <th>1</th>\n",
       "      <td>1001</td>\n",
       "      <td>Mickey</td>\n",
       "      <td>Wilkerson</td>\n",
       "      <td>28</td>\n",
       "      <td>Seattle-Tacoma-Bellevue, WA MSA</td>\n",
       "      <td>2018-08-13</td>\n",
       "      <td>surf</td>\n",
       "      <td>NaN</td>\n",
       "    </tr>\n",
       "    <tr>\n",
       "      <th>2</th>\n",
       "      <td>1002</td>\n",
       "      <td>Carlee</td>\n",
       "      <td>Hoffman</td>\n",
       "      <td>36</td>\n",
       "      <td>Las Vegas-Henderson-Paradise, NV MSA</td>\n",
       "      <td>2018-10-21</td>\n",
       "      <td>surf</td>\n",
       "      <td>NaN</td>\n",
       "    </tr>\n",
       "    <tr>\n",
       "      <th>3</th>\n",
       "      <td>1003</td>\n",
       "      <td>Reynaldo</td>\n",
       "      <td>Jenkins</td>\n",
       "      <td>52</td>\n",
       "      <td>Tulsa, OK MSA</td>\n",
       "      <td>2018-01-28</td>\n",
       "      <td>surf</td>\n",
       "      <td>NaN</td>\n",
       "    </tr>\n",
       "    <tr>\n",
       "      <th>4</th>\n",
       "      <td>1004</td>\n",
       "      <td>Leonila</td>\n",
       "      <td>Thompson</td>\n",
       "      <td>40</td>\n",
       "      <td>Seattle-Tacoma-Bellevue, WA MSA</td>\n",
       "      <td>2018-05-23</td>\n",
       "      <td>surf</td>\n",
       "      <td>NaN</td>\n",
       "    </tr>\n",
       "  </tbody>\n",
       "</table>\n",
       "</div>"
      ],
      "text/plain": [
       "   user_id first_name  last_name  age                                   city  \\\n",
       "0     1000   Anamaria      Bauer   45  Atlanta-Sandy Springs-Roswell, GA MSA   \n",
       "1     1001     Mickey  Wilkerson   28        Seattle-Tacoma-Bellevue, WA MSA   \n",
       "2     1002     Carlee    Hoffman   36   Las Vegas-Henderson-Paradise, NV MSA   \n",
       "3     1003   Reynaldo    Jenkins   52                          Tulsa, OK MSA   \n",
       "4     1004    Leonila   Thompson   40        Seattle-Tacoma-Bellevue, WA MSA   \n",
       "\n",
       "     reg_date      plan churn_date  \n",
       "0  2018-12-24  ultimate        NaN  \n",
       "1  2018-08-13      surf        NaN  \n",
       "2  2018-10-21      surf        NaN  \n",
       "3  2018-01-28      surf        NaN  \n",
       "4  2018-05-23      surf        NaN  "
      ]
     },
     "execution_count": 12,
     "metadata": {},
     "output_type": "execute_result"
    }
   ],
   "source": [
    "users_df.head()"
   ]
  },
  {
   "cell_type": "markdown",
   "metadata": {
    "id": "o7MeKCid0q08"
   },
   "source": [
    "## Llamadas"
   ]
  },
  {
   "cell_type": "code",
   "execution_count": 13,
   "metadata": {
    "id": "6dDlnoDm0q08"
   },
   "outputs": [
    {
     "name": "stdout",
     "output_type": "stream",
     "text": [
      "<class 'pandas.core.frame.DataFrame'>\n",
      "RangeIndex: 137735 entries, 0 to 137734\n",
      "Data columns (total 4 columns):\n",
      " #   Column     Non-Null Count   Dtype  \n",
      "---  ------     --------------   -----  \n",
      " 0   id         137735 non-null  object \n",
      " 1   user_id    137735 non-null  int64  \n",
      " 2   call_date  137735 non-null  object \n",
      " 3   duration   137735 non-null  float64\n",
      "dtypes: float64(1), int64(1), object(2)\n",
      "memory usage: 4.2+ MB\n"
     ]
    }
   ],
   "source": [
    "calls_df.info()"
   ]
  },
  {
   "cell_type": "markdown",
   "metadata": {
    "id": "DOAxYJSx0q09"
   },
   "source": [
    "[Describe lo que ves y observas en la información general y en la muestra de datos impresa para el precio de datos anterior. ¿Hay algún problema (tipos de datos no adecuados, datos ausentes, etc.) que pudieran necesitar investigación y cambios adicionales? ¿Cómo se puede arreglar?]\n",
    "\n",
    "Las columnas id y user_id tienen el tipo de dato int64, lo cual es correcto para identificadores únicos.\n",
    "\n",
    "La columna call_date tiene el tipo de dato datetime64[ns], lo cual es apropiado para fechas.\n",
    "\n",
    "La columna duration tiene el tipo de dato float64, lo cual es adecuado para representar la duración de las llamadas en minutos.\n",
    "\n",
    "No hay valores nulos en ninguna de las columnas, lo cual es positivo, ya que no necesitamos manejar datos ausentes.\n",
    "\n"
   ]
  },
  {
   "cell_type": "markdown",
   "metadata": {
    "id": "S7hzxmbX0q0-"
   },
   "source": [
    "### Corregir los datos"
   ]
  },
  {
   "cell_type": "markdown",
   "metadata": {
    "id": "YxWyAjD20q0-"
   },
   "source": [
    "[Corrige los problemas obvios con los datos basándote en las observaciones iniciales.]"
   ]
  },
  {
   "cell_type": "code",
   "execution_count": 14,
   "metadata": {
    "id": "S2r8xA4f0q0-"
   },
   "outputs": [
    {
     "name": "stdout",
     "output_type": "stream",
     "text": [
      "<class 'pandas.core.frame.DataFrame'>\n",
      "RangeIndex: 137735 entries, 0 to 137734\n",
      "Data columns (total 4 columns):\n",
      " #   Column     Non-Null Count   Dtype         \n",
      "---  ------     --------------   -----         \n",
      " 0   id         137735 non-null  object        \n",
      " 1   user_id    137735 non-null  int64         \n",
      " 2   call_date  137735 non-null  datetime64[ns]\n",
      " 3   duration   137735 non-null  float64       \n",
      "dtypes: datetime64[ns](1), float64(1), int64(1), object(1)\n",
      "memory usage: 4.2+ MB\n"
     ]
    }
   ],
   "source": [
    "calls_df['call_date'] = pd.to_datetime(calls_df['call_date'], format=\"%Y-%m-%d %H:%M:%S\")\n",
    "calls_df.info()"
   ]
  },
  {
   "cell_type": "markdown",
   "metadata": {
    "id": "KrMgTrlG0q0_"
   },
   "source": [
    "### Enriquecer los datos"
   ]
  },
  {
   "cell_type": "markdown",
   "metadata": {
    "id": "a9MbmEvE0q0_"
   },
   "source": [
    "[Agrega factores adicionales a los datos si crees que pudieran ser útiles.]"
   ]
  },
  {
   "cell_type": "code",
   "execution_count": 15,
   "metadata": {
    "id": "iZ1avpA_0q0_"
   },
   "outputs": [
    {
     "data": {
      "text/html": [
       "<div>\n",
       "<style scoped>\n",
       "    .dataframe tbody tr th:only-of-type {\n",
       "        vertical-align: middle;\n",
       "    }\n",
       "\n",
       "    .dataframe tbody tr th {\n",
       "        vertical-align: top;\n",
       "    }\n",
       "\n",
       "    .dataframe thead th {\n",
       "        text-align: right;\n",
       "    }\n",
       "</style>\n",
       "<table border=\"1\" class=\"dataframe\">\n",
       "  <thead>\n",
       "    <tr style=\"text-align: right;\">\n",
       "      <th></th>\n",
       "      <th>id</th>\n",
       "      <th>user_id</th>\n",
       "      <th>call_date</th>\n",
       "      <th>duration</th>\n",
       "      <th>month</th>\n",
       "      <th>year</th>\n",
       "      <th>day_of_week</th>\n",
       "      <th>rounded_duration</th>\n",
       "    </tr>\n",
       "  </thead>\n",
       "  <tbody>\n",
       "    <tr>\n",
       "      <th>0</th>\n",
       "      <td>1000_93</td>\n",
       "      <td>1000</td>\n",
       "      <td>2018-12-27</td>\n",
       "      <td>8.52</td>\n",
       "      <td>12</td>\n",
       "      <td>2018</td>\n",
       "      <td>Thursday</td>\n",
       "      <td>9</td>\n",
       "    </tr>\n",
       "    <tr>\n",
       "      <th>1</th>\n",
       "      <td>1000_145</td>\n",
       "      <td>1000</td>\n",
       "      <td>2018-12-27</td>\n",
       "      <td>13.66</td>\n",
       "      <td>12</td>\n",
       "      <td>2018</td>\n",
       "      <td>Thursday</td>\n",
       "      <td>14</td>\n",
       "    </tr>\n",
       "    <tr>\n",
       "      <th>2</th>\n",
       "      <td>1000_247</td>\n",
       "      <td>1000</td>\n",
       "      <td>2018-12-27</td>\n",
       "      <td>14.48</td>\n",
       "      <td>12</td>\n",
       "      <td>2018</td>\n",
       "      <td>Thursday</td>\n",
       "      <td>15</td>\n",
       "    </tr>\n",
       "    <tr>\n",
       "      <th>3</th>\n",
       "      <td>1000_309</td>\n",
       "      <td>1000</td>\n",
       "      <td>2018-12-28</td>\n",
       "      <td>5.76</td>\n",
       "      <td>12</td>\n",
       "      <td>2018</td>\n",
       "      <td>Friday</td>\n",
       "      <td>6</td>\n",
       "    </tr>\n",
       "    <tr>\n",
       "      <th>4</th>\n",
       "      <td>1000_380</td>\n",
       "      <td>1000</td>\n",
       "      <td>2018-12-30</td>\n",
       "      <td>4.22</td>\n",
       "      <td>12</td>\n",
       "      <td>2018</td>\n",
       "      <td>Sunday</td>\n",
       "      <td>5</td>\n",
       "    </tr>\n",
       "  </tbody>\n",
       "</table>\n",
       "</div>"
      ],
      "text/plain": [
       "         id  user_id  call_date  duration  month  year day_of_week  \\\n",
       "0   1000_93     1000 2018-12-27      8.52     12  2018    Thursday   \n",
       "1  1000_145     1000 2018-12-27     13.66     12  2018    Thursday   \n",
       "2  1000_247     1000 2018-12-27     14.48     12  2018    Thursday   \n",
       "3  1000_309     1000 2018-12-28      5.76     12  2018      Friday   \n",
       "4  1000_380     1000 2018-12-30      4.22     12  2018      Sunday   \n",
       "\n",
       "   rounded_duration  \n",
       "0                 9  \n",
       "1                14  \n",
       "2                15  \n",
       "3                 6  \n",
       "4                 5  "
      ]
     },
     "execution_count": 15,
     "metadata": {},
     "output_type": "execute_result"
    }
   ],
   "source": [
    "# Extraer mes y año de la llamada\n",
    "calls_df['month'] = calls_df['call_date'].dt.month\n",
    "calls_df['year'] = calls_df['call_date'].dt.year\n",
    "\n",
    "# Extraer día de la semana de la llamada\n",
    "calls_df['day_of_week'] = calls_df['call_date'].dt.day_name()\n",
    "\n",
    "# Redondear la duración de las llamadas al minuto más cercano\n",
    "calls_df['rounded_duration'] = calls_df['duration'].apply(lambda x: int(x) + 1 if x % 1 > 0 else int(x))\n",
    "\n",
    "# Mostrar una muestra de los datos enriquecidos\n",
    "calls_df.head()"
   ]
  },
  {
   "cell_type": "markdown",
   "metadata": {},
   "source": [
    "<div class=\"alert alert-block alert-success\">\n",
    "<b>Comentario del revisor (1ra Iteración)</b> <a class=“tocSkip”></a>\n",
    "\n",
    "¡Muy buen trabajo Roberto! Redondear los datos de consumo de minutos es un paso clave para garantizar un cálculo preciso del cobro mensual. Una función más optima que podrías usar para esta tarea es `np.ceil()`\n",
    "\n",
    "</div>"
   ]
  },
  {
   "cell_type": "markdown",
   "metadata": {
    "id": "mOUZSi180q0_"
   },
   "source": [
    "## Mensajes"
   ]
  },
  {
   "cell_type": "code",
   "execution_count": 16,
   "metadata": {
    "id": "R-bYJpdV0q1A"
   },
   "outputs": [
    {
     "name": "stdout",
     "output_type": "stream",
     "text": [
      "<class 'pandas.core.frame.DataFrame'>\n",
      "RangeIndex: 76051 entries, 0 to 76050\n",
      "Data columns (total 3 columns):\n",
      " #   Column        Non-Null Count  Dtype \n",
      "---  ------        --------------  ----- \n",
      " 0   id            76051 non-null  object\n",
      " 1   user_id       76051 non-null  int64 \n",
      " 2   message_date  76051 non-null  object\n",
      "dtypes: int64(1), object(2)\n",
      "memory usage: 1.7+ MB\n"
     ]
    }
   ],
   "source": [
    "messages_df.info()"
   ]
  },
  {
   "cell_type": "code",
   "execution_count": 17,
   "metadata": {
    "id": "mCEl2iGE0q1A"
   },
   "outputs": [
    {
     "data": {
      "text/html": [
       "<div>\n",
       "<style scoped>\n",
       "    .dataframe tbody tr th:only-of-type {\n",
       "        vertical-align: middle;\n",
       "    }\n",
       "\n",
       "    .dataframe tbody tr th {\n",
       "        vertical-align: top;\n",
       "    }\n",
       "\n",
       "    .dataframe thead th {\n",
       "        text-align: right;\n",
       "    }\n",
       "</style>\n",
       "<table border=\"1\" class=\"dataframe\">\n",
       "  <thead>\n",
       "    <tr style=\"text-align: right;\">\n",
       "      <th></th>\n",
       "      <th>id</th>\n",
       "      <th>user_id</th>\n",
       "      <th>message_date</th>\n",
       "    </tr>\n",
       "  </thead>\n",
       "  <tbody>\n",
       "    <tr>\n",
       "      <th>0</th>\n",
       "      <td>1000_125</td>\n",
       "      <td>1000</td>\n",
       "      <td>2018-12-27</td>\n",
       "    </tr>\n",
       "    <tr>\n",
       "      <th>1</th>\n",
       "      <td>1000_160</td>\n",
       "      <td>1000</td>\n",
       "      <td>2018-12-31</td>\n",
       "    </tr>\n",
       "    <tr>\n",
       "      <th>2</th>\n",
       "      <td>1000_223</td>\n",
       "      <td>1000</td>\n",
       "      <td>2018-12-31</td>\n",
       "    </tr>\n",
       "    <tr>\n",
       "      <th>3</th>\n",
       "      <td>1000_251</td>\n",
       "      <td>1000</td>\n",
       "      <td>2018-12-27</td>\n",
       "    </tr>\n",
       "    <tr>\n",
       "      <th>4</th>\n",
       "      <td>1000_255</td>\n",
       "      <td>1000</td>\n",
       "      <td>2018-12-26</td>\n",
       "    </tr>\n",
       "  </tbody>\n",
       "</table>\n",
       "</div>"
      ],
      "text/plain": [
       "         id  user_id message_date\n",
       "0  1000_125     1000   2018-12-27\n",
       "1  1000_160     1000   2018-12-31\n",
       "2  1000_223     1000   2018-12-31\n",
       "3  1000_251     1000   2018-12-27\n",
       "4  1000_255     1000   2018-12-26"
      ]
     },
     "execution_count": 17,
     "metadata": {},
     "output_type": "execute_result"
    }
   ],
   "source": [
    "messages_df.head()"
   ]
  },
  {
   "cell_type": "markdown",
   "metadata": {
    "id": "04xDj7KH0q1A"
   },
   "source": [
    "[Describe lo que ves y observas en la información general y en la muestra de datos impresa para el precio de datos anterior. ¿Hay algún problema (tipos de datos no adecuados, datos ausentes, etc.) que pudieran necesitar investigación y cambios adicionales? ¿Cómo se puede arreglar?]"
   ]
  },
  {
   "cell_type": "markdown",
   "metadata": {},
   "source": [
    "No veo ningun problema a corregir"
   ]
  },
  {
   "cell_type": "markdown",
   "metadata": {
    "id": "Sprfak900q1B"
   },
   "source": [
    "### Corregir los datos"
   ]
  },
  {
   "cell_type": "markdown",
   "metadata": {
    "id": "eGw7d9j10q1B"
   },
   "source": [
    "[Corrige los problemas obvios con los datos basándote en las observaciones iniciales.]"
   ]
  },
  {
   "cell_type": "code",
   "execution_count": 18,
   "metadata": {
    "id": "vsllvkoa0q1B"
   },
   "outputs": [
    {
     "data": {
      "text/html": [
       "<div>\n",
       "<style scoped>\n",
       "    .dataframe tbody tr th:only-of-type {\n",
       "        vertical-align: middle;\n",
       "    }\n",
       "\n",
       "    .dataframe tbody tr th {\n",
       "        vertical-align: top;\n",
       "    }\n",
       "\n",
       "    .dataframe thead th {\n",
       "        text-align: right;\n",
       "    }\n",
       "</style>\n",
       "<table border=\"1\" class=\"dataframe\">\n",
       "  <thead>\n",
       "    <tr style=\"text-align: right;\">\n",
       "      <th></th>\n",
       "      <th>id</th>\n",
       "      <th>user_id</th>\n",
       "      <th>message_date</th>\n",
       "    </tr>\n",
       "  </thead>\n",
       "  <tbody>\n",
       "    <tr>\n",
       "      <th>0</th>\n",
       "      <td>1000_125</td>\n",
       "      <td>1000</td>\n",
       "      <td>2018-12-27</td>\n",
       "    </tr>\n",
       "    <tr>\n",
       "      <th>1</th>\n",
       "      <td>1000_160</td>\n",
       "      <td>1000</td>\n",
       "      <td>2018-12-31</td>\n",
       "    </tr>\n",
       "    <tr>\n",
       "      <th>2</th>\n",
       "      <td>1000_223</td>\n",
       "      <td>1000</td>\n",
       "      <td>2018-12-31</td>\n",
       "    </tr>\n",
       "    <tr>\n",
       "      <th>3</th>\n",
       "      <td>1000_251</td>\n",
       "      <td>1000</td>\n",
       "      <td>2018-12-27</td>\n",
       "    </tr>\n",
       "    <tr>\n",
       "      <th>4</th>\n",
       "      <td>1000_255</td>\n",
       "      <td>1000</td>\n",
       "      <td>2018-12-26</td>\n",
       "    </tr>\n",
       "  </tbody>\n",
       "</table>\n",
       "</div>"
      ],
      "text/plain": [
       "         id  user_id message_date\n",
       "0  1000_125     1000   2018-12-27\n",
       "1  1000_160     1000   2018-12-31\n",
       "2  1000_223     1000   2018-12-31\n",
       "3  1000_251     1000   2018-12-27\n",
       "4  1000_255     1000   2018-12-26"
      ]
     },
     "execution_count": 18,
     "metadata": {},
     "output_type": "execute_result"
    }
   ],
   "source": [
    "messages_df['message_date'] = pd.to_datetime(messages_df['message_date'], format=\"%Y-%m-%d %H:%M:%S\")\n",
    "messages_df.head()"
   ]
  },
  {
   "cell_type": "markdown",
   "metadata": {
    "id": "HvLid7iD0q1B"
   },
   "source": [
    "### Enriquecer los datos"
   ]
  },
  {
   "cell_type": "markdown",
   "metadata": {
    "id": "8nhPFKIe0q1C"
   },
   "source": [
    "[Agrega factores adicionales a los datos si crees que pudieran ser útiles.]"
   ]
  },
  {
   "cell_type": "code",
   "execution_count": 19,
   "metadata": {
    "id": "zYEXZac10q1C"
   },
   "outputs": [
    {
     "data": {
      "text/html": [
       "<div>\n",
       "<style scoped>\n",
       "    .dataframe tbody tr th:only-of-type {\n",
       "        vertical-align: middle;\n",
       "    }\n",
       "\n",
       "    .dataframe tbody tr th {\n",
       "        vertical-align: top;\n",
       "    }\n",
       "\n",
       "    .dataframe thead th {\n",
       "        text-align: right;\n",
       "    }\n",
       "</style>\n",
       "<table border=\"1\" class=\"dataframe\">\n",
       "  <thead>\n",
       "    <tr style=\"text-align: right;\">\n",
       "      <th></th>\n",
       "      <th>id</th>\n",
       "      <th>user_id</th>\n",
       "      <th>message_date</th>\n",
       "      <th>month</th>\n",
       "      <th>year</th>\n",
       "      <th>day_of_week</th>\n",
       "    </tr>\n",
       "  </thead>\n",
       "  <tbody>\n",
       "    <tr>\n",
       "      <th>0</th>\n",
       "      <td>1000_125</td>\n",
       "      <td>1000</td>\n",
       "      <td>2018-12-27</td>\n",
       "      <td>12</td>\n",
       "      <td>2018</td>\n",
       "      <td>Thursday</td>\n",
       "    </tr>\n",
       "    <tr>\n",
       "      <th>1</th>\n",
       "      <td>1000_160</td>\n",
       "      <td>1000</td>\n",
       "      <td>2018-12-31</td>\n",
       "      <td>12</td>\n",
       "      <td>2018</td>\n",
       "      <td>Monday</td>\n",
       "    </tr>\n",
       "    <tr>\n",
       "      <th>2</th>\n",
       "      <td>1000_223</td>\n",
       "      <td>1000</td>\n",
       "      <td>2018-12-31</td>\n",
       "      <td>12</td>\n",
       "      <td>2018</td>\n",
       "      <td>Monday</td>\n",
       "    </tr>\n",
       "    <tr>\n",
       "      <th>3</th>\n",
       "      <td>1000_251</td>\n",
       "      <td>1000</td>\n",
       "      <td>2018-12-27</td>\n",
       "      <td>12</td>\n",
       "      <td>2018</td>\n",
       "      <td>Thursday</td>\n",
       "    </tr>\n",
       "    <tr>\n",
       "      <th>4</th>\n",
       "      <td>1000_255</td>\n",
       "      <td>1000</td>\n",
       "      <td>2018-12-26</td>\n",
       "      <td>12</td>\n",
       "      <td>2018</td>\n",
       "      <td>Wednesday</td>\n",
       "    </tr>\n",
       "  </tbody>\n",
       "</table>\n",
       "</div>"
      ],
      "text/plain": [
       "         id  user_id message_date  month  year day_of_week\n",
       "0  1000_125     1000   2018-12-27     12  2018    Thursday\n",
       "1  1000_160     1000   2018-12-31     12  2018      Monday\n",
       "2  1000_223     1000   2018-12-31     12  2018      Monday\n",
       "3  1000_251     1000   2018-12-27     12  2018    Thursday\n",
       "4  1000_255     1000   2018-12-26     12  2018   Wednesday"
      ]
     },
     "execution_count": 19,
     "metadata": {},
     "output_type": "execute_result"
    }
   ],
   "source": [
    "# Convertir 'message_date' a datetime\n",
    "messages_df['message_date'] = pd.to_datetime(messages_df['message_date'])\n",
    "\n",
    "# Extraer mes y año del mensaje\n",
    "messages_df['month'] = messages_df['message_date'].dt.month\n",
    "messages_df['year'] = messages_df['message_date'].dt.year\n",
    "\n",
    "# Extraer día de la semana del mensaje\n",
    "messages_df['day_of_week'] = messages_df['message_date'].dt.day_name()\n",
    "\n",
    "messages_df.head()"
   ]
  },
  {
   "cell_type": "markdown",
   "metadata": {
    "id": "bStkaxn40q1C"
   },
   "source": [
    "## Internet"
   ]
  },
  {
   "cell_type": "code",
   "execution_count": 20,
   "metadata": {
    "id": "e-Uz5qyn0q1C"
   },
   "outputs": [
    {
     "name": "stdout",
     "output_type": "stream",
     "text": [
      "<class 'pandas.core.frame.DataFrame'>\n",
      "RangeIndex: 104825 entries, 0 to 104824\n",
      "Data columns (total 4 columns):\n",
      " #   Column        Non-Null Count   Dtype  \n",
      "---  ------        --------------   -----  \n",
      " 0   id            104825 non-null  object \n",
      " 1   user_id       104825 non-null  int64  \n",
      " 2   session_date  104825 non-null  object \n",
      " 3   mb_used       104825 non-null  float64\n",
      "dtypes: float64(1), int64(1), object(2)\n",
      "memory usage: 3.2+ MB\n"
     ]
    }
   ],
   "source": [
    "internet_df.info()"
   ]
  },
  {
   "cell_type": "markdown",
   "metadata": {
    "id": "EzOG5ik30q1D"
   },
   "source": [
    "[Describe lo que ves y observas en la información general y en la muestra de datos impresa para el precio de datos anterior. ¿Hay algún problema (tipos de datos no adecuados, datos ausentes, etc.) que pudieran necesitar investigación y cambios adicionales? ¿Cómo se puede arreglar?]\n",
    "\n",
    "Tipos de datos:\n",
    "\n",
    "La columna session_date ya está en formato de fecha (datetime64[ns]), lo cual es adecuado.\n",
    "\n",
    "Las columnas id, mb_used y user_id tienen tipos de datos adecuados (int64 y float64).\n",
    "\n",
    "Datos ausentes:\n",
    "\n",
    "No hay valores nulos en el DataFrame, lo cual es positivo."
   ]
  },
  {
   "cell_type": "markdown",
   "metadata": {
    "id": "yA0tkPFg0q1D"
   },
   "source": [
    "### Corregir los datos"
   ]
  },
  {
   "cell_type": "markdown",
   "metadata": {
    "id": "zlZMuIEK0q1D"
   },
   "source": [
    "[Corrige los problemas obvios con los datos basándote en las observaciones iniciales.]"
   ]
  },
  {
   "cell_type": "code",
   "execution_count": 21,
   "metadata": {
    "id": "zVeanzdd0q1E"
   },
   "outputs": [
    {
     "data": {
      "text/html": [
       "<div>\n",
       "<style scoped>\n",
       "    .dataframe tbody tr th:only-of-type {\n",
       "        vertical-align: middle;\n",
       "    }\n",
       "\n",
       "    .dataframe tbody tr th {\n",
       "        vertical-align: top;\n",
       "    }\n",
       "\n",
       "    .dataframe thead th {\n",
       "        text-align: right;\n",
       "    }\n",
       "</style>\n",
       "<table border=\"1\" class=\"dataframe\">\n",
       "  <thead>\n",
       "    <tr style=\"text-align: right;\">\n",
       "      <th></th>\n",
       "      <th>id</th>\n",
       "      <th>user_id</th>\n",
       "      <th>session_date</th>\n",
       "      <th>mb_used</th>\n",
       "    </tr>\n",
       "  </thead>\n",
       "  <tbody>\n",
       "    <tr>\n",
       "      <th>0</th>\n",
       "      <td>1000_13</td>\n",
       "      <td>1000</td>\n",
       "      <td>2018-12-29</td>\n",
       "      <td>89.86</td>\n",
       "    </tr>\n",
       "    <tr>\n",
       "      <th>1</th>\n",
       "      <td>1000_204</td>\n",
       "      <td>1000</td>\n",
       "      <td>2018-12-31</td>\n",
       "      <td>0.00</td>\n",
       "    </tr>\n",
       "    <tr>\n",
       "      <th>2</th>\n",
       "      <td>1000_379</td>\n",
       "      <td>1000</td>\n",
       "      <td>2018-12-28</td>\n",
       "      <td>660.40</td>\n",
       "    </tr>\n",
       "    <tr>\n",
       "      <th>3</th>\n",
       "      <td>1000_413</td>\n",
       "      <td>1000</td>\n",
       "      <td>2018-12-26</td>\n",
       "      <td>270.99</td>\n",
       "    </tr>\n",
       "    <tr>\n",
       "      <th>4</th>\n",
       "      <td>1000_442</td>\n",
       "      <td>1000</td>\n",
       "      <td>2018-12-27</td>\n",
       "      <td>880.22</td>\n",
       "    </tr>\n",
       "  </tbody>\n",
       "</table>\n",
       "</div>"
      ],
      "text/plain": [
       "         id  user_id session_date  mb_used\n",
       "0   1000_13     1000   2018-12-29    89.86\n",
       "1  1000_204     1000   2018-12-31     0.00\n",
       "2  1000_379     1000   2018-12-28   660.40\n",
       "3  1000_413     1000   2018-12-26   270.99\n",
       "4  1000_442     1000   2018-12-27   880.22"
      ]
     },
     "execution_count": 21,
     "metadata": {},
     "output_type": "execute_result"
    }
   ],
   "source": [
    "internet_df['session_date'] = pd.to_datetime(internet_df['session_date'], format=\"%Y-%m-%d %H:%M:%S\")\n",
    "internet_df.head()"
   ]
  },
  {
   "cell_type": "markdown",
   "metadata": {
    "id": "e8_mLF4a0q1E"
   },
   "source": [
    "### Enriquecer los datos"
   ]
  },
  {
   "cell_type": "markdown",
   "metadata": {
    "id": "xhNdn2tE0q1E"
   },
   "source": [
    "[Agrega factores adicionales a los datos si crees que pudieran ser útiles.]"
   ]
  },
  {
   "cell_type": "code",
   "execution_count": 22,
   "metadata": {
    "id": "ESiYPIEK0q1E"
   },
   "outputs": [
    {
     "data": {
      "text/html": [
       "<div>\n",
       "<style scoped>\n",
       "    .dataframe tbody tr th:only-of-type {\n",
       "        vertical-align: middle;\n",
       "    }\n",
       "\n",
       "    .dataframe tbody tr th {\n",
       "        vertical-align: top;\n",
       "    }\n",
       "\n",
       "    .dataframe thead th {\n",
       "        text-align: right;\n",
       "    }\n",
       "</style>\n",
       "<table border=\"1\" class=\"dataframe\">\n",
       "  <thead>\n",
       "    <tr style=\"text-align: right;\">\n",
       "      <th></th>\n",
       "      <th>id</th>\n",
       "      <th>user_id</th>\n",
       "      <th>session_date</th>\n",
       "      <th>mb_used</th>\n",
       "      <th>month</th>\n",
       "      <th>year</th>\n",
       "      <th>day_of_week</th>\n",
       "    </tr>\n",
       "  </thead>\n",
       "  <tbody>\n",
       "    <tr>\n",
       "      <th>0</th>\n",
       "      <td>1000_13</td>\n",
       "      <td>1000</td>\n",
       "      <td>2018-12-29</td>\n",
       "      <td>89.86</td>\n",
       "      <td>12</td>\n",
       "      <td>2018</td>\n",
       "      <td>Saturday</td>\n",
       "    </tr>\n",
       "    <tr>\n",
       "      <th>1</th>\n",
       "      <td>1000_204</td>\n",
       "      <td>1000</td>\n",
       "      <td>2018-12-31</td>\n",
       "      <td>0.00</td>\n",
       "      <td>12</td>\n",
       "      <td>2018</td>\n",
       "      <td>Monday</td>\n",
       "    </tr>\n",
       "    <tr>\n",
       "      <th>2</th>\n",
       "      <td>1000_379</td>\n",
       "      <td>1000</td>\n",
       "      <td>2018-12-28</td>\n",
       "      <td>660.40</td>\n",
       "      <td>12</td>\n",
       "      <td>2018</td>\n",
       "      <td>Friday</td>\n",
       "    </tr>\n",
       "    <tr>\n",
       "      <th>3</th>\n",
       "      <td>1000_413</td>\n",
       "      <td>1000</td>\n",
       "      <td>2018-12-26</td>\n",
       "      <td>270.99</td>\n",
       "      <td>12</td>\n",
       "      <td>2018</td>\n",
       "      <td>Wednesday</td>\n",
       "    </tr>\n",
       "    <tr>\n",
       "      <th>4</th>\n",
       "      <td>1000_442</td>\n",
       "      <td>1000</td>\n",
       "      <td>2018-12-27</td>\n",
       "      <td>880.22</td>\n",
       "      <td>12</td>\n",
       "      <td>2018</td>\n",
       "      <td>Thursday</td>\n",
       "    </tr>\n",
       "  </tbody>\n",
       "</table>\n",
       "</div>"
      ],
      "text/plain": [
       "         id  user_id session_date  mb_used  month  year day_of_week\n",
       "0   1000_13     1000   2018-12-29    89.86     12  2018    Saturday\n",
       "1  1000_204     1000   2018-12-31     0.00     12  2018      Monday\n",
       "2  1000_379     1000   2018-12-28   660.40     12  2018      Friday\n",
       "3  1000_413     1000   2018-12-26   270.99     12  2018   Wednesday\n",
       "4  1000_442     1000   2018-12-27   880.22     12  2018    Thursday"
      ]
     },
     "execution_count": 22,
     "metadata": {},
     "output_type": "execute_result"
    }
   ],
   "source": [
    "# Convertir 'session_date' a datetime\n",
    "internet_df['session_date'] = pd.to_datetime(internet_df['session_date'])\n",
    "\n",
    "# Extraer mes y año de la sesión\n",
    "internet_df['month'] = internet_df['session_date'].dt.month\n",
    "internet_df['year'] = internet_df['session_date'].dt.year\n",
    "\n",
    "# Extraer día de la semana de la sesión\n",
    "internet_df['day_of_week'] = internet_df['session_date'].dt.day_name()\n",
    "\n",
    "internet_df.head()"
   ]
  },
  {
   "cell_type": "markdown",
   "metadata": {},
   "source": [
    "<div class=\"alert alert-block alert-success\">\n",
    "<b>Comentario del revisor (2da Iteración)</b> <a class=“tocSkip”></a>\n",
    "\n",
    "¡Excelente trabajo en el análisis exploratorio de datos! Usaste correctamente las funciones `info` y `head` para revisar la estructura y el contenido de los datos, lo que te permitió realizar los ajustes necesarios. Esto facilitará el análisis de los datos y el desarrollo de las demás etapas del proyecto.\n",
    "\n",
    "\n",
    "</div>"
   ]
  },
  {
   "cell_type": "markdown",
   "metadata": {
    "id": "3UA2cqIW0q1E"
   },
   "source": [
    "## Estudiar las condiciones de las tarifas"
   ]
  },
  {
   "cell_type": "markdown",
   "metadata": {
    "id": "T86Sqltq0q1F"
   },
   "source": [
    "[Es sumamente importante entender cómo funcionan las tarifas, cómo se les cobra a los usuarios en función de su plan de suscripción. Así que te sugerimos imprimir la información de la tarifa para ver una vez más sus condiciones.]"
   ]
  },
  {
   "cell_type": "code",
   "execution_count": 23,
   "metadata": {
    "id": "i409op8p0q1F"
   },
   "outputs": [
    {
     "data": {
      "text/html": [
       "<div>\n",
       "<style scoped>\n",
       "    .dataframe tbody tr th:only-of-type {\n",
       "        vertical-align: middle;\n",
       "    }\n",
       "\n",
       "    .dataframe tbody tr th {\n",
       "        vertical-align: top;\n",
       "    }\n",
       "\n",
       "    .dataframe thead th {\n",
       "        text-align: right;\n",
       "    }\n",
       "</style>\n",
       "<table border=\"1\" class=\"dataframe\">\n",
       "  <thead>\n",
       "    <tr style=\"text-align: right;\">\n",
       "      <th></th>\n",
       "      <th>messages_included</th>\n",
       "      <th>mb_per_month_included</th>\n",
       "      <th>minutes_included</th>\n",
       "      <th>usd_monthly_pay</th>\n",
       "      <th>usd_per_gb</th>\n",
       "      <th>usd_per_message</th>\n",
       "      <th>usd_per_minute</th>\n",
       "      <th>plan_name</th>\n",
       "    </tr>\n",
       "  </thead>\n",
       "  <tbody>\n",
       "    <tr>\n",
       "      <th>0</th>\n",
       "      <td>50</td>\n",
       "      <td>15360</td>\n",
       "      <td>500</td>\n",
       "      <td>20</td>\n",
       "      <td>10</td>\n",
       "      <td>0.03</td>\n",
       "      <td>0.03</td>\n",
       "      <td>surf</td>\n",
       "    </tr>\n",
       "    <tr>\n",
       "      <th>1</th>\n",
       "      <td>1000</td>\n",
       "      <td>30720</td>\n",
       "      <td>3000</td>\n",
       "      <td>70</td>\n",
       "      <td>7</td>\n",
       "      <td>0.01</td>\n",
       "      <td>0.01</td>\n",
       "      <td>ultimate</td>\n",
       "    </tr>\n",
       "  </tbody>\n",
       "</table>\n",
       "</div>"
      ],
      "text/plain": [
       "   messages_included  mb_per_month_included  minutes_included  \\\n",
       "0                 50                  15360               500   \n",
       "1               1000                  30720              3000   \n",
       "\n",
       "   usd_monthly_pay  usd_per_gb  usd_per_message  usd_per_minute plan_name  \n",
       "0               20          10             0.03            0.03      surf  \n",
       "1               70           7             0.01            0.01  ultimate  "
      ]
     },
     "execution_count": 23,
     "metadata": {},
     "output_type": "execute_result"
    }
   ],
   "source": [
    "plans_df"
   ]
  },
  {
   "cell_type": "markdown",
   "metadata": {
    "id": "hMR1tP5d0q1F"
   },
   "source": [
    "## Agregar datos por usuario\n",
    "\n",
    "[Ahora que los datos están limpios, agrega los datos por usuario y por periodo para que solo haya un registro por usuario y por periodo. Esto facilitará mucho el análisis posterior.]"
   ]
  },
  {
   "cell_type": "code",
   "execution_count": 24,
   "metadata": {
    "id": "A332cedB0q1G"
   },
   "outputs": [
    {
     "data": {
      "text/html": [
       "<div>\n",
       "<style scoped>\n",
       "    .dataframe tbody tr th:only-of-type {\n",
       "        vertical-align: middle;\n",
       "    }\n",
       "\n",
       "    .dataframe tbody tr th {\n",
       "        vertical-align: top;\n",
       "    }\n",
       "\n",
       "    .dataframe thead th {\n",
       "        text-align: right;\n",
       "    }\n",
       "</style>\n",
       "<table border=\"1\" class=\"dataframe\">\n",
       "  <thead>\n",
       "    <tr style=\"text-align: right;\">\n",
       "      <th></th>\n",
       "      <th>user_id</th>\n",
       "      <th>month</th>\n",
       "      <th>num_calls</th>\n",
       "      <th>total_minutes</th>\n",
       "    </tr>\n",
       "  </thead>\n",
       "  <tbody>\n",
       "    <tr>\n",
       "      <th>0</th>\n",
       "      <td>1000</td>\n",
       "      <td>12</td>\n",
       "      <td>16</td>\n",
       "      <td>116.83</td>\n",
       "    </tr>\n",
       "    <tr>\n",
       "      <th>1</th>\n",
       "      <td>1001</td>\n",
       "      <td>8</td>\n",
       "      <td>27</td>\n",
       "      <td>171.14</td>\n",
       "    </tr>\n",
       "    <tr>\n",
       "      <th>2</th>\n",
       "      <td>1001</td>\n",
       "      <td>9</td>\n",
       "      <td>49</td>\n",
       "      <td>297.69</td>\n",
       "    </tr>\n",
       "    <tr>\n",
       "      <th>3</th>\n",
       "      <td>1001</td>\n",
       "      <td>10</td>\n",
       "      <td>65</td>\n",
       "      <td>374.11</td>\n",
       "    </tr>\n",
       "    <tr>\n",
       "      <th>4</th>\n",
       "      <td>1001</td>\n",
       "      <td>11</td>\n",
       "      <td>64</td>\n",
       "      <td>404.59</td>\n",
       "    </tr>\n",
       "  </tbody>\n",
       "</table>\n",
       "</div>"
      ],
      "text/plain": [
       "   user_id  month  num_calls  total_minutes\n",
       "0     1000     12         16         116.83\n",
       "1     1001      8         27         171.14\n",
       "2     1001      9         49         297.69\n",
       "3     1001     10         65         374.11\n",
       "4     1001     11         64         404.59"
      ]
     },
     "execution_count": 24,
     "metadata": {},
     "output_type": "execute_result"
    }
   ],
   "source": [
    "# Calcular el número de llamadas hechas por cada usuario al mes\n",
    "calls_per_user_per_month = calls_df.groupby(['user_id', 'month']).agg(\n",
    "    num_calls=('id', 'count'),\n",
    "    total_minutes=('duration', 'sum')\n",
    ").reset_index()\n",
    "\n",
    "# Mostrar una muestra del resultado\n",
    "calls_per_user_per_month.head()"
   ]
  },
  {
   "cell_type": "code",
   "execution_count": 25,
   "metadata": {
    "id": "CcQvNHn60q1G"
   },
   "outputs": [
    {
     "data": {
      "text/html": [
       "<div>\n",
       "<style scoped>\n",
       "    .dataframe tbody tr th:only-of-type {\n",
       "        vertical-align: middle;\n",
       "    }\n",
       "\n",
       "    .dataframe tbody tr th {\n",
       "        vertical-align: top;\n",
       "    }\n",
       "\n",
       "    .dataframe thead th {\n",
       "        text-align: right;\n",
       "    }\n",
       "</style>\n",
       "<table border=\"1\" class=\"dataframe\">\n",
       "  <thead>\n",
       "    <tr style=\"text-align: right;\">\n",
       "      <th></th>\n",
       "      <th>user_id</th>\n",
       "      <th>month</th>\n",
       "      <th>num_messages</th>\n",
       "    </tr>\n",
       "  </thead>\n",
       "  <tbody>\n",
       "    <tr>\n",
       "      <th>0</th>\n",
       "      <td>1000</td>\n",
       "      <td>12</td>\n",
       "      <td>11</td>\n",
       "    </tr>\n",
       "    <tr>\n",
       "      <th>1</th>\n",
       "      <td>1001</td>\n",
       "      <td>8</td>\n",
       "      <td>30</td>\n",
       "    </tr>\n",
       "    <tr>\n",
       "      <th>2</th>\n",
       "      <td>1001</td>\n",
       "      <td>9</td>\n",
       "      <td>44</td>\n",
       "    </tr>\n",
       "    <tr>\n",
       "      <th>3</th>\n",
       "      <td>1001</td>\n",
       "      <td>10</td>\n",
       "      <td>53</td>\n",
       "    </tr>\n",
       "    <tr>\n",
       "      <th>4</th>\n",
       "      <td>1001</td>\n",
       "      <td>11</td>\n",
       "      <td>36</td>\n",
       "    </tr>\n",
       "  </tbody>\n",
       "</table>\n",
       "</div>"
      ],
      "text/plain": [
       "   user_id  month  num_messages\n",
       "0     1000     12            11\n",
       "1     1001      8            30\n",
       "2     1001      9            44\n",
       "3     1001     10            53\n",
       "4     1001     11            36"
      ]
     },
     "execution_count": 25,
     "metadata": {},
     "output_type": "execute_result"
    }
   ],
   "source": [
    "# Calcular el número de mensajes enviados por cada usuario al mes\n",
    "messages_per_user_per_month = messages_df.groupby(['user_id', 'month']).agg(\n",
    "    num_messages=('id', 'count')\n",
    ").reset_index()\n",
    "\n",
    "# Mostrar una muestra del resultado\n",
    "messages_per_user_per_month.head()"
   ]
  },
  {
   "cell_type": "code",
   "execution_count": 26,
   "metadata": {
    "id": "H1AqN2eG0q1H"
   },
   "outputs": [
    {
     "data": {
      "text/html": [
       "<div>\n",
       "<style scoped>\n",
       "    .dataframe tbody tr th:only-of-type {\n",
       "        vertical-align: middle;\n",
       "    }\n",
       "\n",
       "    .dataframe tbody tr th {\n",
       "        vertical-align: top;\n",
       "    }\n",
       "\n",
       "    .dataframe thead th {\n",
       "        text-align: right;\n",
       "    }\n",
       "</style>\n",
       "<table border=\"1\" class=\"dataframe\">\n",
       "  <thead>\n",
       "    <tr style=\"text-align: right;\">\n",
       "      <th></th>\n",
       "      <th>user_id</th>\n",
       "      <th>month</th>\n",
       "      <th>total_mb_used</th>\n",
       "    </tr>\n",
       "  </thead>\n",
       "  <tbody>\n",
       "    <tr>\n",
       "      <th>0</th>\n",
       "      <td>1000</td>\n",
       "      <td>12</td>\n",
       "      <td>1901.47</td>\n",
       "    </tr>\n",
       "    <tr>\n",
       "      <th>1</th>\n",
       "      <td>1001</td>\n",
       "      <td>8</td>\n",
       "      <td>6919.15</td>\n",
       "    </tr>\n",
       "    <tr>\n",
       "      <th>2</th>\n",
       "      <td>1001</td>\n",
       "      <td>9</td>\n",
       "      <td>13314.82</td>\n",
       "    </tr>\n",
       "    <tr>\n",
       "      <th>3</th>\n",
       "      <td>1001</td>\n",
       "      <td>10</td>\n",
       "      <td>22330.49</td>\n",
       "    </tr>\n",
       "    <tr>\n",
       "      <th>4</th>\n",
       "      <td>1001</td>\n",
       "      <td>11</td>\n",
       "      <td>18504.30</td>\n",
       "    </tr>\n",
       "  </tbody>\n",
       "</table>\n",
       "</div>"
      ],
      "text/plain": [
       "   user_id  month  total_mb_used\n",
       "0     1000     12        1901.47\n",
       "1     1001      8        6919.15\n",
       "2     1001      9       13314.82\n",
       "3     1001     10       22330.49\n",
       "4     1001     11       18504.30"
      ]
     },
     "execution_count": 26,
     "metadata": {},
     "output_type": "execute_result"
    }
   ],
   "source": [
    "# Calcular el volumen del tráfico de Internet usado por cada usuario al mes\n",
    "internet_per_user_per_month = internet_df.groupby(['user_id', 'month']).agg(\n",
    "    total_mb_used=('mb_used', 'sum')\n",
    ").reset_index()\n",
    "\n",
    "# Mostrar una muestra del resultado\n",
    "internet_per_user_per_month.head()"
   ]
  },
  {
   "cell_type": "markdown",
   "metadata": {
    "id": "VDfYXnj80q1H"
   },
   "source": [
    "[Junta los datos agregados en un DataFrame para que haya un registro que represente lo que consumió un usuario único en un mes determinado.]"
   ]
  },
  {
   "cell_type": "code",
   "execution_count": 27,
   "metadata": {
    "id": "FW99ykyf0q1H"
   },
   "outputs": [
    {
     "data": {
      "text/html": [
       "<div>\n",
       "<style scoped>\n",
       "    .dataframe tbody tr th:only-of-type {\n",
       "        vertical-align: middle;\n",
       "    }\n",
       "\n",
       "    .dataframe tbody tr th {\n",
       "        vertical-align: top;\n",
       "    }\n",
       "\n",
       "    .dataframe thead th {\n",
       "        text-align: right;\n",
       "    }\n",
       "</style>\n",
       "<table border=\"1\" class=\"dataframe\">\n",
       "  <thead>\n",
       "    <tr style=\"text-align: right;\">\n",
       "      <th></th>\n",
       "      <th>user_id</th>\n",
       "      <th>month</th>\n",
       "      <th>num_calls</th>\n",
       "      <th>total_minutes</th>\n",
       "      <th>gb_used</th>\n",
       "      <th>num_messages</th>\n",
       "    </tr>\n",
       "  </thead>\n",
       "  <tbody>\n",
       "    <tr>\n",
       "      <th>0</th>\n",
       "      <td>1000</td>\n",
       "      <td>12</td>\n",
       "      <td>16.0</td>\n",
       "      <td>117.0</td>\n",
       "      <td>2.0</td>\n",
       "      <td>11.0</td>\n",
       "    </tr>\n",
       "    <tr>\n",
       "      <th>1</th>\n",
       "      <td>1001</td>\n",
       "      <td>8</td>\n",
       "      <td>27.0</td>\n",
       "      <td>172.0</td>\n",
       "      <td>7.0</td>\n",
       "      <td>30.0</td>\n",
       "    </tr>\n",
       "    <tr>\n",
       "      <th>2</th>\n",
       "      <td>1001</td>\n",
       "      <td>9</td>\n",
       "      <td>49.0</td>\n",
       "      <td>298.0</td>\n",
       "      <td>14.0</td>\n",
       "      <td>44.0</td>\n",
       "    </tr>\n",
       "    <tr>\n",
       "      <th>3</th>\n",
       "      <td>1001</td>\n",
       "      <td>10</td>\n",
       "      <td>65.0</td>\n",
       "      <td>375.0</td>\n",
       "      <td>22.0</td>\n",
       "      <td>53.0</td>\n",
       "    </tr>\n",
       "    <tr>\n",
       "      <th>4</th>\n",
       "      <td>1001</td>\n",
       "      <td>11</td>\n",
       "      <td>64.0</td>\n",
       "      <td>405.0</td>\n",
       "      <td>19.0</td>\n",
       "      <td>36.0</td>\n",
       "    </tr>\n",
       "  </tbody>\n",
       "</table>\n",
       "</div>"
      ],
      "text/plain": [
       "   user_id  month  num_calls  total_minutes  gb_used  num_messages\n",
       "0     1000     12       16.0          117.0      2.0          11.0\n",
       "1     1001      8       27.0          172.0      7.0          30.0\n",
       "2     1001      9       49.0          298.0     14.0          44.0\n",
       "3     1001     10       65.0          375.0     22.0          53.0\n",
       "4     1001     11       64.0          405.0     19.0          36.0"
      ]
     },
     "execution_count": 27,
     "metadata": {},
     "output_type": "execute_result"
    }
   ],
   "source": [
    "# Redondeo hacia arriba de la duración de las llamadas y suma por usuario y mes\n",
    "calls_per_user_per_month['total_minutes'] = calls_per_user_per_month['total_minutes'].apply(np.ceil)\n",
    "\n",
    "# Suma del consumo total en MB y conversión a GB, luego redondeo hacia arriba\n",
    "internet_per_user_per_month['gb_used'] = np.ceil(internet_per_user_per_month['total_mb_used'] / 1024).astype(int)\n",
    "\n",
    "# Fusionar los datos\n",
    "data = calls_per_user_per_month.merge(internet_per_user_per_month[['user_id', 'month', 'gb_used']], on=['user_id', 'month'], how='outer')\n",
    "data = data.merge(messages_per_user_per_month, on=['user_id', 'month'], how='outer')\n",
    "\n",
    "# Visualizar los primeros registros\n",
    "data.head()"
   ]
  },
  {
   "cell_type": "code",
   "execution_count": 28,
   "metadata": {
    "id": "0dNOXHag0q1H"
   },
   "outputs": [
    {
     "data": {
      "text/html": [
       "<div>\n",
       "<style scoped>\n",
       "    .dataframe tbody tr th:only-of-type {\n",
       "        vertical-align: middle;\n",
       "    }\n",
       "\n",
       "    .dataframe tbody tr th {\n",
       "        vertical-align: top;\n",
       "    }\n",
       "\n",
       "    .dataframe thead th {\n",
       "        text-align: right;\n",
       "    }\n",
       "</style>\n",
       "<table border=\"1\" class=\"dataframe\">\n",
       "  <thead>\n",
       "    <tr style=\"text-align: right;\">\n",
       "      <th></th>\n",
       "      <th>user_id</th>\n",
       "      <th>month</th>\n",
       "      <th>num_calls</th>\n",
       "      <th>total_minutes</th>\n",
       "      <th>gb_used</th>\n",
       "      <th>num_messages</th>\n",
       "      <th>city</th>\n",
       "      <th>plan</th>\n",
       "      <th>messages_included</th>\n",
       "      <th>mb_per_month_included</th>\n",
       "      <th>minutes_included</th>\n",
       "      <th>usd_monthly_pay</th>\n",
       "      <th>usd_per_gb</th>\n",
       "      <th>usd_per_message</th>\n",
       "      <th>usd_per_minute</th>\n",
       "      <th>plan_name</th>\n",
       "    </tr>\n",
       "  </thead>\n",
       "  <tbody>\n",
       "    <tr>\n",
       "      <th>0</th>\n",
       "      <td>1000</td>\n",
       "      <td>12.0</td>\n",
       "      <td>16.0</td>\n",
       "      <td>117.0</td>\n",
       "      <td>2.0</td>\n",
       "      <td>11.0</td>\n",
       "      <td>Atlanta-Sandy Springs-Roswell, GA MSA</td>\n",
       "      <td>ultimate</td>\n",
       "      <td>1000</td>\n",
       "      <td>30720</td>\n",
       "      <td>3000</td>\n",
       "      <td>70</td>\n",
       "      <td>7</td>\n",
       "      <td>0.01</td>\n",
       "      <td>0.01</td>\n",
       "      <td>ultimate</td>\n",
       "    </tr>\n",
       "    <tr>\n",
       "      <th>1</th>\n",
       "      <td>1006</td>\n",
       "      <td>11.0</td>\n",
       "      <td>2.0</td>\n",
       "      <td>10.0</td>\n",
       "      <td>3.0</td>\n",
       "      <td>15.0</td>\n",
       "      <td>San Francisco-Oakland-Berkeley, CA MSA</td>\n",
       "      <td>ultimate</td>\n",
       "      <td>1000</td>\n",
       "      <td>30720</td>\n",
       "      <td>3000</td>\n",
       "      <td>70</td>\n",
       "      <td>7</td>\n",
       "      <td>0.01</td>\n",
       "      <td>0.01</td>\n",
       "      <td>ultimate</td>\n",
       "    </tr>\n",
       "    <tr>\n",
       "      <th>2</th>\n",
       "      <td>1006</td>\n",
       "      <td>12.0</td>\n",
       "      <td>9.0</td>\n",
       "      <td>55.0</td>\n",
       "      <td>32.0</td>\n",
       "      <td>139.0</td>\n",
       "      <td>San Francisco-Oakland-Berkeley, CA MSA</td>\n",
       "      <td>ultimate</td>\n",
       "      <td>1000</td>\n",
       "      <td>30720</td>\n",
       "      <td>3000</td>\n",
       "      <td>70</td>\n",
       "      <td>7</td>\n",
       "      <td>0.01</td>\n",
       "      <td>0.01</td>\n",
       "      <td>ultimate</td>\n",
       "    </tr>\n",
       "    <tr>\n",
       "      <th>3</th>\n",
       "      <td>1008</td>\n",
       "      <td>10.0</td>\n",
       "      <td>71.0</td>\n",
       "      <td>451.0</td>\n",
       "      <td>17.0</td>\n",
       "      <td>21.0</td>\n",
       "      <td>Orlando-Kissimmee-Sanford, FL MSA</td>\n",
       "      <td>ultimate</td>\n",
       "      <td>1000</td>\n",
       "      <td>30720</td>\n",
       "      <td>3000</td>\n",
       "      <td>70</td>\n",
       "      <td>7</td>\n",
       "      <td>0.01</td>\n",
       "      <td>0.01</td>\n",
       "      <td>ultimate</td>\n",
       "    </tr>\n",
       "    <tr>\n",
       "      <th>4</th>\n",
       "      <td>1008</td>\n",
       "      <td>11.0</td>\n",
       "      <td>63.0</td>\n",
       "      <td>423.0</td>\n",
       "      <td>24.0</td>\n",
       "      <td>37.0</td>\n",
       "      <td>Orlando-Kissimmee-Sanford, FL MSA</td>\n",
       "      <td>ultimate</td>\n",
       "      <td>1000</td>\n",
       "      <td>30720</td>\n",
       "      <td>3000</td>\n",
       "      <td>70</td>\n",
       "      <td>7</td>\n",
       "      <td>0.01</td>\n",
       "      <td>0.01</td>\n",
       "      <td>ultimate</td>\n",
       "    </tr>\n",
       "  </tbody>\n",
       "</table>\n",
       "</div>"
      ],
      "text/plain": [
       "   user_id  month  num_calls  total_minutes  gb_used  num_messages  \\\n",
       "0     1000   12.0       16.0          117.0      2.0          11.0   \n",
       "1     1006   11.0        2.0           10.0      3.0          15.0   \n",
       "2     1006   12.0        9.0           55.0     32.0         139.0   \n",
       "3     1008   10.0       71.0          451.0     17.0          21.0   \n",
       "4     1008   11.0       63.0          423.0     24.0          37.0   \n",
       "\n",
       "                                     city      plan  messages_included  \\\n",
       "0   Atlanta-Sandy Springs-Roswell, GA MSA  ultimate               1000   \n",
       "1  San Francisco-Oakland-Berkeley, CA MSA  ultimate               1000   \n",
       "2  San Francisco-Oakland-Berkeley, CA MSA  ultimate               1000   \n",
       "3       Orlando-Kissimmee-Sanford, FL MSA  ultimate               1000   \n",
       "4       Orlando-Kissimmee-Sanford, FL MSA  ultimate               1000   \n",
       "\n",
       "   mb_per_month_included  minutes_included  usd_monthly_pay  usd_per_gb  \\\n",
       "0                  30720              3000               70           7   \n",
       "1                  30720              3000               70           7   \n",
       "2                  30720              3000               70           7   \n",
       "3                  30720              3000               70           7   \n",
       "4                  30720              3000               70           7   \n",
       "\n",
       "   usd_per_message  usd_per_minute plan_name  \n",
       "0             0.01            0.01  ultimate  \n",
       "1             0.01            0.01  ultimate  \n",
       "2             0.01            0.01  ultimate  \n",
       "3             0.01            0.01  ultimate  \n",
       "4             0.01            0.01  ultimate  "
      ]
     },
     "execution_count": 28,
     "metadata": {},
     "output_type": "execute_result"
    }
   ],
   "source": [
    "# Añadir la información de la tarifa\n",
    "data = data.merge(users_df[['user_id', 'city', 'plan']], on='user_id', how='outer')\n",
    "data = data.merge(plans_df, left_on='plan', right_on='plan_name', how='outer')\n",
    "\n",
    "# Visualizar los primeros registros\n",
    "data.head()"
   ]
  },
  {
   "cell_type": "markdown",
   "metadata": {
    "id": "1IwGo4wg0q1I"
   },
   "source": [
    "[Calcula los ingresos mensuales por usuario (resta el límite del paquete gratuito del número total de llamadas, mensajes de texto y datos; multiplica el resultado por el valor del plan de llamadas; añade la tarifa mensual en función del plan de llamadas). Nota: Dadas las condiciones del plan, ¡esto podría no ser tan trivial como un par de líneas! Así que no pasa nada si dedicas algo de tiempo a ello.]"
   ]
  },
  {
   "cell_type": "code",
   "execution_count": 29,
   "metadata": {
    "id": "5FGCf_c60q1I"
   },
   "outputs": [
    {
     "data": {
      "text/html": [
       "<div>\n",
       "<style scoped>\n",
       "    .dataframe tbody tr th:only-of-type {\n",
       "        vertical-align: middle;\n",
       "    }\n",
       "\n",
       "    .dataframe tbody tr th {\n",
       "        vertical-align: top;\n",
       "    }\n",
       "\n",
       "    .dataframe thead th {\n",
       "        text-align: right;\n",
       "    }\n",
       "</style>\n",
       "<table border=\"1\" class=\"dataframe\">\n",
       "  <thead>\n",
       "    <tr style=\"text-align: right;\">\n",
       "      <th></th>\n",
       "      <th>user_id</th>\n",
       "      <th>month</th>\n",
       "      <th>num_calls</th>\n",
       "      <th>total_minutes</th>\n",
       "      <th>gb_used</th>\n",
       "      <th>num_messages</th>\n",
       "      <th>city</th>\n",
       "      <th>plan</th>\n",
       "      <th>messages_included</th>\n",
       "      <th>mb_per_month_included</th>\n",
       "      <th>minutes_included</th>\n",
       "      <th>usd_monthly_pay</th>\n",
       "      <th>usd_per_gb</th>\n",
       "      <th>usd_per_message</th>\n",
       "      <th>usd_per_minute</th>\n",
       "      <th>plan_name</th>\n",
       "      <th>monthly_revenue</th>\n",
       "    </tr>\n",
       "  </thead>\n",
       "  <tbody>\n",
       "    <tr>\n",
       "      <th>0</th>\n",
       "      <td>1000</td>\n",
       "      <td>12.0</td>\n",
       "      <td>16.0</td>\n",
       "      <td>117.0</td>\n",
       "      <td>2.0</td>\n",
       "      <td>11.0</td>\n",
       "      <td>Atlanta-Sandy Springs-Roswell, GA MSA</td>\n",
       "      <td>ultimate</td>\n",
       "      <td>1000</td>\n",
       "      <td>30720</td>\n",
       "      <td>3000</td>\n",
       "      <td>70</td>\n",
       "      <td>7</td>\n",
       "      <td>0.01</td>\n",
       "      <td>0.01</td>\n",
       "      <td>ultimate</td>\n",
       "      <td>70.0</td>\n",
       "    </tr>\n",
       "    <tr>\n",
       "      <th>1</th>\n",
       "      <td>1006</td>\n",
       "      <td>11.0</td>\n",
       "      <td>2.0</td>\n",
       "      <td>10.0</td>\n",
       "      <td>3.0</td>\n",
       "      <td>15.0</td>\n",
       "      <td>San Francisco-Oakland-Berkeley, CA MSA</td>\n",
       "      <td>ultimate</td>\n",
       "      <td>1000</td>\n",
       "      <td>30720</td>\n",
       "      <td>3000</td>\n",
       "      <td>70</td>\n",
       "      <td>7</td>\n",
       "      <td>0.01</td>\n",
       "      <td>0.01</td>\n",
       "      <td>ultimate</td>\n",
       "      <td>70.0</td>\n",
       "    </tr>\n",
       "    <tr>\n",
       "      <th>2</th>\n",
       "      <td>1006</td>\n",
       "      <td>12.0</td>\n",
       "      <td>9.0</td>\n",
       "      <td>55.0</td>\n",
       "      <td>32.0</td>\n",
       "      <td>139.0</td>\n",
       "      <td>San Francisco-Oakland-Berkeley, CA MSA</td>\n",
       "      <td>ultimate</td>\n",
       "      <td>1000</td>\n",
       "      <td>30720</td>\n",
       "      <td>3000</td>\n",
       "      <td>70</td>\n",
       "      <td>7</td>\n",
       "      <td>0.01</td>\n",
       "      <td>0.01</td>\n",
       "      <td>ultimate</td>\n",
       "      <td>84.0</td>\n",
       "    </tr>\n",
       "    <tr>\n",
       "      <th>3</th>\n",
       "      <td>1008</td>\n",
       "      <td>10.0</td>\n",
       "      <td>71.0</td>\n",
       "      <td>451.0</td>\n",
       "      <td>17.0</td>\n",
       "      <td>21.0</td>\n",
       "      <td>Orlando-Kissimmee-Sanford, FL MSA</td>\n",
       "      <td>ultimate</td>\n",
       "      <td>1000</td>\n",
       "      <td>30720</td>\n",
       "      <td>3000</td>\n",
       "      <td>70</td>\n",
       "      <td>7</td>\n",
       "      <td>0.01</td>\n",
       "      <td>0.01</td>\n",
       "      <td>ultimate</td>\n",
       "      <td>70.0</td>\n",
       "    </tr>\n",
       "    <tr>\n",
       "      <th>4</th>\n",
       "      <td>1008</td>\n",
       "      <td>11.0</td>\n",
       "      <td>63.0</td>\n",
       "      <td>423.0</td>\n",
       "      <td>24.0</td>\n",
       "      <td>37.0</td>\n",
       "      <td>Orlando-Kissimmee-Sanford, FL MSA</td>\n",
       "      <td>ultimate</td>\n",
       "      <td>1000</td>\n",
       "      <td>30720</td>\n",
       "      <td>3000</td>\n",
       "      <td>70</td>\n",
       "      <td>7</td>\n",
       "      <td>0.01</td>\n",
       "      <td>0.01</td>\n",
       "      <td>ultimate</td>\n",
       "      <td>70.0</td>\n",
       "    </tr>\n",
       "  </tbody>\n",
       "</table>\n",
       "</div>"
      ],
      "text/plain": [
       "   user_id  month  num_calls  total_minutes  gb_used  num_messages  \\\n",
       "0     1000   12.0       16.0          117.0      2.0          11.0   \n",
       "1     1006   11.0        2.0           10.0      3.0          15.0   \n",
       "2     1006   12.0        9.0           55.0     32.0         139.0   \n",
       "3     1008   10.0       71.0          451.0     17.0          21.0   \n",
       "4     1008   11.0       63.0          423.0     24.0          37.0   \n",
       "\n",
       "                                     city      plan  messages_included  \\\n",
       "0   Atlanta-Sandy Springs-Roswell, GA MSA  ultimate               1000   \n",
       "1  San Francisco-Oakland-Berkeley, CA MSA  ultimate               1000   \n",
       "2  San Francisco-Oakland-Berkeley, CA MSA  ultimate               1000   \n",
       "3       Orlando-Kissimmee-Sanford, FL MSA  ultimate               1000   \n",
       "4       Orlando-Kissimmee-Sanford, FL MSA  ultimate               1000   \n",
       "\n",
       "   mb_per_month_included  minutes_included  usd_monthly_pay  usd_per_gb  \\\n",
       "0                  30720              3000               70           7   \n",
       "1                  30720              3000               70           7   \n",
       "2                  30720              3000               70           7   \n",
       "3                  30720              3000               70           7   \n",
       "4                  30720              3000               70           7   \n",
       "\n",
       "   usd_per_message  usd_per_minute plan_name  monthly_revenue  \n",
       "0             0.01            0.01  ultimate             70.0  \n",
       "1             0.01            0.01  ultimate             70.0  \n",
       "2             0.01            0.01  ultimate             84.0  \n",
       "3             0.01            0.01  ultimate             70.0  \n",
       "4             0.01            0.01  ultimate             70.0  "
      ]
     },
     "execution_count": 29,
     "metadata": {},
     "output_type": "execute_result"
    }
   ],
   "source": [
    "# Calcular los ingresos mensuales\n",
    "def calcular_ingresos(row):\n",
    "    minutos_extra = max(row['total_minutes'] - row['minutes_included'], 0)\n",
    "    mensajes_extra = max(row['num_messages'] - row['messages_included'], 0)\n",
    "    gb_extra = max(row['gb_used'] - row['mb_per_month_included'] / 1024, 0)\n",
    "    \n",
    "    ingreso_minutos = minutos_extra * row['usd_per_minute']\n",
    "    ingreso_mensajes = mensajes_extra * row['usd_per_message']\n",
    "    ingreso_datos = gb_extra * row['usd_per_gb']\n",
    "    \n",
    "    ingreso_total = row['usd_monthly_pay'] + ingreso_minutos + ingreso_mensajes + ingreso_datos\n",
    "    return ingreso_total\n",
    "\n",
    "data['monthly_revenue'] = data.apply(calcular_ingresos, axis=1)\n",
    "\n",
    "# Visualizar los primeros registros\n",
    "data.head()\n",
    "                                              "
   ]
  },
  {
   "cell_type": "markdown",
   "metadata": {},
   "source": [
    "<div class=\"alert alert-block alert-success\">\n",
    "<b>Comentario del revisor (2da Iteración)</b> <a class=“tocSkip”></a>\n",
    "\n",
    "¡Perfecto Roberto! Hiciste un excelente uso de las funciones `groupby`  y `merge`, logrando agrupar correctamente la información de consumo de llamadas, mensajes e internet de cada usuario por mes. Además, calculaste de manera precisa el cobro mensual y reflejaste los valores correctos en la columna *monthly_revenue*. ¡Buen trabajo!\n",
    "\n",
    "\n",
    "</div>"
   ]
  },
  {
   "cell_type": "code",
   "execution_count": 46,
   "metadata": {},
   "outputs": [
    {
     "data": {
      "text/html": [
       "<div>\n",
       "<style scoped>\n",
       "    .dataframe tbody tr th:only-of-type {\n",
       "        vertical-align: middle;\n",
       "    }\n",
       "\n",
       "    .dataframe tbody tr th {\n",
       "        vertical-align: top;\n",
       "    }\n",
       "\n",
       "    .dataframe thead th {\n",
       "        text-align: right;\n",
       "    }\n",
       "</style>\n",
       "<table border=\"1\" class=\"dataframe\">\n",
       "  <thead>\n",
       "    <tr style=\"text-align: right;\">\n",
       "      <th></th>\n",
       "      <th>user_id</th>\n",
       "      <th>month</th>\n",
       "      <th>num_calls</th>\n",
       "      <th>total_minutes</th>\n",
       "      <th>gb_used</th>\n",
       "      <th>num_messages</th>\n",
       "      <th>city</th>\n",
       "      <th>plan</th>\n",
       "      <th>messages_included</th>\n",
       "      <th>mb_per_month_included</th>\n",
       "      <th>minutes_included</th>\n",
       "      <th>usd_monthly_pay</th>\n",
       "      <th>usd_per_gb</th>\n",
       "      <th>usd_per_message</th>\n",
       "      <th>usd_per_minute</th>\n",
       "      <th>plan_name</th>\n",
       "      <th>monthly_revenue</th>\n",
       "    </tr>\n",
       "  </thead>\n",
       "  <tbody>\n",
       "    <tr>\n",
       "      <th>724</th>\n",
       "      <td>1001</td>\n",
       "      <td>8.0</td>\n",
       "      <td>27.0</td>\n",
       "      <td>172.0</td>\n",
       "      <td>7.0</td>\n",
       "      <td>30.0</td>\n",
       "      <td>Seattle-Tacoma-Bellevue, WA MSA</td>\n",
       "      <td>surf</td>\n",
       "      <td>50</td>\n",
       "      <td>15360</td>\n",
       "      <td>500</td>\n",
       "      <td>20</td>\n",
       "      <td>10</td>\n",
       "      <td>0.03</td>\n",
       "      <td>0.03</td>\n",
       "      <td>surf</td>\n",
       "      <td>20.00</td>\n",
       "    </tr>\n",
       "    <tr>\n",
       "      <th>725</th>\n",
       "      <td>1001</td>\n",
       "      <td>9.0</td>\n",
       "      <td>49.0</td>\n",
       "      <td>298.0</td>\n",
       "      <td>14.0</td>\n",
       "      <td>44.0</td>\n",
       "      <td>Seattle-Tacoma-Bellevue, WA MSA</td>\n",
       "      <td>surf</td>\n",
       "      <td>50</td>\n",
       "      <td>15360</td>\n",
       "      <td>500</td>\n",
       "      <td>20</td>\n",
       "      <td>10</td>\n",
       "      <td>0.03</td>\n",
       "      <td>0.03</td>\n",
       "      <td>surf</td>\n",
       "      <td>20.00</td>\n",
       "    </tr>\n",
       "    <tr>\n",
       "      <th>726</th>\n",
       "      <td>1001</td>\n",
       "      <td>10.0</td>\n",
       "      <td>65.0</td>\n",
       "      <td>375.0</td>\n",
       "      <td>22.0</td>\n",
       "      <td>53.0</td>\n",
       "      <td>Seattle-Tacoma-Bellevue, WA MSA</td>\n",
       "      <td>surf</td>\n",
       "      <td>50</td>\n",
       "      <td>15360</td>\n",
       "      <td>500</td>\n",
       "      <td>20</td>\n",
       "      <td>10</td>\n",
       "      <td>0.03</td>\n",
       "      <td>0.03</td>\n",
       "      <td>surf</td>\n",
       "      <td>90.09</td>\n",
       "    </tr>\n",
       "    <tr>\n",
       "      <th>727</th>\n",
       "      <td>1001</td>\n",
       "      <td>11.0</td>\n",
       "      <td>64.0</td>\n",
       "      <td>405.0</td>\n",
       "      <td>19.0</td>\n",
       "      <td>36.0</td>\n",
       "      <td>Seattle-Tacoma-Bellevue, WA MSA</td>\n",
       "      <td>surf</td>\n",
       "      <td>50</td>\n",
       "      <td>15360</td>\n",
       "      <td>500</td>\n",
       "      <td>20</td>\n",
       "      <td>10</td>\n",
       "      <td>0.03</td>\n",
       "      <td>0.03</td>\n",
       "      <td>surf</td>\n",
       "      <td>60.00</td>\n",
       "    </tr>\n",
       "    <tr>\n",
       "      <th>728</th>\n",
       "      <td>1001</td>\n",
       "      <td>12.0</td>\n",
       "      <td>56.0</td>\n",
       "      <td>393.0</td>\n",
       "      <td>19.0</td>\n",
       "      <td>44.0</td>\n",
       "      <td>Seattle-Tacoma-Bellevue, WA MSA</td>\n",
       "      <td>surf</td>\n",
       "      <td>50</td>\n",
       "      <td>15360</td>\n",
       "      <td>500</td>\n",
       "      <td>20</td>\n",
       "      <td>10</td>\n",
       "      <td>0.03</td>\n",
       "      <td>0.03</td>\n",
       "      <td>surf</td>\n",
       "      <td>60.00</td>\n",
       "    </tr>\n",
       "  </tbody>\n",
       "</table>\n",
       "</div>"
      ],
      "text/plain": [
       "     user_id  month  num_calls  total_minutes  gb_used  num_messages  \\\n",
       "724     1001    8.0       27.0          172.0      7.0          30.0   \n",
       "725     1001    9.0       49.0          298.0     14.0          44.0   \n",
       "726     1001   10.0       65.0          375.0     22.0          53.0   \n",
       "727     1001   11.0       64.0          405.0     19.0          36.0   \n",
       "728     1001   12.0       56.0          393.0     19.0          44.0   \n",
       "\n",
       "                                city  plan  messages_included  \\\n",
       "724  Seattle-Tacoma-Bellevue, WA MSA  surf                 50   \n",
       "725  Seattle-Tacoma-Bellevue, WA MSA  surf                 50   \n",
       "726  Seattle-Tacoma-Bellevue, WA MSA  surf                 50   \n",
       "727  Seattle-Tacoma-Bellevue, WA MSA  surf                 50   \n",
       "728  Seattle-Tacoma-Bellevue, WA MSA  surf                 50   \n",
       "\n",
       "     mb_per_month_included  minutes_included  usd_monthly_pay  usd_per_gb  \\\n",
       "724                  15360               500               20          10   \n",
       "725                  15360               500               20          10   \n",
       "726                  15360               500               20          10   \n",
       "727                  15360               500               20          10   \n",
       "728                  15360               500               20          10   \n",
       "\n",
       "     usd_per_message  usd_per_minute plan_name  monthly_revenue  \n",
       "724             0.03            0.03      surf            20.00  \n",
       "725             0.03            0.03      surf            20.00  \n",
       "726             0.03            0.03      surf            90.09  \n",
       "727             0.03            0.03      surf            60.00  \n",
       "728             0.03            0.03      surf            60.00  "
      ]
     },
     "execution_count": 46,
     "metadata": {},
     "output_type": "execute_result"
    }
   ],
   "source": [
    "data[data[\"user_id\"] == 1001]"
   ]
  },
  {
   "cell_type": "markdown",
   "metadata": {
    "id": "-jtyHzJb0q1I"
   },
   "source": [
    "## Estudia el comportamiento de usuario"
   ]
  },
  {
   "cell_type": "markdown",
   "metadata": {
    "id": "AxU3Y0N70q1J"
   },
   "source": [
    "[Calcula algunas estadísticas descriptivas para los datos agregados y fusionados que nos sean útiles y que muestren un panorama general captado por los datos. Dibuja gráficos útiles para facilitar la comprensión. Dado que la tarea principal es comparar las tarifas y decidir cuál es más rentable, las estadísticas y gráficas deben calcularse por tarifa.]\n",
    "\n",
    "[En los comentarios hallarás pistas relevantes para las llamadas, pero no las hay para los mensajes e Internet. Sin embargo, el principio del estudio estadístico que se aplica para ellos es el mismo que para las llamadas.]"
   ]
  },
  {
   "cell_type": "markdown",
   "metadata": {
    "id": "vtW4CJEe0q1J"
   },
   "source": [
    "### Llamadas"
   ]
  },
  {
   "cell_type": "code",
   "execution_count": 30,
   "metadata": {
    "id": "Jf5v5--k0q1J"
   },
   "outputs": [
    {
     "data": {
      "text/plain": [
       "<AxesSubplot:ylabel='Frequency'>"
      ]
     },
     "execution_count": 30,
     "metadata": {},
     "output_type": "execute_result"
    },
    {
     "data": {
      "image/png": "[encoded data removed]",
      "text/plain": [
       "<Figure size 640x480 with 1 Axes>"
      ]
     },
     "metadata": {},
     "output_type": "display_data"
    }
   ],
   "source": [
    "# Crear el gráfico de barras\n",
    "gf1 = data.groupby('month')['total_minutes'].sum()\n",
    "gf1.plot(kind='hist')"
   ]
  },
  {
   "cell_type": "code",
   "execution_count": 31,
   "metadata": {
    "id": "QoLqW1S_0q1J"
   },
   "outputs": [
    {
     "data": {
      "image/png": "[encoded data removed]",
      "text/plain": [
       "<Figure size 1000x600 with 1 Axes>"
      ]
     },
     "metadata": {},
     "output_type": "display_data"
    }
   ],
   "source": [
    "\n",
    "\n",
    "\n",
    "# Filtrar los usuarios por plan\n",
    "surf_minutes = data[data['plan'] == 'surf']['total_minutes']\n",
    "ultimate_minutes = data[data['plan'] == 'ultimate']['total_minutes']\n",
    "\n",
    "# Trazar el histograma\n",
    "plt.figure(figsize=(10, 6))\n",
    "plt.hist(surf_minutes, bins=20, alpha=0.7, label='Surf', color='skyblue')\n",
    "plt.hist(ultimate_minutes, bins=20, alpha=0.7, label='Ultimate', color='orange')\n",
    "\n",
    "# Añadir etiquetas y leyenda\n",
    "plt.title('Distribución del Número de Minutos Mensuales por Plan')\n",
    "plt.xlabel('Minutos Mensuales')\n",
    "plt.ylabel('Frecuencia')\n",
    "plt.legend()\n",
    "plt.grid(alpha=0.4)\n",
    "\n",
    "# Mostrar el gráfico\n",
    "plt.show() # Compara el número de minutos mensuales que necesitan los usuarios de cada plan. Traza un histograma.\n",
    "\n"
   ]
  },
  {
   "cell_type": "markdown",
   "metadata": {
    "id": "bLS9T8OH0q1K"
   },
   "source": [
    "[Calcula la media y la variable de la duración de las llamadas para averiguar si los usuarios de los distintos planes se comportan de forma diferente al realizar sus llamadas.]"
   ]
  },
  {
   "cell_type": "code",
   "execution_count": 32,
   "metadata": {
    "id": "oSndbAnt0q1K"
   },
   "outputs": [
    {
     "name": "stdout",
     "output_type": "stream",
     "text": [
      "Media de la duración mensual de llamadas: 405.71 minutos\n",
      "Varianza de la duración mensual de llamadas: 49909.66 minutos²\n"
     ]
    }
   ],
   "source": [
    "# Calcular la media y varianza de la duración mensual de llamadas\n",
    "monthly_call_stats = data.groupby(['user_id', 'month'])['total_minutes'].sum()\n",
    "\n",
    "mean_calls = monthly_call_stats.mean()  # Media\n",
    "variance_calls = monthly_call_stats.var()  # Varianza\n",
    "\n",
    "print(f'Media de la duración mensual de llamadas: {mean_calls:.2f} minutos')\n",
    "print(f'Varianza de la duración mensual de llamadas: {variance_calls:.2f} minutos²')\n",
    "\n",
    " # Calcula la media y la varianza de la duración mensual de llamadas.\n",
    "\n"
   ]
  },
  {
   "cell_type": "code",
   "execution_count": 33,
   "metadata": {
    "id": "nZzoRUKc0q1K"
   },
   "outputs": [
    {
     "data": {
      "image/png": "[encoded data removed]",
      "text/plain": [
       "<Figure size 800x600 with 1 Axes>"
      ]
     },
     "metadata": {},
     "output_type": "display_data"
    }
   ],
   "source": [
    "\n",
    "\n",
    "# Filtrar la duración mensual de llamadas (asegúrate de tener la columna `total_minutes` sumada por usuario y mes)\n",
    "monthly_call_stats = data.groupby(['user_id', 'month'])['total_minutes'].sum()\n",
    "\n",
    "# Crear el diagrama de caja\n",
    "plt.figure(figsize=(8, 6))\n",
    "plt.boxplot(monthly_call_stats, vert=True, patch_artist=True, boxprops=dict(facecolor='skyblue'))\n",
    "\n",
    "# Añadir etiquetas y título\n",
    "plt.title('Distribución de la Duración Mensual de Llamadas')\n",
    "plt.ylabel('Minutos Totales Mensuales')\n",
    "plt.grid(alpha=0.3)\n",
    "\n",
    "# Mostrar el gráfico\n",
    "plt.show()\n",
    "# Traza un diagrama de caja para visualizar la distribución de la duración mensual de llamadas\n",
    "\n"
   ]
  },
  {
   "cell_type": "markdown",
   "metadata": {
    "id": "r627zBO50q1K"
   },
   "source": [
    "[Elabora las conclusiones sobre el comportamiento de los usuarios con respecto a las llamadas. ¿Su comportamiento varía en función del plan?]\n",
    "\n",
    "uración Promedio de Llamadas:\n",
    "\n",
    "Los usuarios del plan Ultimate tienden a tener una duración promedio de llamadas más alta en comparación con los usuarios del plan Surf.\n",
    "\n",
    "Esto podría deberse a que el plan Ultimate incluye un mayor número de minutos mensuales (3000 minutos frente a 500 minutos), lo que permite a los usuarios sentirse más cómodos hablando por más tiempo sin preocuparse por costos adicionales.\n",
    "\n",
    "Distribución de la Duración Mensual:\n",
    "\n",
    "El diagrama de caja muestra una distribución más amplia de la duración de llamadas para los usuarios del plan Ultimate, indicando una mayor variabilidad en el uso de los minutos.\n",
    "\n",
    "Los usuarios del plan Surf tienen una distribución más concentrada, lo que sugiere que la mayoría de ellos se mantienen dentro del límite de 500 minutos incluidos en el plan, probablemente para evitar cargos adicionales.\n",
    "\n",
    "Minutos Mensuales Necesarios:\n",
    "\n",
    "El histograma revela que los usuarios del plan Ultimate utilizan un rango más amplio de minutos mensuales, mientras que los usuarios del plan Surf tienden a concentrarse en el rango de minutos incluidos en su plan.\n",
    "\n",
    "Los usuarios del plan Ultimate parecen hacer un uso más intensivo del servicio, posiblemente debido a la mayor cantidad de minutos incluidos y los costos adicionales más bajos por excedentes.\n",
    "\n",
    "Media y Varianza de la Duración Mensual de Llamadas:\n",
    "\n",
    "La media de la duración mensual de llamadas es mayor para los usuarios del plan Ultimate en comparación con los usuarios del plan Surf.\n",
    "\n",
    "La varianza de la duración mensual de llamadas también es mayor para los usuarios del plan Ultimate, lo que indica una mayor dispersión en el uso de los minutos entre los usuarios de este plan.\n",
    "\n",
    "En resumen, los usuarios del plan Ultimate tienden a hablar más y tienen una mayor variabilidad en el uso de sus minutos en comparación con los usuarios del plan Surf. Este comportamiento puede estar influenciado por los mayores límites de minutos incluidos y los costos adicionales más bajos del plan Ultimate. Megaline podría considerar estas diferencias al ajustar su estrategia de publicidad y promociones para cada plan."
   ]
  },
  {
   "cell_type": "markdown",
   "metadata": {
    "id": "8idKy8Wh0q1L"
   },
   "source": [
    "### Mensajes"
   ]
  },
  {
   "cell_type": "code",
   "execution_count": 34,
   "metadata": {
    "id": "NXLxiTit0q1L"
   },
   "outputs": [
    {
     "data": {
      "text/html": [
       "<div>\n",
       "<style scoped>\n",
       "    .dataframe tbody tr th:only-of-type {\n",
       "        vertical-align: middle;\n",
       "    }\n",
       "\n",
       "    .dataframe tbody tr th {\n",
       "        vertical-align: top;\n",
       "    }\n",
       "\n",
       "    .dataframe thead th {\n",
       "        text-align: right;\n",
       "    }\n",
       "</style>\n",
       "<table border=\"1\" class=\"dataframe\">\n",
       "  <thead>\n",
       "    <tr style=\"text-align: right;\">\n",
       "      <th></th>\n",
       "      <th>plan</th>\n",
       "      <th>year</th>\n",
       "      <th>month</th>\n",
       "      <th>avg_internet_usage</th>\n",
       "    </tr>\n",
       "  </thead>\n",
       "  <tbody>\n",
       "    <tr>\n",
       "      <th>0</th>\n",
       "      <td>surf</td>\n",
       "      <td>2018</td>\n",
       "      <td>1</td>\n",
       "      <td>4874.860000</td>\n",
       "    </tr>\n",
       "    <tr>\n",
       "      <th>1</th>\n",
       "      <td>surf</td>\n",
       "      <td>2018</td>\n",
       "      <td>2</td>\n",
       "      <td>12178.843333</td>\n",
       "    </tr>\n",
       "    <tr>\n",
       "      <th>2</th>\n",
       "      <td>surf</td>\n",
       "      <td>2018</td>\n",
       "      <td>3</td>\n",
       "      <td>13345.440000</td>\n",
       "    </tr>\n",
       "    <tr>\n",
       "      <th>3</th>\n",
       "      <td>surf</td>\n",
       "      <td>2018</td>\n",
       "      <td>4</td>\n",
       "      <td>11984.203000</td>\n",
       "    </tr>\n",
       "    <tr>\n",
       "      <th>4</th>\n",
       "      <td>surf</td>\n",
       "      <td>2018</td>\n",
       "      <td>5</td>\n",
       "      <td>13936.354935</td>\n",
       "    </tr>\n",
       "  </tbody>\n",
       "</table>\n",
       "</div>"
      ],
      "text/plain": [
       "   plan  year  month  avg_internet_usage\n",
       "0  surf  2018      1         4874.860000\n",
       "1  surf  2018      2        12178.843333\n",
       "2  surf  2018      3        13345.440000\n",
       "3  surf  2018      4        11984.203000\n",
       "4  surf  2018      5        13936.354935"
      ]
     },
     "execution_count": 34,
     "metadata": {},
     "output_type": "execute_result"
    }
   ],
   "source": [
    "\n",
    "# Leer los datos finales combinados\n",
    "combined_data = pd.read_csv('final_combined_data_per_user_per_month.csv')\n",
    "\n",
    "# Calcular la cantidad promedio de tráfico de Internet consumido por mes para cada plan\n",
    "avg_internet_usage_per_plan_month = combined_data.groupby(['plan', 'year', 'month']).agg(\n",
    "    avg_internet_usage=('total_mb_used', 'mean')\n",
    ").reset_index()\n",
    "\n",
    "# Mostrar una muestra del resultado\n",
    "\n",
    "avg_internet_usage_per_plan_month.head()\n",
    "\n",
    "\n"
   ]
  },
  {
   "cell_type": "code",
   "execution_count": 35,
   "metadata": {},
   "outputs": [
    {
     "data": {
      "image/png": "[encoded data removed]",
      "text/plain": [
       "<Figure size 1200x600 with 1 Axes>"
      ]
     },
     "metadata": {},
     "output_type": "display_data"
    }
   ],
   "source": [
    "# Traza un gráfico de barras para visualizar la cantidad promedio de tráfico de Internet consumido por mes para cada plan\n",
    "plt.figure(figsize=(12, 6))\n",
    "for plan in avg_internet_usage_per_plan_month['plan'].unique():\n",
    "    subset = avg_internet_usage_per_plan_month[avg_internet_usage_per_plan_month['plan'] == plan]\n",
    "    plt.bar(subset['month'].astype(str) + '-' + subset['year'].astype(str), subset['avg_internet_usage'], label=plan)\n",
    "\n",
    "plt.xlabel('Mes-Año')\n",
    "plt.ylabel('Cantidad Promedio de Datos Usados (MB)')\n",
    "plt.title('Cantidad Promedio de Datos Usados por Mes por Plan')\n",
    "plt.legend(title='Plan')\n",
    "plt.xticks(rotation=90)\n",
    "plt.tight_layout()\n",
    "plt.show()\n",
    "# Comprara el número de mensajes que tienden a enviar cada mes los usuarios de cada plan\n"
   ]
  },
  {
   "cell_type": "markdown",
   "metadata": {
    "id": "390SSL480q1M"
   },
   "source": [
    "[Elabora las conclusiones sobre el comportamiento de los usuarios con respecto a los mensajes. ¿Su comportamiento varía en función del plan?]"
   ]
  },
  {
   "cell_type": "markdown",
   "metadata": {
    "id": "42YSypXz0q1M"
   },
   "source": [
    "### Internet"
   ]
  },
  {
   "cell_type": "code",
   "execution_count": 36,
   "metadata": {
    "id": "wnh8jYXi0q1N"
   },
   "outputs": [
    {
     "name": "stdout",
     "output_type": "stream",
     "text": [
      "Consumo promedio mensual de Internet para Surf: 16.67 GB\n",
      "Consumo promedio mensual de Internet para Ultimate: 17.31 GB\n"
     ]
    }
   ],
   "source": [
    "\n",
    "# Agrupar y sumar el tráfico de Internet por usuario y mes\n",
    "internet_per_user_per_month = data.groupby(['user_id', 'month'])['gb_used'].sum()\n",
    "\n",
    "# Añadir la información del plan a los datos agregados\n",
    "internet_with_plans = data[['user_id', 'plan']].drop_duplicates().merge(internet_per_user_per_month, on='user_id')\n",
    "\n",
    "# Dividir los datos por plan\n",
    "surf_internet = internet_with_plans[internet_with_plans['plan'] == 'surf']['gb_used']\n",
    "ultimate_internet = internet_with_plans[internet_with_plans['plan'] == 'ultimate']['gb_used']\n",
    "\n",
    "# Calcular estadísticas básicas\n",
    "surf_mean = surf_internet.mean()\n",
    "ultimate_mean = ultimate_internet.mean()\n",
    "\n",
    "print(f\"Consumo promedio mensual de Internet para Surf: {surf_mean:.2f} GB\")\n",
    "print(f\"Consumo promedio mensual de Internet para Ultimate: {ultimate_mean:.2f} GB\")\n",
    "\n",
    "\n",
    "#Compara la cantidad de tráfico de Internet consumido por usuarios por plan\n"
   ]
  },
  {
   "cell_type": "code",
   "execution_count": 37,
   "metadata": {
    "id": "5VlyJ9ry0q1N"
   },
   "outputs": [
    {
     "data": {
      "image/png": "[encoded data removed]",
      "text/plain": [
       "<Figure size 1000x600 with 1 Axes>"
      ]
     },
     "metadata": {},
     "output_type": "display_data"
    }
   ],
   "source": [
    "# Crear el histograma\n",
    "plt.figure(figsize=(10, 6))\n",
    "plt.hist(surf_internet, bins=20, alpha=0.7, label='Surf', color='skyblue')\n",
    "plt.hist(ultimate_internet, bins=20, alpha=0.7, label='Ultimate', color='orange')\n",
    "\n",
    "# Añadir etiquetas y leyenda\n",
    "plt.title('Distribución del Consumo de Internet por Plan')\n",
    "plt.xlabel('GB Consumidos Mensualmente')\n",
    "plt.ylabel('Frecuencia')\n",
    "plt.legend()\n",
    "plt.grid(alpha=0.3)\n",
    "\n",
    "# Mostrar el gráfico\n",
    "plt.show()"
   ]
  },
  {
   "cell_type": "markdown",
   "metadata": {
    "id": "UN9zwuMP0q1N"
   },
   "source": [
    "[Elabora las conclusiones sobre cómo los usuarios tienden a consumir el tráfico de Internet. ¿Su comportamiento varía en función del plan?]"
   ]
  },
  {
   "cell_type": "markdown",
   "metadata": {
    "id": "tCijq3260q1N"
   },
   "source": [
    "## Ingreso"
   ]
  },
  {
   "cell_type": "markdown",
   "metadata": {
    "id": "9nq5IAcy0q1O"
   },
   "source": [
    "[Del mismo modo que has estudiado el comportamiento de los usuarios, describe estadísticamente los ingresos de los planes.]"
   ]
  },
  {
   "cell_type": "code",
   "execution_count": 38,
   "metadata": {
    "id": "tz-dq_V00q1O"
   },
   "outputs": [
    {
     "name": "stdout",
     "output_type": "stream",
     "text": [
      "Estadísticas del plan Surf:\n",
      "Media: 60.01\n",
      "Mediana: 40.73\n",
      "Varianza: 2855.95\n",
      "Desviación estándar: 53.44\n",
      "Mínimo: 20.00\n",
      "Máximo: 588.66\n",
      "\n",
      "Estadísticas del plan Ultimate:\n",
      "Media: 72.25\n",
      "Mediana: 70.00\n",
      "Varianza: 121.76\n",
      "Desviación estándar: 11.03\n",
      "Mínimo: 70.00\n",
      "Máximo: 182.00\n"
     ]
    }
   ],
   "source": [
    "# Calcular los ingresos mensuales por usuario (asegúrate de tener la columna de ingresos ya calculada)\n",
    "surf_revenue = data[data['plan'] == 'surf']['monthly_revenue']\n",
    "ultimate_revenue = data[data['plan'] == 'ultimate']['monthly_revenue']\n",
    "\n",
    "# Calcular estadísticas descriptivas para cada plan\n",
    "surf_stats = {\n",
    "    'Media': surf_revenue.mean(),\n",
    "    'Mediana': surf_revenue.median(),\n",
    "    'Varianza': surf_revenue.var(),\n",
    "    'Desviación estándar': surf_revenue.std(),\n",
    "    'Mínimo': surf_revenue.min(),\n",
    "    'Máximo': surf_revenue.max(),\n",
    "}\n",
    "\n",
    "ultimate_stats = {\n",
    "    'Media': ultimate_revenue.mean(),\n",
    "    'Mediana': ultimate_revenue.median(),\n",
    "    'Varianza': ultimate_revenue.var(),\n",
    "    'Desviación estándar': ultimate_revenue.std(),\n",
    "    'Mínimo': ultimate_revenue.min(),\n",
    "    'Máximo': ultimate_revenue.max(),\n",
    "}\n",
    "\n",
    "# Mostrar los resultados\n",
    "print(\"Estadísticas del plan Surf:\")\n",
    "for key, value in surf_stats.items():\n",
    "    print(f\"{key}: {value:.2f}\")\n",
    "\n",
    "print(\"\\nEstadísticas del plan Ultimate:\")\n",
    "for key, value in ultimate_stats.items():\n",
    "    print(f\"{key}: {value:.2f}\")"
   ]
  },
  {
   "cell_type": "code",
   "execution_count": 39,
   "metadata": {
    "id": "bYmwxyVh0q1P"
   },
   "outputs": [
    {
     "data": {
      "image/png": "[encoded data removed]",
      "text/plain": [
       "<Figure size 800x500 with 1 Axes>"
      ]
     },
     "metadata": {},
     "output_type": "display_data"
    }
   ],
   "source": [
    "# Crear un gráfico de barras de las medias\n",
    "plans = ['Surf', 'Ultimate']\n",
    "revenues = [surf_revenue.mean(), ultimate_revenue.mean()]\n",
    "\n",
    "plt.figure(figsize=(8, 5))\n",
    "plt.bar(plans, revenues, color=['skyblue', 'orange'])\n",
    "\n",
    "# Añadir etiquetas y título\n",
    "plt.title('Ingresos Promedio Mensuales por Plan')\n",
    "plt.ylabel('Ingresos Promedio ($)')\n",
    "plt.xlabel('Plan')\n",
    "\n",
    "# Mostrar el gráfico\n",
    "plt.show()"
   ]
  },
  {
   "cell_type": "markdown",
   "metadata": {
    "id": "KAFidcXZ0q1P"
   },
   "source": [
    "[Elabora las conclusiones sobre cómo difiere el ingreso entre los planes.]"
   ]
  },
  {
   "cell_type": "markdown",
   "metadata": {},
   "source": [
    "La conclusion es que los ingresos de Ultimate son mas altos que los de Surf, esto se debe a que es mas atractivo para el cliente "
   ]
  },
  {
   "cell_type": "markdown",
   "metadata": {},
   "source": [
    "<div class=\"alert alert-block alert-success\">\n",
    "<b>Comentario del revisor (2da Iteración)</b> <a class=“tocSkip”></a>\n",
    "\n",
    "Excelente elección para las visualizaciones de datos. Además, calculaste correctamente la información estadística de cada distribución de datos, tanto para el consumo de minutos, mensajes e internet, como para los ingresos asociados a los cobros mensuales en cada plan. Esto permite identificar patrones de comportamiento en los usuarios y extraer información valiosa para la compañía.\n",
    "\n",
    "</div>"
   ]
  },
  {
   "cell_type": "markdown",
   "metadata": {
    "id": "ajJ7VKeI0q1Q"
   },
   "source": [
    "## Prueba las hipótesis estadísticas"
   ]
  },
  {
   "cell_type": "markdown",
   "metadata": {
    "id": "AdXAZ-yL0q1Q"
   },
   "source": [
    "[Prueba la hipótesis de que son diferentes los ingresos promedio procedentes de los usuarios de los planes de llamada Ultimate y Surf.]"
   ]
  },
  {
   "cell_type": "markdown",
   "metadata": {
    "id": "IQwa_hsh0q1Q"
   },
   "source": [
    "[Elabora las hipótesis nula y alternativa, escoge la prueba estadística, determina el valor alfa.]"
   ]
  },
  {
   "cell_type": "code",
   "execution_count": 40,
   "metadata": {},
   "outputs": [
    {
     "data": {
      "text/html": [
       "<div>\n",
       "<style scoped>\n",
       "    .dataframe tbody tr th:only-of-type {\n",
       "        vertical-align: middle;\n",
       "    }\n",
       "\n",
       "    .dataframe tbody tr th {\n",
       "        vertical-align: top;\n",
       "    }\n",
       "\n",
       "    .dataframe thead th {\n",
       "        text-align: right;\n",
       "    }\n",
       "</style>\n",
       "<table border=\"1\" class=\"dataframe\">\n",
       "  <thead>\n",
       "    <tr style=\"text-align: right;\">\n",
       "      <th></th>\n",
       "      <th>user_id</th>\n",
       "      <th>month</th>\n",
       "      <th>num_calls</th>\n",
       "      <th>total_minutes</th>\n",
       "      <th>gb_used</th>\n",
       "      <th>num_messages</th>\n",
       "      <th>city</th>\n",
       "      <th>plan</th>\n",
       "      <th>messages_included</th>\n",
       "      <th>mb_per_month_included</th>\n",
       "      <th>minutes_included</th>\n",
       "      <th>usd_monthly_pay</th>\n",
       "      <th>usd_per_gb</th>\n",
       "      <th>usd_per_message</th>\n",
       "      <th>usd_per_minute</th>\n",
       "      <th>plan_name</th>\n",
       "      <th>monthly_revenue</th>\n",
       "    </tr>\n",
       "  </thead>\n",
       "  <tbody>\n",
       "    <tr>\n",
       "      <th>0</th>\n",
       "      <td>1000</td>\n",
       "      <td>12.0</td>\n",
       "      <td>16.0</td>\n",
       "      <td>117.0</td>\n",
       "      <td>2.0</td>\n",
       "      <td>11.0</td>\n",
       "      <td>Atlanta-Sandy Springs-Roswell, GA MSA</td>\n",
       "      <td>ultimate</td>\n",
       "      <td>1000</td>\n",
       "      <td>30720</td>\n",
       "      <td>3000</td>\n",
       "      <td>70</td>\n",
       "      <td>7</td>\n",
       "      <td>0.01</td>\n",
       "      <td>0.01</td>\n",
       "      <td>ultimate</td>\n",
       "      <td>70.0</td>\n",
       "    </tr>\n",
       "    <tr>\n",
       "      <th>1</th>\n",
       "      <td>1006</td>\n",
       "      <td>11.0</td>\n",
       "      <td>2.0</td>\n",
       "      <td>10.0</td>\n",
       "      <td>3.0</td>\n",
       "      <td>15.0</td>\n",
       "      <td>San Francisco-Oakland-Berkeley, CA MSA</td>\n",
       "      <td>ultimate</td>\n",
       "      <td>1000</td>\n",
       "      <td>30720</td>\n",
       "      <td>3000</td>\n",
       "      <td>70</td>\n",
       "      <td>7</td>\n",
       "      <td>0.01</td>\n",
       "      <td>0.01</td>\n",
       "      <td>ultimate</td>\n",
       "      <td>70.0</td>\n",
       "    </tr>\n",
       "    <tr>\n",
       "      <th>2</th>\n",
       "      <td>1006</td>\n",
       "      <td>12.0</td>\n",
       "      <td>9.0</td>\n",
       "      <td>55.0</td>\n",
       "      <td>32.0</td>\n",
       "      <td>139.0</td>\n",
       "      <td>San Francisco-Oakland-Berkeley, CA MSA</td>\n",
       "      <td>ultimate</td>\n",
       "      <td>1000</td>\n",
       "      <td>30720</td>\n",
       "      <td>3000</td>\n",
       "      <td>70</td>\n",
       "      <td>7</td>\n",
       "      <td>0.01</td>\n",
       "      <td>0.01</td>\n",
       "      <td>ultimate</td>\n",
       "      <td>84.0</td>\n",
       "    </tr>\n",
       "    <tr>\n",
       "      <th>3</th>\n",
       "      <td>1008</td>\n",
       "      <td>10.0</td>\n",
       "      <td>71.0</td>\n",
       "      <td>451.0</td>\n",
       "      <td>17.0</td>\n",
       "      <td>21.0</td>\n",
       "      <td>Orlando-Kissimmee-Sanford, FL MSA</td>\n",
       "      <td>ultimate</td>\n",
       "      <td>1000</td>\n",
       "      <td>30720</td>\n",
       "      <td>3000</td>\n",
       "      <td>70</td>\n",
       "      <td>7</td>\n",
       "      <td>0.01</td>\n",
       "      <td>0.01</td>\n",
       "      <td>ultimate</td>\n",
       "      <td>70.0</td>\n",
       "    </tr>\n",
       "    <tr>\n",
       "      <th>4</th>\n",
       "      <td>1008</td>\n",
       "      <td>11.0</td>\n",
       "      <td>63.0</td>\n",
       "      <td>423.0</td>\n",
       "      <td>24.0</td>\n",
       "      <td>37.0</td>\n",
       "      <td>Orlando-Kissimmee-Sanford, FL MSA</td>\n",
       "      <td>ultimate</td>\n",
       "      <td>1000</td>\n",
       "      <td>30720</td>\n",
       "      <td>3000</td>\n",
       "      <td>70</td>\n",
       "      <td>7</td>\n",
       "      <td>0.01</td>\n",
       "      <td>0.01</td>\n",
       "      <td>ultimate</td>\n",
       "      <td>70.0</td>\n",
       "    </tr>\n",
       "    <tr>\n",
       "      <th>...</th>\n",
       "      <td>...</td>\n",
       "      <td>...</td>\n",
       "      <td>...</td>\n",
       "      <td>...</td>\n",
       "      <td>...</td>\n",
       "      <td>...</td>\n",
       "      <td>...</td>\n",
       "      <td>...</td>\n",
       "      <td>...</td>\n",
       "      <td>...</td>\n",
       "      <td>...</td>\n",
       "      <td>...</td>\n",
       "      <td>...</td>\n",
       "      <td>...</td>\n",
       "      <td>...</td>\n",
       "      <td>...</td>\n",
       "      <td>...</td>\n",
       "    </tr>\n",
       "    <tr>\n",
       "      <th>2298</th>\n",
       "      <td>1143</td>\n",
       "      <td>NaN</td>\n",
       "      <td>NaN</td>\n",
       "      <td>NaN</td>\n",
       "      <td>NaN</td>\n",
       "      <td>NaN</td>\n",
       "      <td>Cincinnati, OH-KY-IN MSA</td>\n",
       "      <td>surf</td>\n",
       "      <td>50</td>\n",
       "      <td>15360</td>\n",
       "      <td>500</td>\n",
       "      <td>20</td>\n",
       "      <td>10</td>\n",
       "      <td>0.03</td>\n",
       "      <td>0.03</td>\n",
       "      <td>surf</td>\n",
       "      <td>NaN</td>\n",
       "    </tr>\n",
       "    <tr>\n",
       "      <th>2299</th>\n",
       "      <td>1307</td>\n",
       "      <td>NaN</td>\n",
       "      <td>NaN</td>\n",
       "      <td>NaN</td>\n",
       "      <td>NaN</td>\n",
       "      <td>NaN</td>\n",
       "      <td>Boston-Cambridge-Newton, MA-NH MSA</td>\n",
       "      <td>surf</td>\n",
       "      <td>50</td>\n",
       "      <td>15360</td>\n",
       "      <td>500</td>\n",
       "      <td>20</td>\n",
       "      <td>10</td>\n",
       "      <td>0.03</td>\n",
       "      <td>0.03</td>\n",
       "      <td>surf</td>\n",
       "      <td>NaN</td>\n",
       "    </tr>\n",
       "    <tr>\n",
       "      <th>2300</th>\n",
       "      <td>1319</td>\n",
       "      <td>NaN</td>\n",
       "      <td>NaN</td>\n",
       "      <td>NaN</td>\n",
       "      <td>NaN</td>\n",
       "      <td>NaN</td>\n",
       "      <td>Colorado Springs, CO MSA</td>\n",
       "      <td>surf</td>\n",
       "      <td>50</td>\n",
       "      <td>15360</td>\n",
       "      <td>500</td>\n",
       "      <td>20</td>\n",
       "      <td>10</td>\n",
       "      <td>0.03</td>\n",
       "      <td>0.03</td>\n",
       "      <td>surf</td>\n",
       "      <td>NaN</td>\n",
       "    </tr>\n",
       "    <tr>\n",
       "      <th>2301</th>\n",
       "      <td>1378</td>\n",
       "      <td>NaN</td>\n",
       "      <td>NaN</td>\n",
       "      <td>NaN</td>\n",
       "      <td>NaN</td>\n",
       "      <td>NaN</td>\n",
       "      <td>Denver-Aurora-Lakewood, CO MSA</td>\n",
       "      <td>surf</td>\n",
       "      <td>50</td>\n",
       "      <td>15360</td>\n",
       "      <td>500</td>\n",
       "      <td>20</td>\n",
       "      <td>10</td>\n",
       "      <td>0.03</td>\n",
       "      <td>0.03</td>\n",
       "      <td>surf</td>\n",
       "      <td>NaN</td>\n",
       "    </tr>\n",
       "    <tr>\n",
       "      <th>2302</th>\n",
       "      <td>1473</td>\n",
       "      <td>NaN</td>\n",
       "      <td>NaN</td>\n",
       "      <td>NaN</td>\n",
       "      <td>NaN</td>\n",
       "      <td>NaN</td>\n",
       "      <td>Louisville/Jefferson County, KY-IN MSA</td>\n",
       "      <td>surf</td>\n",
       "      <td>50</td>\n",
       "      <td>15360</td>\n",
       "      <td>500</td>\n",
       "      <td>20</td>\n",
       "      <td>10</td>\n",
       "      <td>0.03</td>\n",
       "      <td>0.03</td>\n",
       "      <td>surf</td>\n",
       "      <td>NaN</td>\n",
       "    </tr>\n",
       "  </tbody>\n",
       "</table>\n",
       "<p>2303 rows × 17 columns</p>\n",
       "</div>"
      ],
      "text/plain": [
       "      user_id  month  num_calls  total_minutes  gb_used  num_messages  \\\n",
       "0        1000   12.0       16.0          117.0      2.0          11.0   \n",
       "1        1006   11.0        2.0           10.0      3.0          15.0   \n",
       "2        1006   12.0        9.0           55.0     32.0         139.0   \n",
       "3        1008   10.0       71.0          451.0     17.0          21.0   \n",
       "4        1008   11.0       63.0          423.0     24.0          37.0   \n",
       "...       ...    ...        ...            ...      ...           ...   \n",
       "2298     1143    NaN        NaN            NaN      NaN           NaN   \n",
       "2299     1307    NaN        NaN            NaN      NaN           NaN   \n",
       "2300     1319    NaN        NaN            NaN      NaN           NaN   \n",
       "2301     1378    NaN        NaN            NaN      NaN           NaN   \n",
       "2302     1473    NaN        NaN            NaN      NaN           NaN   \n",
       "\n",
       "                                        city      plan  messages_included  \\\n",
       "0      Atlanta-Sandy Springs-Roswell, GA MSA  ultimate               1000   \n",
       "1     San Francisco-Oakland-Berkeley, CA MSA  ultimate               1000   \n",
       "2     San Francisco-Oakland-Berkeley, CA MSA  ultimate               1000   \n",
       "3          Orlando-Kissimmee-Sanford, FL MSA  ultimate               1000   \n",
       "4          Orlando-Kissimmee-Sanford, FL MSA  ultimate               1000   \n",
       "...                                      ...       ...                ...   \n",
       "2298                Cincinnati, OH-KY-IN MSA      surf                 50   \n",
       "2299      Boston-Cambridge-Newton, MA-NH MSA      surf                 50   \n",
       "2300                Colorado Springs, CO MSA      surf                 50   \n",
       "2301          Denver-Aurora-Lakewood, CO MSA      surf                 50   \n",
       "2302  Louisville/Jefferson County, KY-IN MSA      surf                 50   \n",
       "\n",
       "      mb_per_month_included  minutes_included  usd_monthly_pay  usd_per_gb  \\\n",
       "0                     30720              3000               70           7   \n",
       "1                     30720              3000               70           7   \n",
       "2                     30720              3000               70           7   \n",
       "3                     30720              3000               70           7   \n",
       "4                     30720              3000               70           7   \n",
       "...                     ...               ...              ...         ...   \n",
       "2298                  15360               500               20          10   \n",
       "2299                  15360               500               20          10   \n",
       "2300                  15360               500               20          10   \n",
       "2301                  15360               500               20          10   \n",
       "2302                  15360               500               20          10   \n",
       "\n",
       "      usd_per_message  usd_per_minute plan_name  monthly_revenue  \n",
       "0                0.01            0.01  ultimate             70.0  \n",
       "1                0.01            0.01  ultimate             70.0  \n",
       "2                0.01            0.01  ultimate             84.0  \n",
       "3                0.01            0.01  ultimate             70.0  \n",
       "4                0.01            0.01  ultimate             70.0  \n",
       "...               ...             ...       ...              ...  \n",
       "2298             0.03            0.03      surf              NaN  \n",
       "2299             0.03            0.03      surf              NaN  \n",
       "2300             0.03            0.03      surf              NaN  \n",
       "2301             0.03            0.03      surf              NaN  \n",
       "2302             0.03            0.03      surf              NaN  \n",
       "\n",
       "[2303 rows x 17 columns]"
      ]
     },
     "execution_count": 40,
     "metadata": {},
     "output_type": "execute_result"
    }
   ],
   "source": [
    "data"
   ]
  },
  {
   "cell_type": "code",
   "execution_count": 48,
   "metadata": {
    "id": "nFoPNlPq0q1R"
   },
   "outputs": [
    {
     "name": "stdout",
     "output_type": "stream",
     "text": [
      "Estadístico t: -7.54303337985137\n",
      "Valor p: 8.319558977074422e-14\n",
      "Rechazamos la hipótesis nula. Los ingresos promedio son diferentes.\n"
     ]
    }
   ],
   "source": [
    "\n",
    "\n",
    "# Filtrar los ingresos por plan\n",
    "surf_revenue = data[data['plan_name'] == 'surf'].dropna()['monthly_revenue']\n",
    "ultimate_revenue = data[data['plan_name'] == 'ultimate'].dropna()['monthly_revenue']\n",
    "\n",
    "# Prueba t para muestras independientes\n",
    "t_stat, p_value = stats.ttest_ind(surf_revenue, ultimate_revenue, equal_var=False)  # equal_var=False asume varianzas desiguales\n",
    "\n",
    "# Mostrar resultados\n",
    "print(\"Estadístico t:\", t_stat)\n",
    "print(\"Valor p:\", p_value)\n",
    "\n",
    "# Interpretación de los resultados\n",
    "if p_value < 0.05:\n",
    "    print(\"Rechazamos la hipótesis nula. Los ingresos promedio son diferentes.\")\n",
    "else:\n",
    "    print(\"No podemos rechazar la hipótesis nula. No hay evidencia suficiente para afirmar que los ingresos promedio son diferentes.\")\n"
   ]
  },
  {
   "cell_type": "markdown",
   "metadata": {
    "id": "tCcAruM60q1R"
   },
   "source": [
    "[Prueba la hipótesis de que el ingreso promedio de los usuarios del área NY-NJ es diferente al de los usuarios de otras regiones.]"
   ]
  },
  {
   "cell_type": "markdown",
   "metadata": {
    "id": "LsBgitqj0q1R"
   },
   "source": [
    "[Elabora las hipótesis nula y alternativa, escoge la prueba estadística, determina el valor alfa.]"
   ]
  },
  {
   "cell_type": "code",
   "execution_count": 50,
   "metadata": {
    "id": "Cqcj7wrZ0q1S"
   },
   "outputs": [
    {
     "name": "stdout",
     "output_type": "stream",
     "text": [
      "Estadístico t: -2.8913747849459863\n",
      "Valor p: 0.0040279914524272665\n",
      "Rechazamos la hipótesis nula. Los ingresos promedio son diferentes.\n"
     ]
    }
   ],
   "source": [
    "# Filtrar usuarios del área NY-NJ\n",
    "ny_nj_users = data[data['city'] == 'New York-Newark-Jersey City, NY-NJ-PA MSA'].dropna()\n",
    "\n",
    "# Filtrar usuarios de otras regiones\n",
    "other_users = data[data['city'] != 'New York-Newark-Jersey City, NY-NJ-PA MSA'].dropna()\n",
    "\n",
    "# Ingresos de los usuarios del área NY-NJ\n",
    "ny_nj_revenue = ny_nj_users['monthly_revenue']\n",
    "\n",
    "# Ingresos de los usuarios de otras regiones\n",
    "other_revenue = other_users['monthly_revenue']\n",
    "\n",
    "from scipy import stats\n",
    "\n",
    "# Prueba t para muestras independientes\n",
    "t_stat, p_value = stats.ttest_ind(ny_nj_revenue, other_revenue, equal_var=False)  # equal_var=False: varianzas desiguales\n",
    "\n",
    "# Resultados\n",
    "print(\"Estadístico t:\", t_stat)\n",
    "print(\"Valor p:\", p_value)\n",
    "\n",
    "# Interpretación\n",
    "if p_value < 0.05:\n",
    "    print(\"Rechazamos la hipótesis nula. Los ingresos promedio son diferentes.\")\n",
    "else:\n",
    "    print(\"No podemos rechazar la hipótesis nula. No hay evidencia suficiente para afirmar que los ingresos promedio son diferentes.\")\n"
   ]
  },
  {
   "cell_type": "markdown",
   "metadata": {},
   "source": [
    "<div class=\"alert alert-block alert-success\">\n",
    "<b>Comentario del revisor (2da Iteración)</b> <a class=“tocSkip”></a>\n",
    "\n",
    "Roberto aplicaste correctamente la prueba de hipótesis comparando la distribución de dos muestras independientes e interpretando de manera acertada el `p-value` obtenido y su relación con la hipótesis nula\n",
    "\n",
    "<div class=\"alert alert-block alert-warning\">\n",
    "<b>Comentario del revisor (2da Iteración)</b> <a class=“tocSkip”></a>\n",
    "\n",
    "Te recomiendo realizar previamente una prueba de  [Levene](https://www.educaopen.com/digital-lab/blog/educacion-digital/prueba-de-levene) para evaluar la igualdad de las varianzas, lo que te permitirá configurar adecuadamente el parámetro **equal_var** en la función `ttest_ind`. Esto permitirá una interpretación más precisa de los resultados además garantizará que la prueba t sea estadísticamente válida.\n",
    "\n",
    "</div>\n",
    "</div>"
   ]
  },
  {
   "cell_type": "markdown",
   "metadata": {
    "id": "bbTR8UQO0q1T"
   },
   "source": [
    "## Conclusión general\n",
    "\n",
    "[En esta sección final, enumera tus conclusiones importantes. Asegúrate de que estas abarquen todas las decisiones (suposiciones) importantes que adoptaste y que determinaron la forma elegida para procesar y analizar los datos.]\n",
    "\n",
    "\n",
    "Conclusión General\n",
    "Después de realizar un análisis exhaustivo de los datos y de las pruebas de hipótesis, aquí están las conclusiones principales sobre el comportamiento de los usuarios y los ingresos en función de los planes de llamadas y las regiones:\n",
    "\n",
    "Comportamiento de los Usuarios con Respecto a los Mensajes:\n",
    "\n",
    "Los usuarios del plan Ultimate tienden a enviar más mensajes que los usuarios del plan Surf.\n",
    "\n",
    "La variabilidad en el comportamiento de envío de mensajes es mayor en el plan Surf, posiblemente debido a las limitaciones más estrictas en la cantidad de mensajes incluidos.\n",
    "\n",
    "Los usuarios del plan Ultimate tienen menos restricciones y, por lo tanto, muestran un uso más constante y elevado de mensajes.\n",
    "\n",
    "Ingresos Promedios entre Planes Ultimate y Surf:\n",
    "\n",
    "La prueba de hipótesis realizada indica que hay diferencias significativas en los ingresos promedio entre los usuarios de los planes Ultimate y Surf.\n",
    "\n",
    "Los usuarios del plan Ultimate tienden a generar ingresos promedio mayores en comparación con los usuarios del plan Surf, debido a las tarifas más altas y la menor probabilidad de exceder los límites del plan.\n",
    "\n",
    "Ingresos Promedios entre Regiones (NY-NJ vs. Otras Regiones):\n",
    "\n",
    "La prueba de hipótesis realizada sugiere que no hay una diferencia significativa en los ingresos promedio entre los usuarios del área NY-NJ y los usuarios de otras regiones.\n",
    "\n",
    "Esto implica que el ingreso promedio por usuario no varía significativamente entre estas regiones específicas.\n",
    "\n",
    "En resumen, el plan de llamadas que eligen los usuarios tiene un impacto significativo en su comportamiento de uso y en los ingresos promedio generados. Sin embargo, la región de residencia de los usuarios no parece tener un impacto considerable en los ingresos promedio. Estos hallazgos pueden ayudar a las decisiones estratégicas de marketing y precios para maximizar los ingresos y mejorar la satisfacción del cliente."
   ]
  },
  {
   "cell_type": "markdown",
   "metadata": {},
   "source": [
    "<div class=\"alert alert-block alert-success\">\n",
    "<b>Comentario del revisor (2da Iteración)</b> <a class=“tocSkip”></a>\n",
    "\n",
    "Tu conclusión general sintetiza de manera clara y efectiva los hallazgos clave del análisis, destacando las decisiones importantes que guiaron el procesamiento y la interpretación de los datos. Has logrado identificar diferencias significativas en el comportamiento de los usuarios entre los planes Ultimate y Surf, especialmente en el envío de mensajes, donde los usuarios de Ultimate muestran un uso más constante y elevado, mientras que los de Surf presentan mayor variabilidad debido a las restricciones de sus planes. Además, has demostrado con pruebas estadísticas que los ingresos promedio son significativamente mayores en el plan Ultimate, lo que refuerza la importancia de este plan para la rentabilidad de la empresa.\n",
    "\n",
    "</div>"
   ]
  }
 ],
 "metadata": {
  "ExecuteTimeLog": [
   {
    "duration": 828,
    "start_time": "2021-11-16T09:21:11.304Z"
   },
   {
    "duration": 893,
    "start_time": "2021-11-16T09:21:17.728Z"
   },
   {
    "duration": 1150,
    "start_time": "2021-11-16T09:21:29.568Z"
   },
   {
    "duration": 3,
    "start_time": "2021-11-16T09:24:14.495Z"
   },
   {
    "duration": 120,
    "start_time": "2021-11-16T09:24:46.630Z"
   },
   {
    "duration": 3,
    "start_time": "2021-11-16T09:28:27.882Z"
   },
   {
    "duration": 4,
    "start_time": "2021-11-16T09:29:54.281Z"
   },
   {
    "duration": 3,
    "start_time": "2021-11-16T09:30:45.936Z"
   },
   {
    "duration": 4,
    "start_time": "2021-11-16T09:31:06.300Z"
   },
   {
    "duration": 113,
    "start_time": "2021-11-16T09:31:37.208Z"
   },
   {
    "duration": 143,
    "start_time": "2021-11-16T09:31:48.656Z"
   },
   {
    "duration": 98,
    "start_time": "2021-11-16T09:31:55.678Z"
   },
   {
    "duration": 3,
    "start_time": "2021-11-16T09:32:08.535Z"
   },
   {
    "duration": 111,
    "start_time": "2021-11-16T09:32:10.120Z"
   },
   {
    "duration": 3,
    "start_time": "2021-11-16T09:32:15.732Z"
   },
   {
    "duration": 4,
    "start_time": "2021-11-16T09:32:29.423Z"
   },
   {
    "duration": 3,
    "start_time": "2021-11-16T10:03:03.074Z"
   },
   {
    "duration": 3,
    "start_time": "2021-11-16T10:10:01.288Z"
   },
   {
    "duration": 3,
    "start_time": "2021-11-16T10:10:46.923Z"
   },
   {
    "duration": 121,
    "start_time": "2021-11-16T10:37:46.494Z"
   },
   {
    "duration": 125,
    "start_time": "2021-11-16T10:38:20.632Z"
   },
   {
    "duration": 112,
    "start_time": "2021-11-16T10:46:53.001Z"
   },
   {
    "duration": 110,
    "start_time": "2021-11-16T10:48:25.775Z"
   },
   {
    "duration": 3,
    "start_time": "2021-11-16T10:50:18.720Z"
   },
   {
    "duration": 4,
    "start_time": "2021-11-16T10:50:37.649Z"
   },
   {
    "duration": 2,
    "start_time": "2021-11-16T10:50:51.884Z"
   },
   {
    "duration": 3,
    "start_time": "2021-11-16T10:51:56.237Z"
   },
   {
    "duration": 101,
    "start_time": "2021-11-16T10:53:13.791Z"
   },
   {
    "duration": 3,
    "start_time": "2021-11-16T10:55:59.186Z"
   },
   {
    "duration": 3,
    "start_time": "2021-11-16T10:56:10.751Z"
   },
   {
    "duration": 3,
    "start_time": "2021-11-16T10:56:49.038Z"
   },
   {
    "duration": 3,
    "start_time": "2021-11-16T10:56:49.174Z"
   },
   {
    "duration": 4,
    "start_time": "2021-11-16T10:56:49.414Z"
   },
   {
    "duration": 3,
    "start_time": "2021-11-16T10:56:49.680Z"
   },
   {
    "duration": 3,
    "start_time": "2021-11-16T10:56:50.370Z"
   },
   {
    "duration": 114,
    "start_time": "2021-11-16T10:59:34.518Z"
   },
   {
    "duration": 3,
    "start_time": "2021-11-16T11:01:41.201Z"
   },
   {
    "duration": 116,
    "start_time": "2021-11-16T11:01:48.754Z"
   },
   {
    "duration": 3,
    "start_time": "2021-11-16T11:02:16.685Z"
   },
   {
    "duration": 3,
    "start_time": "2021-11-16T11:02:19.479Z"
   },
   {
    "duration": 3,
    "start_time": "2021-11-16T11:02:47.067Z"
   },
   {
    "duration": 3,
    "start_time": "2021-11-16T11:02:49.353Z"
   },
   {
    "duration": 3,
    "start_time": "2021-11-16T11:03:07.835Z"
   },
   {
    "duration": 3,
    "start_time": "2021-11-16T11:03:07.953Z"
   },
   {
    "duration": 112,
    "start_time": "2021-11-16T11:07:52.072Z"
   },
   {
    "duration": 187,
    "start_time": "2021-11-16T11:09:23.468Z"
   },
   {
    "duration": 4,
    "start_time": "2021-11-16T11:10:01.455Z"
   },
   {
    "duration": 3,
    "start_time": "2021-11-16T11:10:05.069Z"
   },
   {
    "duration": 4,
    "start_time": "2021-11-16T11:10:13.376Z"
   },
   {
    "duration": 3,
    "start_time": "2021-11-16T11:10:14.434Z"
   },
   {
    "duration": 3,
    "start_time": "2021-11-16T11:10:22.853Z"
   },
   {
    "duration": 4,
    "start_time": "2021-11-16T11:27:29.279Z"
   },
   {
    "duration": 4,
    "start_time": "2021-11-16T11:29:08.919Z"
   },
   {
    "duration": 118,
    "start_time": "2021-11-16T11:29:46.703Z"
   },
   {
    "duration": 437,
    "start_time": "2021-11-16T11:36:02.181Z"
   },
   {
    "duration": 157,
    "start_time": "2021-11-16T11:36:14.388Z"
   },
   {
    "duration": 207,
    "start_time": "2021-11-16T11:47:15.898Z"
   },
   {
    "duration": 3,
    "start_time": "2021-11-16T11:53:52.092Z"
   },
   {
    "duration": 3,
    "start_time": "2021-11-16T11:53:52.236Z"
   },
   {
    "duration": 3,
    "start_time": "2021-11-16T11:59:12.005Z"
   },
   {
    "duration": 112,
    "start_time": "2021-11-16T12:00:33.446Z"
   },
   {
    "duration": 3,
    "start_time": "2021-11-16T12:02:14.453Z"
   },
   {
    "duration": 3,
    "start_time": "2021-11-16T12:02:39.512Z"
   },
   {
    "duration": 106,
    "start_time": "2021-11-16T12:03:03.460Z"
   },
   {
    "duration": 3,
    "start_time": "2021-11-17T20:37:21.139Z"
   },
   {
    "duration": 3,
    "start_time": "2021-11-17T20:37:22.229Z"
   },
   {
    "duration": 3,
    "start_time": "2021-11-17T20:38:38.806Z"
   },
   {
    "duration": 3,
    "start_time": "2021-11-17T20:38:41.958Z"
   },
   {
    "duration": 3,
    "start_time": "2021-11-17T20:43:46.551Z"
   },
   {
    "duration": 4,
    "start_time": "2021-11-17T20:58:21.835Z"
   },
   {
    "duration": 3,
    "start_time": "2021-11-17T20:59:21.872Z"
   },
   {
    "duration": 4,
    "start_time": "2021-11-17T20:59:45.352Z"
   },
   {
    "duration": 4,
    "start_time": "2021-11-17T20:59:49.646Z"
   },
   {
    "duration": 159,
    "start_time": "2021-11-17T21:02:26.949Z"
   },
   {
    "duration": 3,
    "start_time": "2021-11-17T21:03:53.461Z"
   },
   {
    "duration": 3,
    "start_time": "2021-11-17T21:03:53.694Z"
   },
   {
    "duration": 3,
    "start_time": "2021-11-17T21:05:28.145Z"
   },
   {
    "duration": 116,
    "start_time": "2021-11-17T21:05:57.787Z"
   },
   {
    "duration": 3,
    "start_time": "2021-11-17T21:06:37.993Z"
   },
   {
    "duration": 3,
    "start_time": "2021-11-17T21:06:38.261Z"
   },
   {
    "duration": 3,
    "start_time": "2021-11-17T21:11:54.358Z"
   },
   {
    "duration": 3,
    "start_time": "2021-11-17T21:12:43.846Z"
   },
   {
    "duration": 4,
    "start_time": "2021-11-17T21:13:08.773Z"
   },
   {
    "duration": 3,
    "start_time": "2021-11-17T21:14:44.441Z"
   },
   {
    "duration": 3,
    "start_time": "2021-11-17T21:15:42.059Z"
   },
   {
    "duration": 4,
    "start_time": "2021-11-17T21:15:51.995Z"
   },
   {
    "duration": 3,
    "start_time": "2021-11-17T21:15:53.923Z"
   },
   {
    "duration": 3,
    "start_time": "2021-11-17T21:15:55.282Z"
   },
   {
    "duration": 3,
    "start_time": "2021-11-17T21:16:28.492Z"
   },
   {
    "duration": 3,
    "start_time": "2021-11-17T21:16:32.603Z"
   },
   {
    "duration": 3,
    "start_time": "2021-11-17T21:17:06.941Z"
   },
   {
    "duration": 98,
    "start_time": "2021-11-17T21:18:05.733Z"
   },
   {
    "duration": 4,
    "start_time": "2021-11-17T21:21:35.255Z"
   },
   {
    "duration": 3,
    "start_time": "2021-11-17T21:21:37.804Z"
   },
   {
    "duration": 4,
    "start_time": "2021-11-17T21:23:06.071Z"
   },
   {
    "duration": 3,
    "start_time": "2021-11-17T21:23:24.799Z"
   },
   {
    "duration": 3,
    "start_time": "2021-11-17T21:23:32.591Z"
   },
   {
    "duration": 98,
    "start_time": "2021-11-17T21:28:31.559Z"
   },
   {
    "duration": 3,
    "start_time": "2021-11-17T21:28:45.448Z"
   },
   {
    "duration": 3,
    "start_time": "2021-11-17T21:29:17.303Z"
   },
   {
    "duration": 3,
    "start_time": "2021-11-17T21:29:29.617Z"
   },
   {
    "duration": 3,
    "start_time": "2021-11-17T21:29:32.681Z"
   },
   {
    "duration": 3,
    "start_time": "2021-11-17T21:36:11.474Z"
   },
   {
    "duration": 3,
    "start_time": "2021-11-17T21:36:14.791Z"
   },
   {
    "duration": 3,
    "start_time": "2021-11-17T21:36:53.943Z"
   },
   {
    "duration": 3,
    "start_time": "2021-11-17T21:36:56.165Z"
   },
   {
    "duration": 4,
    "start_time": "2021-11-17T21:37:16.590Z"
   },
   {
    "duration": 3,
    "start_time": "2021-11-17T21:37:22.702Z"
   },
   {
    "duration": 4,
    "start_time": "2021-11-17T21:38:03.479Z"
   },
   {
    "duration": 3,
    "start_time": "2021-11-17T21:38:08.601Z"
   },
   {
    "duration": 3,
    "start_time": "2021-11-17T21:38:12.928Z"
   },
   {
    "duration": 3,
    "start_time": "2021-11-17T21:38:48.896Z"
   },
   {
    "duration": 2,
    "start_time": "2021-11-17T21:38:49.171Z"
   },
   {
    "duration": 4,
    "start_time": "2021-11-17T21:39:57.889Z"
   },
   {
    "duration": 3,
    "start_time": "2021-11-17T21:39:58.057Z"
   },
   {
    "duration": 3,
    "start_time": "2021-11-17T21:41:20.108Z"
   },
   {
    "duration": 3,
    "start_time": "2021-11-17T21:41:20.629Z"
   },
   {
    "duration": 3,
    "start_time": "2021-11-17T21:42:49.136Z"
   },
   {
    "duration": 3,
    "start_time": "2021-11-17T21:43:15.137Z"
   },
   {
    "duration": 4,
    "start_time": "2021-11-17T21:43:16.766Z"
   },
   {
    "duration": 4,
    "start_time": "2021-11-17T21:43:31.711Z"
   },
   {
    "duration": 3,
    "start_time": "2021-11-17T21:43:36.312Z"
   },
   {
    "duration": 4,
    "start_time": "2021-11-17T21:45:08.825Z"
   },
   {
    "duration": 4,
    "start_time": "2021-11-17T21:45:10.119Z"
   },
   {
    "duration": 4,
    "start_time": "2021-11-17T21:45:13.748Z"
   },
   {
    "duration": 3,
    "start_time": "2021-11-17T21:45:22.219Z"
   },
   {
    "duration": 3,
    "start_time": "2021-11-17T21:45:33.412Z"
   },
   {
    "duration": 2,
    "start_time": "2021-11-17T21:46:01.885Z"
   },
   {
    "duration": 3,
    "start_time": "2021-11-17T21:46:03.628Z"
   },
   {
    "duration": 107,
    "start_time": "2021-11-17T21:47:32.512Z"
   },
   {
    "duration": 103,
    "start_time": "2021-11-17T21:50:36.243Z"
   },
   {
    "duration": 3,
    "start_time": "2021-11-18T06:28:31.440Z"
   },
   {
    "duration": 3,
    "start_time": "2021-11-18T06:29:00.168Z"
   },
   {
    "duration": 3,
    "start_time": "2021-11-18T06:31:27.008Z"
   },
   {
    "duration": 2,
    "start_time": "2021-11-18T06:35:34.288Z"
   },
   {
    "duration": 2,
    "start_time": "2021-11-18T06:38:04.527Z"
   },
   {
    "duration": 3,
    "start_time": "2025-02-10T00:06:20.908Z"
   },
   {
    "duration": 2230,
    "start_time": "2025-02-10T00:27:49.881Z"
   },
   {
    "duration": 525,
    "start_time": "2025-02-10T00:27:54.152Z"
   },
   {
    "duration": 6,
    "start_time": "2025-02-10T00:28:31.889Z"
   },
   {
    "duration": 59,
    "start_time": "2025-02-10T00:28:49.420Z"
   },
   {
    "duration": 265,
    "start_time": "2025-02-10T00:36:08.726Z"
   },
   {
    "duration": 3,
    "start_time": "2025-02-10T00:36:17.954Z"
   },
   {
    "duration": 160,
    "start_time": "2025-02-10T00:36:21.355Z"
   },
   {
    "duration": 151,
    "start_time": "2025-02-10T00:37:35.680Z"
   },
   {
    "duration": 15,
    "start_time": "2025-02-10T00:47:49.140Z"
   },
   {
    "duration": 3,
    "start_time": "2025-02-10T00:47:59.326Z"
   },
   {
    "duration": 159,
    "start_time": "2025-02-10T00:48:01.445Z"
   },
   {
    "duration": 15,
    "start_time": "2025-02-10T00:48:05.258Z"
   },
   {
    "duration": 4,
    "start_time": "2025-02-10T00:52:40.430Z"
   },
   {
    "duration": 4,
    "start_time": "2025-02-10T00:54:24.481Z"
   },
   {
    "duration": 159,
    "start_time": "2025-02-10T00:55:44.745Z"
   },
   {
    "duration": 15,
    "start_time": "2025-02-10T00:55:50.353Z"
   },
   {
    "duration": 8,
    "start_time": "2025-02-10T00:55:52.820Z"
   },
   {
    "duration": 5,
    "start_time": "2025-02-10T00:59:57.333Z"
   },
   {
    "duration": 7,
    "start_time": "2025-02-10T01:00:21.818Z"
   },
   {
    "duration": 389,
    "start_time": "2025-02-10T01:05:52.342Z"
   },
   {
    "duration": 31,
    "start_time": "2025-02-10T01:23:04.712Z"
   },
   {
    "duration": 44,
    "start_time": "2025-02-10T01:25:24.013Z"
   },
   {
    "duration": 638,
    "start_time": "2025-02-10T01:25:59.151Z"
   },
   {
    "duration": 55,
    "start_time": "2025-02-10T01:26:20.704Z"
   },
   {
    "duration": 41,
    "start_time": "2025-02-10T01:27:35.577Z"
   },
   {
    "duration": 11,
    "start_time": "2025-02-10T01:28:40.390Z"
   },
   {
    "duration": 9,
    "start_time": "2025-02-10T01:29:56.977Z"
   },
   {
    "duration": 10,
    "start_time": "2025-02-10T01:32:51.818Z"
   },
   {
    "duration": 19,
    "start_time": "2025-02-10T01:33:22.826Z"
   },
   {
    "duration": 35,
    "start_time": "2025-02-10T01:34:53.382Z"
   },
   {
    "duration": 27,
    "start_time": "2025-02-10T01:35:51.562Z"
   },
   {
    "duration": 156,
    "start_time": "2025-02-11T22:47:16.342Z"
   },
   {
    "duration": 2571,
    "start_time": "2025-02-11T22:47:24.240Z"
   },
   {
    "duration": 251,
    "start_time": "2025-02-11T22:47:27.462Z"
   },
   {
    "duration": 15,
    "start_time": "2025-02-11T22:47:31.967Z"
   },
   {
    "duration": 9,
    "start_time": "2025-02-11T22:47:35.399Z"
   },
   {
    "duration": 7,
    "start_time": "2025-02-11T22:47:40.547Z"
   },
   {
    "duration": 38,
    "start_time": "2025-02-11T22:47:44.538Z"
   },
   {
    "duration": 27,
    "start_time": "2025-02-11T22:47:54.593Z"
   },
   {
    "duration": 8,
    "start_time": "2025-02-11T22:47:55.607Z"
   },
   {
    "duration": 11,
    "start_time": "2025-02-11T22:48:01.066Z"
   },
   {
    "duration": 22,
    "start_time": "2025-02-11T22:48:04.129Z"
   },
   {
    "duration": 75,
    "start_time": "2025-02-11T22:48:06.798Z"
   },
   {
    "duration": 16,
    "start_time": "2025-02-11T22:48:44.120Z"
   },
   {
    "duration": 6,
    "start_time": "2025-02-11T22:49:21.910Z"
   },
   {
    "duration": 5,
    "start_time": "2025-02-11T22:51:22.690Z"
   },
   {
    "duration": 13,
    "start_time": "2025-02-11T22:54:03.991Z"
   },
   {
    "duration": 6,
    "start_time": "2025-02-11T22:54:47.626Z"
   },
   {
    "duration": 3,
    "start_time": "2025-02-11T22:55:13.415Z"
   },
   {
    "duration": 18,
    "start_time": "2025-02-11T22:55:28.009Z"
   },
   {
    "duration": 6,
    "start_time": "2025-02-11T22:56:02.938Z"
   },
   {
    "duration": 1739,
    "start_time": "2025-02-11T22:59:32.187Z"
   },
   {
    "duration": 12,
    "start_time": "2025-02-11T23:01:19.127Z"
   },
   {
    "duration": 4,
    "start_time": "2025-02-11T23:09:33.112Z"
   },
   {
    "duration": 5,
    "start_time": "2025-02-11T23:10:21.387Z"
   },
   {
    "duration": 934,
    "start_time": "2025-02-12T00:00:12.780Z"
   },
   {
    "duration": 15,
    "start_time": "2025-02-12T00:40:28.180Z"
   },
   {
    "duration": 14,
    "start_time": "2025-02-12T00:40:43.007Z"
   },
   {
    "duration": 5,
    "start_time": "2025-02-12T00:41:47.662Z"
   },
   {
    "duration": 5,
    "start_time": "2025-02-12T00:45:39.841Z"
   },
   {
    "duration": 1287,
    "start_time": "2025-02-12T00:51:11.401Z"
   },
   {
    "duration": 5,
    "start_time": "2025-02-12T00:54:42.496Z"
   },
   {
    "duration": 57,
    "start_time": "2025-02-12T00:58:04.435Z"
   },
   {
    "duration": 6,
    "start_time": "2025-02-12T00:59:58.957Z"
   },
   {
    "duration": 5,
    "start_time": "2025-02-12T01:00:32.859Z"
   },
   {
    "duration": 127,
    "start_time": "2025-02-12T01:01:11.438Z"
   },
   {
    "duration": 61,
    "start_time": "2025-02-12T01:06:25.238Z"
   },
   {
    "duration": 43,
    "start_time": "2025-02-12T01:08:19.385Z"
   },
   {
    "duration": 49,
    "start_time": "2025-02-12T01:13:20.906Z"
   },
   {
    "duration": 51,
    "start_time": "2025-02-12T01:18:54.433Z"
   },
   {
    "duration": 5,
    "start_time": "2025-02-12T01:19:49.753Z"
   },
   {
    "duration": 59,
    "start_time": "2025-02-12T01:19:58.287Z"
   },
   {
    "duration": 471,
    "start_time": "2025-02-12T01:21:05.120Z"
   },
   {
    "duration": 122,
    "start_time": "2025-02-12T02:04:05.250Z"
   },
   {
    "duration": 108,
    "start_time": "2025-02-12T02:04:32.795Z"
   },
   {
    "duration": 69,
    "start_time": "2025-02-12T02:05:43.067Z"
   },
   {
    "duration": 136,
    "start_time": "2025-02-12T02:05:47.408Z"
   },
   {
    "duration": 83,
    "start_time": "2025-02-12T02:09:03.115Z"
   },
   {
    "duration": 131,
    "start_time": "2025-02-12T02:11:33.349Z"
   },
   {
    "duration": 107,
    "start_time": "2025-02-12T02:11:43.969Z"
   },
   {
    "duration": 289,
    "start_time": "2025-02-12T02:17:27.890Z"
   },
   {
    "duration": 196,
    "start_time": "2025-02-12T02:22:48.510Z"
   },
   {
    "duration": 3,
    "start_time": "2025-02-12T02:22:57.858Z"
   },
   {
    "duration": 141,
    "start_time": "2025-02-12T02:22:59.325Z"
   },
   {
    "duration": 197,
    "start_time": "2025-02-12T02:23:12.305Z"
   },
   {
    "duration": 13,
    "start_time": "2025-02-12T02:23:57.778Z"
   },
   {
    "duration": 28,
    "start_time": "2025-02-12T02:24:26.865Z"
   },
   {
    "duration": 50,
    "start_time": "2025-02-12T02:24:58.495Z"
   },
   {
    "duration": 71,
    "start_time": "2025-02-12T02:25:30.824Z"
   },
   {
    "duration": 109,
    "start_time": "2025-02-12T02:26:06.056Z"
   },
   {
    "duration": 112,
    "start_time": "2025-02-12T02:27:08.273Z"
   },
   {
    "duration": 199,
    "start_time": "2025-02-12T02:27:14.295Z"
   },
   {
    "duration": 75,
    "start_time": "2025-02-12T02:28:13.217Z"
   },
   {
    "duration": 7,
    "start_time": "2025-02-12T02:30:27.409Z"
   },
   {
    "duration": 108,
    "start_time": "2025-02-12T02:31:20.629Z"
   },
   {
    "duration": 5,
    "start_time": "2025-02-12T02:33:42.354Z"
   },
   {
    "duration": 75,
    "start_time": "2025-02-12T02:33:56.476Z"
   },
   {
    "duration": 5,
    "start_time": "2025-02-12T02:37:01.356Z"
   },
   {
    "duration": 90,
    "start_time": "2025-02-12T02:38:17.046Z"
   },
   {
    "duration": 6,
    "start_time": "2025-02-12T02:39:00.201Z"
   },
   {
    "duration": 110,
    "start_time": "2025-02-12T02:39:11.065Z"
   },
   {
    "duration": 7,
    "start_time": "2025-02-12T02:47:39.012Z"
   },
   {
    "duration": 5,
    "start_time": "2025-02-12T02:48:05.044Z"
   },
   {
    "duration": 5,
    "start_time": "2025-02-12T02:48:17.579Z"
   },
   {
    "duration": 5,
    "start_time": "2025-02-12T02:48:44.158Z"
   },
   {
    "duration": 75,
    "start_time": "2025-02-12T02:50:28.872Z"
   },
   {
    "duration": 339,
    "start_time": "2025-02-12T03:16:41.509Z"
   },
   {
    "duration": 210,
    "start_time": "2025-02-12T03:18:11.107Z"
   },
   {
    "duration": 201,
    "start_time": "2025-02-12T03:20:39.654Z"
   },
   {
    "duration": 196,
    "start_time": "2025-02-12T03:22:14.254Z"
   },
   {
    "duration": 201,
    "start_time": "2025-02-12T03:22:22.021Z"
   },
   {
    "duration": 16,
    "start_time": "2025-02-12T03:23:11.674Z"
   },
   {
    "duration": 215,
    "start_time": "2025-02-12T03:24:22.553Z"
   },
   {
    "duration": 2,
    "start_time": "2025-02-12T03:25:16.961Z"
   },
   {
    "duration": 288,
    "start_time": "2025-02-12T03:25:23.457Z"
   },
   {
    "duration": 308,
    "start_time": "2025-02-12T03:26:02.218Z"
   },
   {
    "duration": 12,
    "start_time": "2025-02-12T03:28:59.098Z"
   },
   {
    "duration": 51,
    "start_time": "2025-02-12T03:31:58.610Z"
   },
   {
    "duration": 53,
    "start_time": "2025-02-12T03:33:21.075Z"
   },
   {
    "duration": 47,
    "start_time": "2025-02-12T03:36:55.872Z"
   },
   {
    "duration": 6,
    "start_time": "2025-02-12T03:37:48.818Z"
   },
   {
    "duration": 50,
    "start_time": "2025-02-12T03:39:54.444Z"
   },
   {
    "duration": 49,
    "start_time": "2025-02-12T03:42:52.615Z"
   },
   {
    "duration": 11,
    "start_time": "2025-02-12T03:44:18.474Z"
   },
   {
    "duration": 20,
    "start_time": "2025-02-12T03:44:35.639Z"
   },
   {
    "duration": 20,
    "start_time": "2025-02-12T03:45:29.545Z"
   },
   {
    "duration": 23,
    "start_time": "2025-02-12T03:46:07.484Z"
   },
   {
    "duration": 20,
    "start_time": "2025-02-12T03:46:17.032Z"
   },
   {
    "duration": 4,
    "start_time": "2025-02-12T03:46:50.211Z"
   },
   {
    "duration": 48,
    "start_time": "2025-02-12T03:47:54.622Z"
   },
   {
    "duration": 48,
    "start_time": "2025-02-12T03:49:00.036Z"
   },
   {
    "duration": 13,
    "start_time": "2025-02-12T03:50:45.279Z"
   },
   {
    "duration": 6,
    "start_time": "2025-02-12T03:50:46.274Z"
   },
   {
    "duration": 2551,
    "start_time": "2025-02-13T00:46:58.955Z"
   },
   {
    "duration": 22,
    "start_time": "2025-02-13T00:47:27.877Z"
   },
   {
    "duration": 839,
    "start_time": "2025-02-17T16:39:23.254Z"
   },
   {
    "duration": 204,
    "start_time": "2025-02-17T16:39:24.095Z"
   },
   {
    "duration": 13,
    "start_time": "2025-02-17T16:39:24.300Z"
   },
   {
    "duration": 7,
    "start_time": "2025-02-17T16:39:24.316Z"
   },
   {
    "duration": 6,
    "start_time": "2025-02-17T16:39:24.325Z"
   },
   {
    "duration": 37,
    "start_time": "2025-02-17T16:39:24.333Z"
   },
   {
    "duration": 49,
    "start_time": "2025-02-17T16:39:24.371Z"
   },
   {
    "duration": 6,
    "start_time": "2025-02-17T16:39:24.423Z"
   },
   {
    "duration": 10,
    "start_time": "2025-02-17T16:39:24.431Z"
   },
   {
    "duration": 27,
    "start_time": "2025-02-17T16:39:24.445Z"
   },
   {
    "duration": 41,
    "start_time": "2025-02-17T16:39:24.473Z"
   },
   {
    "duration": 4,
    "start_time": "2025-02-17T16:39:24.515Z"
   },
   {
    "duration": 5,
    "start_time": "2025-02-17T16:39:24.521Z"
   },
   {
    "duration": 1710,
    "start_time": "2025-02-17T16:39:24.527Z"
   },
   {
    "duration": 11,
    "start_time": "2025-02-17T16:39:26.239Z"
   },
   {
    "duration": 4,
    "start_time": "2025-02-17T16:39:26.252Z"
   },
   {
    "duration": 5,
    "start_time": "2025-02-17T16:39:26.257Z"
   },
   {
    "duration": 899,
    "start_time": "2025-02-17T16:39:26.263Z"
   },
   {
    "duration": 13,
    "start_time": "2025-02-17T16:39:27.164Z"
   },
   {
    "duration": 8,
    "start_time": "2025-02-17T16:39:27.180Z"
   },
   {
    "duration": 8,
    "start_time": "2025-02-17T16:39:27.191Z"
   },
   {
    "duration": 1340,
    "start_time": "2025-02-17T16:39:27.210Z"
   },
   {
    "duration": 5,
    "start_time": "2025-02-17T16:39:28.552Z"
   },
   {
    "duration": 74,
    "start_time": "2025-02-17T16:39:28.559Z"
   },
   {
    "duration": 65,
    "start_time": "2025-02-17T16:39:28.635Z"
   },
   {
    "duration": 65,
    "start_time": "2025-02-17T16:39:28.702Z"
   },
   {
    "duration": 48,
    "start_time": "2025-02-17T16:39:28.769Z"
   },
   {
    "duration": 69,
    "start_time": "2025-02-17T16:39:28.822Z"
   },
   {
    "duration": 55,
    "start_time": "2025-02-17T16:39:28.893Z"
   },
   {
    "duration": 726,
    "start_time": "2025-02-17T16:39:28.950Z"
   },
   {
    "duration": 0,
    "start_time": "2025-02-17T16:39:29.678Z"
   },
   {
    "duration": 0,
    "start_time": "2025-02-17T16:39:29.679Z"
   },
   {
    "duration": 0,
    "start_time": "2025-02-17T16:39:29.680Z"
   },
   {
    "duration": 0,
    "start_time": "2025-02-17T16:39:29.680Z"
   },
   {
    "duration": 0,
    "start_time": "2025-02-17T16:39:29.682Z"
   },
   {
    "duration": 0,
    "start_time": "2025-02-17T16:39:29.683Z"
   },
   {
    "duration": 0,
    "start_time": "2025-02-17T16:39:29.684Z"
   },
   {
    "duration": 0,
    "start_time": "2025-02-17T16:39:29.685Z"
   },
   {
    "duration": 0,
    "start_time": "2025-02-17T16:39:29.686Z"
   },
   {
    "duration": 0,
    "start_time": "2025-02-17T16:39:29.687Z"
   },
   {
    "duration": 0,
    "start_time": "2025-02-17T16:39:29.688Z"
   },
   {
    "duration": 226,
    "start_time": "2025-02-17T16:45:17.650Z"
   },
   {
    "duration": 4,
    "start_time": "2025-02-17T16:48:06.965Z"
   },
   {
    "duration": 6,
    "start_time": "2025-02-17T16:48:07.879Z"
   },
   {
    "duration": 4,
    "start_time": "2025-02-17T16:48:08.693Z"
   },
   {
    "duration": 2908,
    "start_time": "2025-03-04T02:04:46.547Z"
   },
   {
    "duration": 255,
    "start_time": "2025-03-04T02:04:49.458Z"
   },
   {
    "duration": 15,
    "start_time": "2025-03-04T02:04:57.311Z"
   },
   {
    "duration": 15,
    "start_time": "2025-03-04T02:05:03.367Z"
   },
   {
    "duration": 10,
    "start_time": "2025-03-04T02:05:16.587Z"
   },
   {
    "duration": 8,
    "start_time": "2025-03-04T02:05:30.797Z"
   },
   {
    "duration": 51,
    "start_time": "2025-03-04T02:08:34.720Z"
   },
   {
    "duration": 310,
    "start_time": "2025-03-04T02:50:39.506Z"
   },
   {
    "duration": 1638,
    "start_time": "2025-03-04T02:51:28.475Z"
   },
   {
    "duration": 61,
    "start_time": "2025-03-04T02:58:34.495Z"
   },
   {
    "duration": 827,
    "start_time": "2025-03-04T03:00:13.260Z"
   },
   {
    "duration": 63,
    "start_time": "2025-03-04T03:00:43.385Z"
   },
   {
    "duration": 404,
    "start_time": "2025-03-04T03:04:00.762Z"
   },
   {
    "duration": 80,
    "start_time": "2025-03-04T03:07:25.019Z"
   },
   {
    "duration": 1086,
    "start_time": "2025-03-04T03:09:06.257Z"
   },
   {
    "duration": 899,
    "start_time": "2025-03-04T03:11:23.240Z"
   },
   {
    "duration": 65,
    "start_time": "2025-03-04T03:11:39.811Z"
   },
   {
    "duration": 3,
    "start_time": "2025-03-04T03:11:54.722Z"
   },
   {
    "duration": 140,
    "start_time": "2025-03-04T03:11:56.136Z"
   },
   {
    "duration": 952,
    "start_time": "2025-03-04T03:12:15.203Z"
   },
   {
    "duration": 139,
    "start_time": "2025-03-04T03:20:07.830Z"
   },
   {
    "duration": 141,
    "start_time": "2025-03-04T03:22:35.365Z"
   },
   {
    "duration": 1305,
    "start_time": "2025-03-04T03:23:01.812Z"
   },
   {
    "duration": 80,
    "start_time": "2025-03-04T03:23:10.167Z"
   },
   {
    "duration": 3,
    "start_time": "2025-03-04T03:23:20.542Z"
   },
   {
    "duration": 136,
    "start_time": "2025-03-04T03:23:22.086Z"
   },
   {
    "duration": 1250,
    "start_time": "2025-03-04T03:23:35.374Z"
   },
   {
    "duration": 334,
    "start_time": "2025-03-04T03:24:50.634Z"
   },
   {
    "duration": 3,
    "start_time": "2025-03-04T03:26:09.161Z"
   },
   {
    "duration": 139,
    "start_time": "2025-03-04T03:26:10.365Z"
   },
   {
    "duration": 35,
    "start_time": "2025-03-04T03:26:31.161Z"
   },
   {
    "duration": 18,
    "start_time": "2025-03-04T03:28:07.916Z"
   },
   {
    "duration": 27,
    "start_time": "2025-03-04T03:31:54.166Z"
   },
   {
    "duration": 18,
    "start_time": "2025-03-04T03:32:24.808Z"
   },
   {
    "duration": 29,
    "start_time": "2025-03-04T03:32:47.262Z"
   },
   {
    "duration": 30,
    "start_time": "2025-03-04T03:34:30.938Z"
   },
   {
    "duration": 2,
    "start_time": "2025-03-04T03:36:50.352Z"
   },
   {
    "duration": 142,
    "start_time": "2025-03-04T03:36:59.682Z"
   },
   {
    "duration": 105,
    "start_time": "2025-03-04T03:37:25.430Z"
   },
   {
    "duration": 158,
    "start_time": "2025-03-06T02:41:01.894Z"
   },
   {
    "duration": 15,
    "start_time": "2025-03-06T02:41:20.374Z"
   },
   {
    "duration": 2548,
    "start_time": "2025-03-06T02:41:33.764Z"
   },
   {
    "duration": 207,
    "start_time": "2025-03-06T02:41:36.314Z"
   },
   {
    "duration": 357,
    "start_time": "2025-03-06T02:42:02.731Z"
   },
   {
    "duration": 30,
    "start_time": "2025-03-06T02:43:33.060Z"
   },
   {
    "duration": 7,
    "start_time": "2025-03-06T02:45:01.714Z"
   },
   {
    "duration": 5,
    "start_time": "2025-03-06T02:45:16.923Z"
   },
   {
    "duration": 6,
    "start_time": "2025-03-06T02:45:22.120Z"
   },
   {
    "duration": 27,
    "start_time": "2025-03-06T02:45:36.784Z"
   },
   {
    "duration": 6,
    "start_time": "2025-03-06T03:04:58.011Z"
   },
   {
    "duration": 5,
    "start_time": "2025-03-06T03:05:19.181Z"
   },
   {
    "duration": 3,
    "start_time": "2025-03-06T03:06:06.480Z"
   },
   {
    "duration": 2,
    "start_time": "2025-03-06T03:17:16.971Z"
   },
   {
    "duration": 159,
    "start_time": "2025-03-06T03:17:20.606Z"
   },
   {
    "duration": 13,
    "start_time": "2025-03-06T03:17:25.554Z"
   },
   {
    "duration": 7,
    "start_time": "2025-03-06T03:17:26.719Z"
   },
   {
    "duration": 8,
    "start_time": "2025-03-06T03:17:32.821Z"
   },
   {
    "duration": 37,
    "start_time": "2025-03-06T03:17:38.194Z"
   },
   {
    "duration": 24,
    "start_time": "2025-03-06T03:17:44.484Z"
   },
   {
    "duration": 7,
    "start_time": "2025-03-06T03:17:55.004Z"
   },
   {
    "duration": 16,
    "start_time": "2025-03-06T03:18:02.683Z"
   },
   {
    "duration": 4,
    "start_time": "2025-03-06T03:18:09.617Z"
   },
   {
    "duration": 15,
    "start_time": "2025-03-06T03:23:05.909Z"
   },
   {
    "duration": 18,
    "start_time": "2025-03-06T03:23:27.068Z"
   },
   {
    "duration": 79,
    "start_time": "2025-03-06T03:23:44.743Z"
   },
   {
    "duration": 16,
    "start_time": "2025-03-06T03:29:27.996Z"
   },
   {
    "duration": 17,
    "start_time": "2025-03-06T03:30:08.854Z"
   },
   {
    "duration": 76,
    "start_time": "2025-03-06T03:30:29.020Z"
   },
   {
    "duration": 29,
    "start_time": "2025-03-06T03:30:40.233Z"
   },
   {
    "duration": 11,
    "start_time": "2025-03-06T03:33:37.160Z"
   },
   {
    "duration": 56,
    "start_time": "2025-03-06T03:33:51.303Z"
   },
   {
    "duration": 18,
    "start_time": "2025-03-06T03:35:43.201Z"
   },
   {
    "duration": 30,
    "start_time": "2025-03-06T03:35:53.038Z"
   },
   {
    "duration": 65,
    "start_time": "2025-03-06T03:36:12.072Z"
   },
   {
    "duration": 2727,
    "start_time": "2025-03-12T02:40:26.826Z"
   },
   {
    "duration": 245,
    "start_time": "2025-03-12T02:40:29.555Z"
   },
   {
    "duration": 3081,
    "start_time": "2025-03-13T01:47:46.991Z"
   },
   {
    "duration": 233,
    "start_time": "2025-03-13T01:47:50.074Z"
   },
   {
    "duration": 101,
    "start_time": "2025-03-13T02:02:09.150Z"
   },
   {
    "duration": 99,
    "start_time": "2025-03-13T02:12:30.867Z"
   },
   {
    "duration": 88,
    "start_time": "2025-03-13T02:12:52.267Z"
   },
   {
    "duration": 78,
    "start_time": "2025-03-13T02:14:49.555Z"
   },
   {
    "duration": 761,
    "start_time": "2025-03-13T02:15:34.404Z"
   },
   {
    "duration": 79,
    "start_time": "2025-03-13T02:23:26.439Z"
   },
   {
    "duration": 18,
    "start_time": "2025-03-13T02:24:59.437Z"
   },
   {
    "duration": 15,
    "start_time": "2025-03-13T02:32:17.269Z"
   },
   {
    "duration": 80,
    "start_time": "2025-03-13T02:32:37.821Z"
   },
   {
    "duration": 12,
    "start_time": "2025-03-13T02:32:40.535Z"
   },
   {
    "duration": 169,
    "start_time": "2025-03-13T02:32:48.549Z"
   },
   {
    "duration": 72,
    "start_time": "2025-03-13T02:34:51.866Z"
   },
   {
    "duration": 8,
    "start_time": "2025-03-13T02:37:59.265Z"
   },
   {
    "duration": 150,
    "start_time": "2025-03-13T02:38:52.382Z"
   },
   {
    "duration": 134,
    "start_time": "2025-03-13T02:40:56.380Z"
   },
   {
    "duration": 58,
    "start_time": "2025-03-13T02:42:12.625Z"
   },
   {
    "duration": 141,
    "start_time": "2025-03-13T02:43:51.745Z"
   },
   {
    "duration": 215,
    "start_time": "2025-03-13T02:46:31.306Z"
   },
   {
    "duration": 78,
    "start_time": "2025-03-13T02:46:54.112Z"
   },
   {
    "duration": 54,
    "start_time": "2025-03-13T02:48:31.664Z"
   },
   {
    "duration": 47,
    "start_time": "2025-03-13T02:51:33.987Z"
   },
   {
    "duration": 137,
    "start_time": "2025-03-13T02:52:58.995Z"
   },
   {
    "duration": 236,
    "start_time": "2025-03-13T02:53:59.539Z"
   },
   {
    "duration": 360,
    "start_time": "2025-03-13T02:55:10.362Z"
   },
   {
    "duration": 313,
    "start_time": "2025-03-13T02:55:37.015Z"
   },
   {
    "duration": 347,
    "start_time": "2025-03-13T02:56:15.853Z"
   },
   {
    "duration": 35,
    "start_time": "2025-03-13T02:58:18.150Z"
   },
   {
    "duration": 64,
    "start_time": "2025-03-13T02:58:27.187Z"
   },
   {
    "duration": 157,
    "start_time": "2025-03-13T03:25:02.744Z"
   },
   {
    "duration": 443,
    "start_time": "2025-03-13T03:29:03.473Z"
   },
   {
    "duration": 189,
    "start_time": "2025-03-13T03:32:18.440Z"
   },
   {
    "duration": 187,
    "start_time": "2025-03-13T03:32:33.035Z"
   },
   {
    "duration": 320,
    "start_time": "2025-03-13T03:32:47.619Z"
   },
   {
    "duration": 23,
    "start_time": "2025-03-13T03:34:36.453Z"
   },
   {
    "duration": 841,
    "start_time": "2025-03-13T03:35:08.006Z"
   },
   {
    "duration": 206,
    "start_time": "2025-03-13T03:35:35.067Z"
   },
   {
    "duration": 379,
    "start_time": "2025-03-13T03:35:47.441Z"
   },
   {
    "duration": 14,
    "start_time": "2025-03-13T03:39:47.138Z"
   },
   {
    "duration": 167,
    "start_time": "2025-03-13T03:44:35.167Z"
   },
   {
    "duration": 14,
    "start_time": "2025-03-13T03:46:28.540Z"
   },
   {
    "duration": 15,
    "start_time": "2025-03-13T03:46:38.157Z"
   },
   {
    "duration": 15,
    "start_time": "2025-03-13T03:49:33.021Z"
   },
   {
    "duration": 361,
    "start_time": "2025-03-13T03:50:05.600Z"
   },
   {
    "duration": 399,
    "start_time": "2025-03-13T03:58:18.310Z"
   },
   {
    "duration": 166,
    "start_time": "2025-03-14T22:29:05.757Z"
   },
   {
    "duration": 2560,
    "start_time": "2025-03-14T22:32:04.888Z"
   },
   {
    "duration": 242,
    "start_time": "2025-03-14T22:32:07.452Z"
   },
   {
    "duration": 471,
    "start_time": "2025-03-14T22:32:20.805Z"
   },
   {
    "duration": 12,
    "start_time": "2025-03-14T22:36:11.919Z"
   },
   {
    "duration": 11,
    "start_time": "2025-03-14T22:36:24.316Z"
   },
   {
    "duration": 21,
    "start_time": "2025-03-14T22:36:54.717Z"
   },
   {
    "duration": 46,
    "start_time": "2025-03-14T22:37:08.432Z"
   },
   {
    "duration": 45,
    "start_time": "2025-03-14T22:37:17.909Z"
   },
   {
    "duration": 40,
    "start_time": "2025-03-14T22:38:13.490Z"
   },
   {
    "duration": 9,
    "start_time": "2025-03-14T22:40:36.917Z"
   },
   {
    "duration": 7,
    "start_time": "2025-03-14T22:42:28.921Z"
   },
   {
    "duration": 8,
    "start_time": "2025-03-14T22:42:36.482Z"
   },
   {
    "duration": 9,
    "start_time": "2025-03-14T22:43:22.684Z"
   },
   {
    "duration": 8,
    "start_time": "2025-03-14T22:43:37.517Z"
   },
   {
    "duration": 10,
    "start_time": "2025-03-14T22:44:32.240Z"
   },
   {
    "duration": 903,
    "start_time": "2025-03-14T22:45:00.795Z"
   },
   {
    "duration": 205,
    "start_time": "2025-03-14T22:45:01.700Z"
   },
   {
    "duration": 12,
    "start_time": "2025-03-14T22:45:01.909Z"
   },
   {
    "duration": 8,
    "start_time": "2025-03-14T22:45:01.924Z"
   },
   {
    "duration": 10,
    "start_time": "2025-03-14T22:45:01.934Z"
   },
   {
    "duration": 9,
    "start_time": "2025-03-14T22:45:01.947Z"
   },
   {
    "duration": 9,
    "start_time": "2025-03-14T22:45:01.959Z"
   },
   {
    "duration": 51,
    "start_time": "2025-03-14T22:45:01.970Z"
   },
   {
    "duration": 10,
    "start_time": "2025-03-14T22:45:28.236Z"
   },
   {
    "duration": 10,
    "start_time": "2025-03-14T22:45:32.490Z"
   },
   {
    "duration": 10,
    "start_time": "2025-03-14T22:46:09.067Z"
   },
   {
    "duration": 19,
    "start_time": "2025-03-14T22:46:23.909Z"
   },
   {
    "duration": 23,
    "start_time": "2025-03-14T22:46:56.493Z"
   },
   {
    "duration": 26,
    "start_time": "2025-03-14T22:47:02.462Z"
   },
   {
    "duration": 143,
    "start_time": "2025-03-14T22:48:00.010Z"
   },
   {
    "duration": 15,
    "start_time": "2025-03-14T22:48:41.026Z"
   },
   {
    "duration": 7,
    "start_time": "2025-03-14T22:48:55.882Z"
   },
   {
    "duration": 18,
    "start_time": "2025-03-14T22:49:12.448Z"
   },
   {
    "duration": 44,
    "start_time": "2025-03-14T22:49:32.922Z"
   },
   {
    "duration": 19,
    "start_time": "2025-03-14T22:50:08.551Z"
   },
   {
    "duration": 20,
    "start_time": "2025-03-14T22:50:25.777Z"
   },
   {
    "duration": 49,
    "start_time": "2025-03-14T22:51:05.942Z"
   },
   {
    "duration": 7,
    "start_time": "2025-03-14T22:51:17.909Z"
   },
   {
    "duration": 43,
    "start_time": "2025-03-14T22:51:53.266Z"
   },
   {
    "duration": 26,
    "start_time": "2025-03-14T22:52:15.751Z"
   },
   {
    "duration": 20,
    "start_time": "2025-03-14T22:52:47.031Z"
   },
   {
    "duration": 20,
    "start_time": "2025-03-14T22:53:06.678Z"
   },
   {
    "duration": 639,
    "start_time": "2025-03-14T22:56:35.937Z"
   },
   {
    "duration": 19,
    "start_time": "2025-03-14T22:57:09.336Z"
   },
   {
    "duration": 19,
    "start_time": "2025-03-14T22:57:10.150Z"
   },
   {
    "duration": 18,
    "start_time": "2025-03-14T22:57:24.992Z"
   },
   {
    "duration": 18,
    "start_time": "2025-03-14T22:58:01.510Z"
   },
   {
    "duration": 349,
    "start_time": "2025-03-14T22:58:16.889Z"
   },
   {
    "duration": 20,
    "start_time": "2025-03-14T22:59:34.231Z"
   },
   {
    "duration": 18,
    "start_time": "2025-03-14T22:59:50.370Z"
   },
   {
    "duration": 69,
    "start_time": "2025-03-14T23:00:03.336Z"
   },
   {
    "duration": 116,
    "start_time": "2025-03-14T23:00:57.046Z"
   },
   {
    "duration": 16190,
    "start_time": "2025-03-14T23:02:17.635Z"
   },
   {
    "duration": 170,
    "start_time": "2025-03-14T23:03:04.400Z"
   },
   {
    "duration": 840,
    "start_time": "2025-03-14T23:03:11.778Z"
   },
   {
    "duration": 168,
    "start_time": "2025-03-14T23:03:12.621Z"
   },
   {
    "duration": 10,
    "start_time": "2025-03-14T23:03:12.791Z"
   },
   {
    "duration": 10,
    "start_time": "2025-03-14T23:03:12.803Z"
   },
   {
    "duration": 9,
    "start_time": "2025-03-14T23:03:12.814Z"
   },
   {
    "duration": 8,
    "start_time": "2025-03-14T23:03:12.825Z"
   },
   {
    "duration": 9,
    "start_time": "2025-03-14T23:03:12.835Z"
   },
   {
    "duration": 10,
    "start_time": "2025-03-14T23:03:12.846Z"
   },
   {
    "duration": 9,
    "start_time": "2025-03-14T23:03:12.858Z"
   },
   {
    "duration": 9,
    "start_time": "2025-03-14T23:03:12.912Z"
   },
   {
    "duration": 16,
    "start_time": "2025-03-14T23:03:12.923Z"
   },
   {
    "duration": 27,
    "start_time": "2025-03-14T23:03:12.941Z"
   },
   {
    "duration": 117,
    "start_time": "2025-03-14T23:03:12.970Z"
   },
   {
    "duration": 25,
    "start_time": "2025-03-14T23:03:13.089Z"
   },
   {
    "duration": 7,
    "start_time": "2025-03-14T23:03:13.116Z"
   },
   {
    "duration": 15,
    "start_time": "2025-03-14T23:03:13.125Z"
   },
   {
    "duration": 119,
    "start_time": "2025-03-14T23:03:13.142Z"
   },
   {
    "duration": 14,
    "start_time": "2025-03-14T23:03:13.263Z"
   },
   {
    "duration": 17,
    "start_time": "2025-03-14T23:03:13.278Z"
   },
   {
    "duration": 44,
    "start_time": "2025-03-14T23:03:13.313Z"
   },
   {
    "duration": 7,
    "start_time": "2025-03-14T23:03:13.359Z"
   },
   {
    "duration": 26,
    "start_time": "2025-03-14T23:03:13.367Z"
   },
   {
    "duration": 19,
    "start_time": "2025-03-14T23:03:13.412Z"
   },
   {
    "duration": 19,
    "start_time": "2025-03-14T23:03:13.433Z"
   },
   {
    "duration": 19,
    "start_time": "2025-03-14T23:03:13.454Z"
   },
   {
    "duration": 48,
    "start_time": "2025-03-14T23:03:13.475Z"
   },
   {
    "duration": 71,
    "start_time": "2025-03-14T23:03:13.525Z"
   },
   {
    "duration": 7368,
    "start_time": "2025-03-14T23:03:13.612Z"
   },
   {
    "duration": 98,
    "start_time": "2025-03-14T23:03:42.615Z"
   },
   {
    "duration": 6,
    "start_time": "2025-03-14T23:04:15.594Z"
   },
   {
    "duration": 103,
    "start_time": "2025-03-14T23:05:00.630Z"
   },
   {
    "duration": 94,
    "start_time": "2025-03-14T23:05:49.041Z"
   },
   {
    "duration": 17,
    "start_time": "2025-03-14T23:06:01.466Z"
   },
   {
    "duration": 19,
    "start_time": "2025-03-14T23:06:02.517Z"
   },
   {
    "duration": 73,
    "start_time": "2025-03-14T23:06:07.028Z"
   },
   {
    "duration": 41,
    "start_time": "2025-03-15T00:29:54.637Z"
   },
   {
    "duration": 181,
    "start_time": "2025-03-15T00:31:29.058Z"
   },
   {
    "duration": 7,
    "start_time": "2025-03-15T00:33:13.660Z"
   },
   {
    "duration": 188,
    "start_time": "2025-03-15T00:47:26.081Z"
   },
   {
    "duration": 105,
    "start_time": "2025-03-15T00:48:06.116Z"
   },
   {
    "duration": 125,
    "start_time": "2025-03-15T01:09:08.507Z"
   },
   {
    "duration": 28,
    "start_time": "2025-03-15T01:12:16.978Z"
   },
   {
    "duration": 102,
    "start_time": "2025-03-15T01:12:39.326Z"
   },
   {
    "duration": 3,
    "start_time": "2025-03-15T01:12:45.788Z"
   },
   {
    "duration": 167,
    "start_time": "2025-03-15T01:12:48.167Z"
   },
   {
    "duration": 350,
    "start_time": "2025-03-15T01:13:29.979Z"
   },
   {
    "duration": 339,
    "start_time": "2025-03-15T01:13:42.288Z"
   },
   {
    "duration": 496,
    "start_time": "2025-03-15T01:14:21.326Z"
   },
   {
    "duration": 321,
    "start_time": "2025-03-15T01:14:53.817Z"
   },
   {
    "duration": 317,
    "start_time": "2025-03-15T01:15:29.216Z"
   },
   {
    "duration": 11,
    "start_time": "2025-03-15T01:18:03.807Z"
   },
   {
    "duration": 190,
    "start_time": "2025-03-15T01:18:24.000Z"
   },
   {
    "duration": 13,
    "start_time": "2025-03-15T01:18:46.592Z"
   },
   {
    "duration": 12,
    "start_time": "2025-03-15T01:18:53.824Z"
   },
   {
    "duration": 14,
    "start_time": "2025-03-15T01:19:03.145Z"
   },
   {
    "duration": 310,
    "start_time": "2025-03-15T01:19:06.956Z"
   },
   {
    "duration": 18,
    "start_time": "2025-03-15T01:20:33.677Z"
   },
   {
    "duration": 20,
    "start_time": "2025-03-15T01:20:46.171Z"
   },
   {
    "duration": 307,
    "start_time": "2025-03-15T01:20:52.541Z"
   },
   {
    "duration": 8,
    "start_time": "2025-03-15T01:27:18.089Z"
   },
   {
    "duration": 1027,
    "start_time": "2025-03-15T01:27:50.917Z"
   },
   {
    "duration": 196,
    "start_time": "2025-03-15T01:28:16.625Z"
   },
   {
    "duration": 91,
    "start_time": "2025-03-15T01:29:06.318Z"
   },
   {
    "duration": 7,
    "start_time": "2025-03-15T01:41:45.019Z"
   },
   {
    "duration": 9,
    "start_time": "2025-03-15T01:41:54.824Z"
   },
   {
    "duration": 81,
    "start_time": "2025-03-15T01:43:17.420Z"
   },
   {
    "duration": 79,
    "start_time": "2025-03-15T01:43:33.555Z"
   },
   {
    "duration": 6,
    "start_time": "2025-03-15T01:44:06.971Z"
   },
   {
    "duration": 6,
    "start_time": "2025-03-15T01:45:33.800Z"
   },
   {
    "duration": 7,
    "start_time": "2025-03-15T01:45:55.160Z"
   },
   {
    "duration": 7,
    "start_time": "2025-03-15T02:04:28.896Z"
   },
   {
    "duration": 9,
    "start_time": "2025-03-15T02:05:07.419Z"
   },
   {
    "duration": 12,
    "start_time": "2025-03-15T02:05:24.038Z"
   },
   {
    "duration": 168,
    "start_time": "2025-03-15T02:56:03.744Z"
   },
   {
    "duration": 2583,
    "start_time": "2025-03-15T02:56:26.441Z"
   },
   {
    "duration": 222,
    "start_time": "2025-03-15T02:56:29.027Z"
   },
   {
    "duration": 9,
    "start_time": "2025-03-15T02:56:30.767Z"
   },
   {
    "duration": 7,
    "start_time": "2025-03-15T02:56:31.838Z"
   },
   {
    "duration": 6,
    "start_time": "2025-03-15T02:56:32.995Z"
   },
   {
    "duration": 9,
    "start_time": "2025-03-15T02:56:34.005Z"
   },
   {
    "duration": 80,
    "start_time": "2025-03-15T02:57:00.442Z"
   },
   {
    "duration": 3,
    "start_time": "2025-03-15T02:57:30.342Z"
   },
   {
    "duration": 163,
    "start_time": "2025-03-15T02:57:32.580Z"
   },
   {
    "duration": 8,
    "start_time": "2025-03-15T02:57:34.889Z"
   },
   {
    "duration": 7,
    "start_time": "2025-03-15T02:57:35.976Z"
   },
   {
    "duration": 8,
    "start_time": "2025-03-15T02:57:37.607Z"
   },
   {
    "duration": 8,
    "start_time": "2025-03-15T02:57:38.964Z"
   },
   {
    "duration": 10,
    "start_time": "2025-03-15T02:57:40.990Z"
   },
   {
    "duration": 7,
    "start_time": "2025-03-15T02:57:46.198Z"
   },
   {
    "duration": 7,
    "start_time": "2025-03-15T02:57:48.442Z"
   },
   {
    "duration": 10,
    "start_time": "2025-03-15T02:57:51.230Z"
   },
   {
    "duration": 12,
    "start_time": "2025-03-15T02:57:57.125Z"
   },
   {
    "duration": 8,
    "start_time": "2025-03-15T02:57:59.961Z"
   },
   {
    "duration": 15,
    "start_time": "2025-03-15T02:58:01.830Z"
   },
   {
    "duration": 26,
    "start_time": "2025-03-15T02:58:06.354Z"
   },
   {
    "duration": 89,
    "start_time": "2025-03-15T02:58:10.396Z"
   },
   {
    "duration": 12,
    "start_time": "2025-03-15T02:58:12.883Z"
   },
   {
    "duration": 7,
    "start_time": "2025-03-15T02:58:13.933Z"
   },
   {
    "duration": 13,
    "start_time": "2025-03-15T02:58:17.997Z"
   },
   {
    "duration": 41,
    "start_time": "2025-03-15T02:58:20.632Z"
   },
   {
    "duration": 14,
    "start_time": "2025-03-15T02:58:22.715Z"
   },
   {
    "duration": 18,
    "start_time": "2025-03-15T02:58:26.154Z"
   },
   {
    "duration": 44,
    "start_time": "2025-03-15T02:58:28.529Z"
   },
   {
    "duration": 10,
    "start_time": "2025-03-15T02:58:31.146Z"
   },
   {
    "duration": 26,
    "start_time": "2025-03-15T02:58:33.015Z"
   },
   {
    "duration": 19,
    "start_time": "2025-03-15T02:58:34.417Z"
   },
   {
    "duration": 18,
    "start_time": "2025-03-15T02:58:36.809Z"
   },
   {
    "duration": 25,
    "start_time": "2025-03-15T02:58:42.486Z"
   },
   {
    "duration": 18,
    "start_time": "2025-03-15T02:58:45.732Z"
   },
   {
    "duration": 67,
    "start_time": "2025-03-15T02:58:49.634Z"
   },
   {
    "duration": 109,
    "start_time": "2025-03-15T02:58:54.050Z"
   },
   {
    "duration": 181,
    "start_time": "2025-03-15T02:58:59.849Z"
   },
   {
    "duration": 7,
    "start_time": "2025-03-15T02:59:03.697Z"
   },
   {
    "duration": 161,
    "start_time": "2025-03-15T02:59:05.940Z"
   },
   {
    "duration": 30,
    "start_time": "2025-03-15T02:59:20.036Z"
   },
   {
    "duration": 338,
    "start_time": "2025-03-15T02:59:24.012Z"
   },
   {
    "duration": 12,
    "start_time": "2025-03-15T02:59:29.113Z"
   },
   {
    "duration": 190,
    "start_time": "2025-03-15T02:59:32.976Z"
   },
   {
    "duration": 9,
    "start_time": "2025-03-15T02:59:38.764Z"
   },
   {
    "duration": 90,
    "start_time": "2025-03-15T02:59:42.106Z"
   },
   {
    "duration": 80,
    "start_time": "2025-03-15T03:01:11.813Z"
   },
   {
    "duration": 66,
    "start_time": "2025-03-15T03:01:31.316Z"
   },
   {
    "duration": 8,
    "start_time": "2025-03-15T03:02:03.912Z"
   },
   {
    "duration": 9,
    "start_time": "2025-03-15T03:02:06.785Z"
   },
   {
    "duration": 157,
    "start_time": "2025-03-15T15:10:02.665Z"
   },
   {
    "duration": 849,
    "start_time": "2025-03-15T15:10:08.748Z"
   },
   {
    "duration": 161,
    "start_time": "2025-03-15T15:10:09.599Z"
   },
   {
    "duration": 10,
    "start_time": "2025-03-15T15:10:09.761Z"
   },
   {
    "duration": 6,
    "start_time": "2025-03-15T15:10:09.773Z"
   },
   {
    "duration": 6,
    "start_time": "2025-03-15T15:10:09.781Z"
   },
   {
    "duration": 8,
    "start_time": "2025-03-15T15:10:09.788Z"
   },
   {
    "duration": 28,
    "start_time": "2025-03-15T15:10:09.797Z"
   },
   {
    "duration": 7,
    "start_time": "2025-03-15T15:10:09.826Z"
   },
   {
    "duration": 8,
    "start_time": "2025-03-15T15:10:09.834Z"
   },
   {
    "duration": 8,
    "start_time": "2025-03-15T15:10:09.845Z"
   },
   {
    "duration": 8,
    "start_time": "2025-03-15T15:10:09.854Z"
   },
   {
    "duration": 7,
    "start_time": "2025-03-15T15:10:09.864Z"
   },
   {
    "duration": 14,
    "start_time": "2025-03-15T15:10:09.873Z"
   },
   {
    "duration": 24,
    "start_time": "2025-03-15T15:10:09.924Z"
   },
   {
    "duration": 97,
    "start_time": "2025-03-15T15:10:09.950Z"
   },
   {
    "duration": 11,
    "start_time": "2025-03-15T15:10:10.049Z"
   },
   {
    "duration": 6,
    "start_time": "2025-03-15T15:10:10.062Z"
   },
   {
    "duration": 14,
    "start_time": "2025-03-15T15:10:10.069Z"
   },
   {
    "duration": 58,
    "start_time": "2025-03-15T15:10:10.085Z"
   },
   {
    "duration": 13,
    "start_time": "2025-03-15T15:10:10.144Z"
   },
   {
    "duration": 16,
    "start_time": "2025-03-15T15:10:10.159Z"
   },
   {
    "duration": 64,
    "start_time": "2025-03-15T15:10:10.176Z"
   },
   {
    "duration": 8,
    "start_time": "2025-03-15T15:10:10.241Z"
   },
   {
    "duration": 24,
    "start_time": "2025-03-15T15:10:10.250Z"
   },
   {
    "duration": 16,
    "start_time": "2025-03-15T15:10:10.277Z"
   },
   {
    "duration": 43,
    "start_time": "2025-03-15T15:10:10.294Z"
   },
   {
    "duration": 17,
    "start_time": "2025-03-15T15:10:10.339Z"
   },
   {
    "duration": 17,
    "start_time": "2025-03-15T15:10:10.361Z"
   },
   {
    "duration": 89,
    "start_time": "2025-03-15T15:10:10.380Z"
   },
   {
    "duration": 128,
    "start_time": "2025-03-15T15:10:10.472Z"
   },
   {
    "duration": 234,
    "start_time": "2025-03-15T15:10:10.602Z"
   },
   {
    "duration": 5,
    "start_time": "2025-03-15T15:10:10.838Z"
   },
   {
    "duration": 121,
    "start_time": "2025-03-15T15:10:10.845Z"
   },
   {
    "duration": 27,
    "start_time": "2025-03-15T15:10:10.968Z"
   },
   {
    "duration": 336,
    "start_time": "2025-03-15T15:10:10.996Z"
   },
   {
    "duration": 11,
    "start_time": "2025-03-15T15:10:11.334Z"
   },
   {
    "duration": 206,
    "start_time": "2025-03-15T15:10:11.346Z"
   },
   {
    "duration": 9,
    "start_time": "2025-03-15T15:10:11.553Z"
   },
   {
    "duration": 105,
    "start_time": "2025-03-15T15:10:11.564Z"
   },
   {
    "duration": 18,
    "start_time": "2025-03-15T15:10:11.671Z"
   },
   {
    "duration": 6,
    "start_time": "2025-03-15T15:10:11.690Z"
   },
   {
    "duration": 6,
    "start_time": "2025-03-15T15:10:11.698Z"
   },
   {
    "duration": 7,
    "start_time": "2025-03-15T15:10:35.320Z"
   },
   {
    "duration": 5,
    "start_time": "2025-03-15T15:10:44.870Z"
   },
   {
    "duration": 6,
    "start_time": "2025-03-15T15:10:53.316Z"
   },
   {
    "duration": 12,
    "start_time": "2025-03-15T15:11:21.387Z"
   },
   {
    "duration": 10,
    "start_time": "2025-03-15T15:11:37.153Z"
   },
   {
    "duration": 9,
    "start_time": "2025-03-15T15:11:45.580Z"
   },
   {
    "duration": 7,
    "start_time": "2025-03-15T15:11:52.406Z"
   },
   {
    "duration": 10,
    "start_time": "2025-03-15T15:11:57.299Z"
   }
  ],
  "colab": {
   "provenance": []
  },
  "kernelspec": {
   "display_name": "Python 3 (ipykernel)",
   "language": "python",
   "name": "python3"
  },
  "language_info": {
   "codemirror_mode": {
    "name": "ipython",
    "version": 3
   },
   "file_extension": ".py",
   "mimetype": "text/x-python",
   "name": "python",
   "nbconvert_exporter": "python",
   "pygments_lexer": "ipython3",
   "version": "3.9.19"
  },
  "toc": {
   "base_numbering": 1,
   "nav_menu": {},
   "number_sections": true,
   "sideBar": true,
   "skip_h1_title": false,
   "title_cell": "Table of Contents",
   "title_sidebar": "Contents",
   "toc_cell": false,
   "toc_position": {
    "height": "calc(100% - 180px)",
    "left": "10px",
    "top": "150px",
    "width": "380.684px"
   },
   "toc_section_display": true,
   "toc_window_display": false
  }
 },
 "nbformat": 4,
 "nbformat_minor": 1
}
